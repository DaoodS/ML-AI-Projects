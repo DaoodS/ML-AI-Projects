{
 "cells": [
  {
   "cell_type": "markdown",
   "metadata": {},
   "source": [
    "## POS tagging using modified Viterbi"
   ]
  },
  {
   "cell_type": "markdown",
   "metadata": {},
   "source": [
    "### Data Preparation"
   ]
  },
  {
   "cell_type": "code",
   "execution_count": 57,
   "metadata": {},
   "outputs": [],
   "source": [
    "#Importing libraries\n",
    "import nltk\n",
    "import time\n",
    "import random\n",
    "import numpy as np\n",
    "import pandas as pd\n",
    "import seaborn as sns\n",
    "import matplotlib.pyplot as plt\n",
    "from sklearn.model_selection import train_test_split"
   ]
  },
  {
   "cell_type": "code",
   "execution_count": 58,
   "metadata": {},
   "outputs": [],
   "source": [
    "# reading the Treebank tagged sentences\n",
    "nltk_data = list(nltk.corpus.treebank.tagged_sents(tagset='universal'))"
   ]
  },
  {
   "cell_type": "code",
   "execution_count": 59,
   "metadata": {},
   "outputs": [],
   "source": [
    "train_set, val_set = train_test_split(nltk_data, test_size=0.05)"
   ]
  },
  {
   "cell_type": "code",
   "execution_count": null,
   "metadata": {},
   "outputs": [],
   "source": []
  },
  {
   "cell_type": "markdown",
   "metadata": {},
   "source": [
    "### Build the vanilla Viterbi based POS tagger"
   ]
  },
  {
   "cell_type": "code",
   "execution_count": 60,
   "metadata": {},
   "outputs": [
    {
     "data": {
      "text/plain": [
       "95509"
      ]
     },
     "execution_count": 60,
     "metadata": {},
     "output_type": "execute_result"
    }
   ],
   "source": [
    "# Getting list of tagged words\n",
    "train_tagged_words = [tup for sent in train_set for tup in sent]\n",
    "len(train_tagged_words)"
   ]
  },
  {
   "cell_type": "code",
   "execution_count": 61,
   "metadata": {},
   "outputs": [
    {
     "data": {
      "text/plain": [
       "['Your',\n",
       " 'research',\n",
       " 'stopped',\n",
       " 'when',\n",
       " 'a',\n",
       " 'convenient',\n",
       " 'assertion',\n",
       " 'could',\n",
       " 'be',\n",
       " 'made']"
      ]
     },
     "execution_count": 61,
     "metadata": {},
     "output_type": "execute_result"
    }
   ],
   "source": [
    "tokens = [pair[0] for pair in train_tagged_words]\n",
    "tokens[:10]"
   ]
  },
  {
   "cell_type": "code",
   "execution_count": 62,
   "metadata": {},
   "outputs": [
    {
     "name": "stdout",
     "output_type": "stream",
     "text": [
      "12063\n"
     ]
    }
   ],
   "source": [
    "V = set(tokens)\n",
    "print(len(V))"
   ]
  },
  {
   "cell_type": "code",
   "execution_count": 63,
   "metadata": {},
   "outputs": [
    {
     "name": "stdout",
     "output_type": "stream",
     "text": [
      "12\n"
     ]
    },
    {
     "data": {
      "text/plain": [
       "{'.',\n",
       " 'ADJ',\n",
       " 'ADP',\n",
       " 'ADV',\n",
       " 'CONJ',\n",
       " 'DET',\n",
       " 'NOUN',\n",
       " 'NUM',\n",
       " 'PRON',\n",
       " 'PRT',\n",
       " 'VERB',\n",
       " 'X'}"
      ]
     },
     "execution_count": 63,
     "metadata": {},
     "output_type": "execute_result"
    }
   ],
   "source": [
    "T = set([pair[1] for pair in train_tagged_words])\n",
    "print(len(T))\n",
    "T"
   ]
  },
  {
   "cell_type": "code",
   "execution_count": 64,
   "metadata": {},
   "outputs": [],
   "source": [
    "t = len(T)\n",
    "v = len(V)\n",
    "w_given_t = np.zeros((t, v))"
   ]
  },
  {
   "cell_type": "code",
   "execution_count": 65,
   "metadata": {},
   "outputs": [],
   "source": [
    "def word_given_tag(word, tag, train_bag = train_tagged_words):\n",
    "    tag_list = [pair for pair in train_bag if pair[1]==tag]\n",
    "    count_tag = len(tag_list)\n",
    "    w_given_tag_list = [pair[0] for pair in tag_list if pair[0]==word]\n",
    "    count_w_given_tag = len(w_given_tag_list)\n",
    "    return (count_w_given_tag, count_tag)"
   ]
  },
  {
   "cell_type": "code",
   "execution_count": 66,
   "metadata": {},
   "outputs": [],
   "source": [
    "def t2_given_t1(t2, t1, train_bag = train_tagged_words):\n",
    "    tags = [pair[1] for pair in train_bag]\n",
    "    count_t1 = len([t for t in tags if t==t1])\n",
    "    count_t2_t1 = 0\n",
    "    for index in range(len(tags)-1):\n",
    "        if tags[index]==t1 and tags[index+1] == t2:\n",
    "            count_t2_t1 += 1\n",
    "    return (count_t2_t1, count_t1)"
   ]
  },
  {
   "cell_type": "code",
   "execution_count": 67,
   "metadata": {},
   "outputs": [],
   "source": [
    "tags_matrix = np.zeros((len(T), len(T)), dtype='float32')\n",
    "for i, t1 in enumerate(list(T)):\n",
    "    for j, t2 in enumerate(list(T)): \n",
    "        tags_matrix[i, j] = t2_given_t1(t2, t1)[0]/t2_given_t1(t2, t1)[1]"
   ]
  },
  {
   "cell_type": "code",
   "execution_count": 68,
   "metadata": {},
   "outputs": [
    {
     "data": {
      "text/html": [
       "<div>\n",
       "<style scoped>\n",
       "    .dataframe tbody tr th:only-of-type {\n",
       "        vertical-align: middle;\n",
       "    }\n",
       "\n",
       "    .dataframe tbody tr th {\n",
       "        vertical-align: top;\n",
       "    }\n",
       "\n",
       "    .dataframe thead th {\n",
       "        text-align: right;\n",
       "    }\n",
       "</style>\n",
       "<table border=\"1\" class=\"dataframe\">\n",
       "  <thead>\n",
       "    <tr style=\"text-align: right;\">\n",
       "      <th></th>\n",
       "      <th>ADV</th>\n",
       "      <th>DET</th>\n",
       "      <th>.</th>\n",
       "      <th>VERB</th>\n",
       "      <th>NOUN</th>\n",
       "      <th>CONJ</th>\n",
       "      <th>ADP</th>\n",
       "      <th>PRON</th>\n",
       "      <th>X</th>\n",
       "      <th>NUM</th>\n",
       "      <th>ADJ</th>\n",
       "      <th>PRT</th>\n",
       "    </tr>\n",
       "  </thead>\n",
       "  <tbody>\n",
       "    <tr>\n",
       "      <th>ADV</th>\n",
       "      <td>0.080586</td>\n",
       "      <td>0.068265</td>\n",
       "      <td>0.137862</td>\n",
       "      <td>0.344322</td>\n",
       "      <td>0.031302</td>\n",
       "      <td>0.006993</td>\n",
       "      <td>0.117882</td>\n",
       "      <td>0.015651</td>\n",
       "      <td>0.022311</td>\n",
       "      <td>0.029970</td>\n",
       "      <td>0.130203</td>\n",
       "      <td>0.014652</td>\n",
       "    </tr>\n",
       "    <tr>\n",
       "      <th>DET</th>\n",
       "      <td>0.012777</td>\n",
       "      <td>0.005545</td>\n",
       "      <td>0.017117</td>\n",
       "      <td>0.039778</td>\n",
       "      <td>0.637898</td>\n",
       "      <td>0.000482</td>\n",
       "      <td>0.009041</td>\n",
       "      <td>0.003616</td>\n",
       "      <td>0.046167</td>\n",
       "      <td>0.021697</td>\n",
       "      <td>0.205641</td>\n",
       "      <td>0.000241</td>\n",
       "    </tr>\n",
       "    <tr>\n",
       "      <th>.</th>\n",
       "      <td>0.052812</td>\n",
       "      <td>0.175439</td>\n",
       "      <td>0.092308</td>\n",
       "      <td>0.089429</td>\n",
       "      <td>0.221952</td>\n",
       "      <td>0.058120</td>\n",
       "      <td>0.090958</td>\n",
       "      <td>0.065227</td>\n",
       "      <td>0.026361</td>\n",
       "      <td>0.080792</td>\n",
       "      <td>0.044354</td>\n",
       "      <td>0.002159</td>\n",
       "    </tr>\n",
       "    <tr>\n",
       "      <th>VERB</th>\n",
       "      <td>0.081089</td>\n",
       "      <td>0.134475</td>\n",
       "      <td>0.035331</td>\n",
       "      <td>0.170973</td>\n",
       "      <td>0.109883</td>\n",
       "      <td>0.005603</td>\n",
       "      <td>0.089883</td>\n",
       "      <td>0.035175</td>\n",
       "      <td>0.217510</td>\n",
       "      <td>0.022957</td>\n",
       "      <td>0.065447</td>\n",
       "      <td>0.031673</td>\n",
       "    </tr>\n",
       "    <tr>\n",
       "      <th>NOUN</th>\n",
       "      <td>0.016895</td>\n",
       "      <td>0.013209</td>\n",
       "      <td>0.240175</td>\n",
       "      <td>0.146068</td>\n",
       "      <td>0.263820</td>\n",
       "      <td>0.042948</td>\n",
       "      <td>0.177522</td>\n",
       "      <td>0.004817</td>\n",
       "      <td>0.028973</td>\n",
       "      <td>0.009597</td>\n",
       "      <td>0.012516</td>\n",
       "      <td>0.043459</td>\n",
       "    </tr>\n",
       "  </tbody>\n",
       "</table>\n",
       "</div>"
      ],
      "text/plain": [
       "           ADV       DET         .      VERB      NOUN      CONJ       ADP  \\\n",
       "ADV   0.080586  0.068265  0.137862  0.344322  0.031302  0.006993  0.117882   \n",
       "DET   0.012777  0.005545  0.017117  0.039778  0.637898  0.000482  0.009041   \n",
       ".     0.052812  0.175439  0.092308  0.089429  0.221952  0.058120  0.090958   \n",
       "VERB  0.081089  0.134475  0.035331  0.170973  0.109883  0.005603  0.089883   \n",
       "NOUN  0.016895  0.013209  0.240175  0.146068  0.263820  0.042948  0.177522   \n",
       "\n",
       "          PRON         X       NUM       ADJ       PRT  \n",
       "ADV   0.015651  0.022311  0.029970  0.130203  0.014652  \n",
       "DET   0.003616  0.046167  0.021697  0.205641  0.000241  \n",
       ".     0.065227  0.026361  0.080792  0.044354  0.002159  \n",
       "VERB  0.035175  0.217510  0.022957  0.065447  0.031673  \n",
       "NOUN  0.004817  0.028973  0.009597  0.012516  0.043459  "
      ]
     },
     "execution_count": 68,
     "metadata": {},
     "output_type": "execute_result"
    }
   ],
   "source": [
    "tags_df = pd.DataFrame(tags_matrix, columns = list(T), index=list(T))\n",
    "tags_df.head()"
   ]
  },
  {
   "cell_type": "code",
   "execution_count": 69,
   "metadata": {},
   "outputs": [
    {
     "data": {
      "image/png": "[encoded data removed]",
      "text/plain": [
       "<Figure size 864x576 with 2 Axes>"
      ]
     },
     "metadata": {
      "needs_background": "light"
     },
     "output_type": "display_data"
    }
   ],
   "source": [
    "plt.figure(figsize=(12,8))\n",
    "sns.heatmap(tags_df)\n",
    "plt.show()"
   ]
  },
  {
   "cell_type": "code",
   "execution_count": 70,
   "metadata": {},
   "outputs": [
    {
     "data": {
      "image/png": "[encoded data removed]",
      "text/plain": [
       "<Figure size 864x576 with 2 Axes>"
      ]
     },
     "metadata": {
      "needs_background": "light"
     },
     "output_type": "display_data"
    }
   ],
   "source": [
    "tags_frequent = tags_df[tags_df>0.5]\n",
    "plt.figure(figsize=(12,8))\n",
    "sns.heatmap(tags_frequent)\n",
    "plt.show()"
   ]
  },
  {
   "cell_type": "code",
   "execution_count": 71,
   "metadata": {},
   "outputs": [],
   "source": [
    "# Viterbi Heuristic\n",
    "def Viterbi(words, train_bag=train_tagged_words):\n",
    "    state = []\n",
    "    T = list(set([pair[1] for pair in train_bag]))\n",
    "    \n",
    "    for key, word in enumerate(words):\n",
    "        p = [] \n",
    "        for tag in T:\n",
    "            if key == 0:\n",
    "                transition_p = tags_df.loc['.', tag]\n",
    "            else:\n",
    "                transition_p = tags_df.loc[state[-1], tag]\n",
    "                \n",
    "            emission_p = word_given_tag(words[key], tag)[0]/word_given_tag(words[key],tag)[1]\n",
    "            state_probability = emission_p*transition_p    \n",
    "            p.append(state_probability)\n",
    "            \n",
    "        pmax = max(p)\n",
    "        state_max = T[p.index(pmax)] \n",
    "        state.append(state_max)\n",
    "    return list(zip(words, state))"
   ]
  },
  {
   "cell_type": "code",
   "execution_count": 72,
   "metadata": {
    "scrolled": true
   },
   "outputs": [
    {
     "data": {
      "text/plain": [
       "[[('Mr.', 'NOUN'),\n",
       "  ('van', 'NOUN'),\n",
       "  ('Dover', 'NOUN'),\n",
       "  ('said', 'VERB'),\n",
       "  ('0', 'X'),\n",
       "  ('the', 'DET'),\n",
       "  ('crystal', 'NOUN'),\n",
       "  ('changes', 'VERB'),\n",
       "  ('0', 'X'),\n",
       "  ('his', 'PRON'),\n",
       "  ('team', 'NOUN'),\n",
       "  ('introduced', 'VERB'),\n",
       "  ('*T*-1', 'X'),\n",
       "  ('apparently', 'ADV'),\n",
       "  ('pins', 'VERB'),\n",
       "  ('the', 'DET'),\n",
       "  ('magnetic', 'ADJ'),\n",
       "  ('fields', 'NOUN'),\n",
       "  ('in', 'ADP'),\n",
       "  ('place', 'NOUN'),\n",
       "  (',', '.'),\n",
       "  ('*', 'X'),\n",
       "  ('preventing', 'VERB'),\n",
       "  ('them', 'PRON'),\n",
       "  ('from', 'ADP'),\n",
       "  ('*-3', 'X'),\n",
       "  ('lowering', 'VERB'),\n",
       "  ('current-carrying', 'ADJ'),\n",
       "  ('capacity', 'NOUN'),\n",
       "  ('.', '.')],\n",
       " [('The', 'DET'),\n",
       "  ('administration', 'NOUN'),\n",
       "  (',', '.'),\n",
       "  ('*-1', 'X'),\n",
       "  ('sticking', 'VERB'),\n",
       "  ('to', 'PRT'),\n",
       "  ('its', 'PRON'),\n",
       "  ('vow', 'NOUN'),\n",
       "  ('of', 'ADP'),\n",
       "  ('*', 'X'),\n",
       "  ('avoiding', 'VERB'),\n",
       "  ('tax', 'NOUN'),\n",
       "  ('increases', 'NOUN'),\n",
       "  (',', '.'),\n",
       "  ('has', 'VERB'),\n",
       "  ('staunchly', 'ADV'),\n",
       "  ('opposed', 'VERB'),\n",
       "  ('cost-sharing', 'NOUN'),\n",
       "  ('.', '.')],\n",
       " [('Carnival', 'NOUN'),\n",
       "  ('said', 'VERB'),\n",
       "  ('0', 'X'),\n",
       "  ('it', 'PRON'),\n",
       "  ('will', 'VERB'),\n",
       "  ('be', 'VERB'),\n",
       "  ('an', 'DET'),\n",
       "  ('11', 'NUM'),\n",
       "  ('%', 'NOUN'),\n",
       "  ('shareholder', 'NOUN'),\n",
       "  ('in', 'ADP'),\n",
       "  ('the', 'DET'),\n",
       "  ('new', 'ADJ'),\n",
       "  ('company', 'NOUN'),\n",
       "  ('.', '.')],\n",
       " [('``', '.'),\n",
       "  ('We', 'PRON'),\n",
       "  ('feel', 'VERB'),\n",
       "  ('very', 'ADV'),\n",
       "  ('strongly', 'ADV'),\n",
       "  ('that', 'ADP'),\n",
       "  ('we', 'PRON'),\n",
       "  ('really', 'ADV'),\n",
       "  ('need', 'VERB'),\n",
       "  ('action', 'NOUN'),\n",
       "  ('across', 'ADP'),\n",
       "  ('the', 'DET'),\n",
       "  ('full', 'ADJ'),\n",
       "  ('range', 'NOUN'),\n",
       "  ('of', 'ADP'),\n",
       "  ('issues', 'NOUN'),\n",
       "  ('0', 'X'),\n",
       "  ('we', 'PRON'),\n",
       "  (\"'ve\", 'VERB'),\n",
       "  ('identified', 'VERB'),\n",
       "  ('*T*-1', 'X'),\n",
       "  (',', '.'),\n",
       "  ('and', 'CONJ'),\n",
       "  ('we', 'PRON'),\n",
       "  ('need', 'VERB'),\n",
       "  ('it', 'PRON'),\n",
       "  ('by', 'ADP'),\n",
       "  ('next', 'ADJ'),\n",
       "  ('spring', 'NOUN'),\n",
       "  (',', '.'),\n",
       "  (\"''\", '.'),\n",
       "  ('Mr.', 'NOUN'),\n",
       "  ('Dallara', 'NOUN'),\n",
       "  ('says', 'VERB'),\n",
       "  ('*T*-2', 'X'),\n",
       "  ('.', '.')],\n",
       " [('ROGERS', 'NOUN'),\n",
       "  ('COMMUNICATIONS', 'NOUN'),\n",
       "  ('Inc.', 'NOUN'),\n",
       "  ('said', 'VERB'),\n",
       "  ('0', 'X'),\n",
       "  ('it', 'PRON'),\n",
       "  ('plans', 'VERB'),\n",
       "  ('*-1', 'X'),\n",
       "  ('to', 'PRT'),\n",
       "  ('raise', 'VERB'),\n",
       "  ('175', 'NUM'),\n",
       "  ('million', 'NUM'),\n",
       "  ('to', 'PRT'),\n",
       "  ('180', 'NUM'),\n",
       "  ('million', 'NUM'),\n",
       "  ('Canadian', 'ADJ'),\n",
       "  ('dollars', 'NOUN'),\n",
       "  ('-LRB-', '.'),\n",
       "  ('US$', '.'),\n",
       "  ('148.9', 'NUM'),\n",
       "  ('million', 'NUM'),\n",
       "  ('to', 'PRT'),\n",
       "  ('$', '.'),\n",
       "  ('153.3', 'NUM'),\n",
       "  ('million', 'NUM'),\n",
       "  ('*U*', 'X'),\n",
       "  ('-RRB-', '.'),\n",
       "  ('through', 'ADP'),\n",
       "  ('a', 'DET'),\n",
       "  ('private', 'ADJ'),\n",
       "  ('placement', 'NOUN'),\n",
       "  ('of', 'ADP'),\n",
       "  ('perpetual', 'ADJ'),\n",
       "  ('preferred', 'VERB'),\n",
       "  ('shares', 'NOUN'),\n",
       "  ('.', '.')]]"
      ]
     },
     "execution_count": 72,
     "metadata": {},
     "output_type": "execute_result"
    }
   ],
   "source": [
    "random.seed(1234)\n",
    "rndom = [random.randint(1,len(val_set)) for x in range(5)]\n",
    "val_run = [val_set[i] for i in rndom]\n",
    "val_run_base = [tup for sent in val_run for tup in sent]\n",
    "val_tagged_words = [tup[0] for sent in val_run for tup in sent]\n",
    "val_run"
   ]
  },
  {
   "cell_type": "code",
   "execution_count": 73,
   "metadata": {},
   "outputs": [
    {
     "name": "stdout",
     "output_type": "stream",
     "text": [
      "Time taken in seconds:  16.626214742660522\n"
     ]
    }
   ],
   "source": [
    "# tagging the test sentences\n",
    "start = time.time()\n",
    "tagged_seq = Viterbi(val_tagged_words)\n",
    "print(\"Time taken in seconds: \", time.time()-start)"
   ]
  },
  {
   "cell_type": "code",
   "execution_count": 74,
   "metadata": {},
   "outputs": [
    {
     "data": {
      "text/plain": [
       "0.9191176470588235"
      ]
     },
     "execution_count": 74,
     "metadata": {},
     "output_type": "execute_result"
    }
   ],
   "source": [
    "check = [i for i, j in zip(tagged_seq, val_run_base) if i == j]\n",
    "accuracy = len(check)/len(tagged_seq)\n",
    "accuracy"
   ]
  },
  {
   "cell_type": "code",
   "execution_count": null,
   "metadata": {},
   "outputs": [],
   "source": []
  },
  {
   "cell_type": "code",
   "execution_count": 75,
   "metadata": {},
   "outputs": [
    {
     "name": "stdout",
     "output_type": "stream",
     "text": [
      "11\n"
     ]
    },
    {
     "data": {
      "text/plain": [
       "[[('crystal', 'NOUN'), (('changes', 'NOUN'), ('changes', 'VERB'))],\n",
       " [('apparently', 'ADV'), (('pins', 'NOUN'), ('pins', 'VERB'))],\n",
       " [('*-1', 'X'), (('sticking', 'ADV'), ('sticking', 'VERB'))],\n",
       " [('its', 'PRON'), (('vow', 'ADV'), ('vow', 'NOUN'))],\n",
       " [('*', 'X'), (('avoiding', 'ADV'), ('avoiding', 'VERB'))],\n",
       " [('opposed', 'VERB'), (('cost-sharing', 'ADJ'), ('cost-sharing', 'NOUN'))],\n",
       " [('.', '.'), (('ROGERS', 'ADV'), ('ROGERS', 'NOUN'))],\n",
       " [('ROGERS', 'NOUN'), (('COMMUNICATIONS', 'ADV'), ('COMMUNICATIONS', 'NOUN'))],\n",
       " [('US$', '.'), (('148.9', 'ADV'), ('148.9', 'NUM'))],\n",
       " [('$', '.'), (('153.3', 'ADV'), ('153.3', 'NUM'))],\n",
       " [('of', 'ADP'), (('perpetual', 'ADV'), ('perpetual', 'ADJ'))]]"
      ]
     },
     "execution_count": 75,
     "metadata": {},
     "output_type": "execute_result"
    }
   ],
   "source": [
    "incorrect_tagged_cases = [[val_run_base[i-1],j] for i, j in enumerate(zip(tagged_seq, val_run_base)) if j[0]!=j[1]]\n",
    "print(len(incorrect_tagged_cases))\n",
    "incorrect_tagged_cases"
   ]
  },
  {
   "cell_type": "code",
   "execution_count": 76,
   "metadata": {},
   "outputs": [
    {
     "name": "stdout",
     "output_type": "stream",
     "text": [
      "11\n"
     ]
    },
    {
     "data": {
      "text/plain": [
       "[(('changes', 'NOUN'), ('changes', 'VERB')),\n",
       " (('pins', 'NOUN'), ('pins', 'VERB')),\n",
       " (('sticking', 'ADV'), ('sticking', 'VERB')),\n",
       " (('vow', 'ADV'), ('vow', 'NOUN')),\n",
       " (('avoiding', 'ADV'), ('avoiding', 'VERB')),\n",
       " (('cost-sharing', 'ADJ'), ('cost-sharing', 'NOUN')),\n",
       " (('ROGERS', 'ADV'), ('ROGERS', 'NOUN')),\n",
       " (('COMMUNICATIONS', 'ADV'), ('COMMUNICATIONS', 'NOUN')),\n",
       " (('148.9', 'ADV'), ('148.9', 'NUM')),\n",
       " (('153.3', 'ADV'), ('153.3', 'NUM')),\n",
       " (('perpetual', 'ADV'), ('perpetual', 'ADJ'))]"
      ]
     },
     "execution_count": 76,
     "metadata": {},
     "output_type": "execute_result"
    }
   ],
   "source": [
    "# let's check the incorrectly tagged words\n",
    "incorrect_tagged_words = [j for i, j in enumerate(zip(tagged_seq, val_run_base)) if j[0] != j[1]]\n",
    "print(len(incorrect_tagged_words))\n",
    "incorrect_tagged_words"
   ]
  },
  {
   "cell_type": "code",
   "execution_count": 77,
   "metadata": {},
   "outputs": [
    {
     "name": "stdout",
     "output_type": "stream",
     "text": [
      "9\n",
      "['COMMUNICATIONS', '153.3', 'perpetual', 'vow', 'ROGERS', 'staunchly', 'avoiding', '148.9', 'sticking']\n"
     ]
    }
   ],
   "source": [
    "val_tokens = set([t for t in val_tagged_words])\n",
    "unknown_words = list(val_tokens-set(tokens))\n",
    "print(len(unknown_words))\n",
    "print(unknown_words)"
   ]
  },
  {
   "cell_type": "code",
   "execution_count": null,
   "metadata": {},
   "outputs": [],
   "source": []
  },
  {
   "cell_type": "markdown",
   "metadata": {},
   "source": [
    "### POS tagging for Test File"
   ]
  },
  {
   "cell_type": "code",
   "execution_count": 78,
   "metadata": {
    "scrolled": true
   },
   "outputs": [
    {
     "data": {
      "text/plain": [
       "['Android',\n",
       " 'is',\n",
       " 'a',\n",
       " 'mobile',\n",
       " 'operating',\n",
       " 'system',\n",
       " 'developed',\n",
       " 'by',\n",
       " 'Google',\n",
       " '.',\n",
       " 'Android',\n",
       " 'has',\n",
       " 'been',\n",
       " 'the',\n",
       " 'best-selling',\n",
       " 'OS',\n",
       " 'worldwide',\n",
       " 'on',\n",
       " 'smartphones',\n",
       " 'since',\n",
       " '2011',\n",
       " 'and',\n",
       " 'on',\n",
       " 'tablets',\n",
       " 'since',\n",
       " '2013',\n",
       " '.',\n",
       " 'Google',\n",
       " 'and',\n",
       " 'Twitter',\n",
       " 'made',\n",
       " 'a',\n",
       " 'deal',\n",
       " 'in',\n",
       " '2015',\n",
       " 'that',\n",
       " 'gave',\n",
       " 'Google',\n",
       " 'access',\n",
       " 'to',\n",
       " 'Twitter',\n",
       " \"'s\",\n",
       " 'firehose',\n",
       " '.',\n",
       " 'Twitter',\n",
       " 'is',\n",
       " 'an',\n",
       " 'online',\n",
       " 'news',\n",
       " 'and',\n",
       " 'social',\n",
       " 'networking',\n",
       " 'service',\n",
       " 'on',\n",
       " 'which',\n",
       " 'users',\n",
       " 'post',\n",
       " 'and',\n",
       " 'interact',\n",
       " 'with',\n",
       " 'messages',\n",
       " 'known',\n",
       " 'as',\n",
       " 'tweets',\n",
       " '.',\n",
       " 'Before',\n",
       " 'entering',\n",
       " 'politics',\n",
       " ',',\n",
       " 'Donald',\n",
       " 'Trump',\n",
       " 'was',\n",
       " 'a',\n",
       " 'domineering',\n",
       " 'businessman',\n",
       " 'and',\n",
       " 'a',\n",
       " 'television',\n",
       " 'personality',\n",
       " '.',\n",
       " 'The',\n",
       " '2018',\n",
       " 'FIFA',\n",
       " 'World',\n",
       " 'Cup',\n",
       " 'is',\n",
       " 'the',\n",
       " '21st',\n",
       " 'FIFA',\n",
       " 'World',\n",
       " 'Cup',\n",
       " ',',\n",
       " 'an',\n",
       " 'international',\n",
       " 'football',\n",
       " 'tournament',\n",
       " 'contested',\n",
       " 'once',\n",
       " 'every',\n",
       " 'four',\n",
       " 'years',\n",
       " '.',\n",
       " 'This',\n",
       " 'is',\n",
       " 'the',\n",
       " 'first',\n",
       " 'World',\n",
       " 'Cup',\n",
       " 'to',\n",
       " 'be',\n",
       " 'held',\n",
       " 'in',\n",
       " 'Eastern',\n",
       " 'Europe',\n",
       " 'and',\n",
       " 'the',\n",
       " '11th',\n",
       " 'time',\n",
       " 'that',\n",
       " 'it',\n",
       " 'has',\n",
       " 'been',\n",
       " 'held',\n",
       " 'in',\n",
       " 'Europe',\n",
       " '.',\n",
       " 'Show',\n",
       " 'me',\n",
       " 'the',\n",
       " 'cheapest',\n",
       " 'round',\n",
       " 'trips',\n",
       " 'from',\n",
       " 'Dallas',\n",
       " 'to',\n",
       " 'Atlanta',\n",
       " 'I',\n",
       " 'would',\n",
       " 'like',\n",
       " 'to',\n",
       " 'see',\n",
       " 'flights',\n",
       " 'from',\n",
       " 'Denver',\n",
       " 'to',\n",
       " 'Philadelphia',\n",
       " '.',\n",
       " 'Show',\n",
       " 'me',\n",
       " 'the',\n",
       " 'price',\n",
       " 'of',\n",
       " 'the',\n",
       " 'flights',\n",
       " 'leaving',\n",
       " 'Atlanta',\n",
       " 'at',\n",
       " 'about',\n",
       " '3',\n",
       " 'in',\n",
       " 'the',\n",
       " 'afternoon',\n",
       " 'and',\n",
       " 'arriving',\n",
       " 'in',\n",
       " 'San',\n",
       " 'Francisco',\n",
       " '.',\n",
       " 'NASA',\n",
       " 'invited',\n",
       " 'social',\n",
       " 'media',\n",
       " 'users',\n",
       " 'to',\n",
       " 'experience',\n",
       " 'the',\n",
       " 'launch',\n",
       " 'of',\n",
       " 'ICESAT-2',\n",
       " 'Satellite',\n",
       " '.']"
      ]
     },
     "execution_count": 78,
     "metadata": {},
     "output_type": "execute_result"
    }
   ],
   "source": [
    "f = open('Test_sentences.txt', \"r\")\n",
    "test_text = f.read()\n",
    "test_token = nltk.word_tokenize(test_text)\n",
    "test_token"
   ]
  },
  {
   "cell_type": "code",
   "execution_count": 79,
   "metadata": {},
   "outputs": [
    {
     "name": "stdout",
     "output_type": "stream",
     "text": [
      "Time taken in seconds:  24.164047718048096\n"
     ]
    }
   ],
   "source": [
    "start = time.time()\n",
    "test_tagged_seq = Viterbi(test_token)\n",
    "print(\"Time taken in seconds: \", time.time()-start)"
   ]
  },
  {
   "cell_type": "code",
   "execution_count": 80,
   "metadata": {},
   "outputs": [
    {
     "data": {
      "text/plain": [
       "[('Android', 'ADV'),\n",
       " ('is', 'VERB'),\n",
       " ('a', 'DET'),\n",
       " ('mobile', 'ADJ'),\n",
       " ('operating', 'NOUN'),\n",
       " ('system', 'NOUN'),\n",
       " ('developed', 'VERB'),\n",
       " ('by', 'ADP'),\n",
       " ('Google', 'ADV'),\n",
       " ('.', '.'),\n",
       " ('Android', 'ADV'),\n",
       " ('has', 'VERB'),\n",
       " ('been', 'VERB'),\n",
       " ('the', 'DET'),\n",
       " ('best-selling', 'ADJ'),\n",
       " ('OS', 'ADV'),\n",
       " ('worldwide', 'ADV'),\n",
       " ('on', 'ADP'),\n",
       " ('smartphones', 'ADV'),\n",
       " ('since', 'ADP'),\n",
       " ('2011', 'ADV'),\n",
       " ('and', 'CONJ'),\n",
       " ('on', 'ADP'),\n",
       " ('tablets', 'NOUN'),\n",
       " ('since', 'ADP'),\n",
       " ('2013', 'ADV'),\n",
       " ('.', '.'),\n",
       " ('Google', 'ADV'),\n",
       " ('and', 'CONJ'),\n",
       " ('Twitter', 'ADV'),\n",
       " ('made', 'VERB'),\n",
       " ('a', 'DET'),\n",
       " ('deal', 'NOUN'),\n",
       " ('in', 'ADP'),\n",
       " ('2015', 'ADV'),\n",
       " ('that', 'ADP'),\n",
       " ('gave', 'VERB'),\n",
       " ('Google', 'ADV'),\n",
       " ('access', 'NOUN'),\n",
       " ('to', 'PRT'),\n",
       " ('Twitter', 'ADV'),\n",
       " (\"'s\", 'PRT'),\n",
       " ('firehose', 'ADV'),\n",
       " ('.', '.'),\n",
       " ('Twitter', 'ADV'),\n",
       " ('is', 'VERB'),\n",
       " ('an', 'DET'),\n",
       " ('online', 'ADV'),\n",
       " ('news', 'NOUN'),\n",
       " ('and', 'CONJ'),\n",
       " ('social', 'ADJ'),\n",
       " ('networking', 'NOUN'),\n",
       " ('service', 'NOUN'),\n",
       " ('on', 'ADP'),\n",
       " ('which', 'DET'),\n",
       " ('users', 'NOUN'),\n",
       " ('post', 'NOUN'),\n",
       " ('and', 'CONJ'),\n",
       " ('interact', 'ADV'),\n",
       " ('with', 'ADP'),\n",
       " ('messages', 'ADV'),\n",
       " ('known', 'VERB'),\n",
       " ('as', 'ADP'),\n",
       " ('tweets', 'ADV'),\n",
       " ('.', '.'),\n",
       " ('Before', 'ADP'),\n",
       " ('entering', 'VERB'),\n",
       " ('politics', 'NOUN'),\n",
       " (',', '.'),\n",
       " ('Donald', 'NOUN'),\n",
       " ('Trump', 'NOUN'),\n",
       " ('was', 'VERB'),\n",
       " ('a', 'DET'),\n",
       " ('domineering', 'ADV'),\n",
       " ('businessman', 'NOUN'),\n",
       " ('and', 'CONJ'),\n",
       " ('a', 'DET'),\n",
       " ('television', 'NOUN'),\n",
       " ('personality', 'ADV'),\n",
       " ('.', '.'),\n",
       " ('The', 'DET'),\n",
       " ('2018', 'ADV'),\n",
       " ('FIFA', 'ADV'),\n",
       " ('World', 'NOUN'),\n",
       " ('Cup', 'ADV'),\n",
       " ('is', 'VERB'),\n",
       " ('the', 'DET'),\n",
       " ('21st', 'ADV'),\n",
       " ('FIFA', 'ADV'),\n",
       " ('World', 'NOUN'),\n",
       " ('Cup', 'ADV'),\n",
       " (',', '.'),\n",
       " ('an', 'DET'),\n",
       " ('international', 'ADJ'),\n",
       " ('football', 'NOUN'),\n",
       " ('tournament', 'ADV'),\n",
       " ('contested', 'ADV'),\n",
       " ('once', 'ADV'),\n",
       " ('every', 'DET'),\n",
       " ('four', 'NUM'),\n",
       " ('years', 'NOUN'),\n",
       " ('.', '.'),\n",
       " ('This', 'DET'),\n",
       " ('is', 'VERB'),\n",
       " ('the', 'DET'),\n",
       " ('first', 'ADJ'),\n",
       " ('World', 'NOUN'),\n",
       " ('Cup', 'ADV'),\n",
       " ('to', 'PRT'),\n",
       " ('be', 'VERB'),\n",
       " ('held', 'VERB'),\n",
       " ('in', 'ADP'),\n",
       " ('Eastern', 'NOUN'),\n",
       " ('Europe', 'NOUN'),\n",
       " ('and', 'CONJ'),\n",
       " ('the', 'DET'),\n",
       " ('11th', 'ADJ'),\n",
       " ('time', 'NOUN'),\n",
       " ('that', 'ADP'),\n",
       " ('it', 'PRON'),\n",
       " ('has', 'VERB'),\n",
       " ('been', 'VERB'),\n",
       " ('held', 'VERB'),\n",
       " ('in', 'ADP'),\n",
       " ('Europe', 'NOUN'),\n",
       " ('.', '.'),\n",
       " ('Show', 'NOUN'),\n",
       " ('me', 'PRON'),\n",
       " ('the', 'DET'),\n",
       " ('cheapest', 'ADJ'),\n",
       " ('round', 'NOUN'),\n",
       " ('trips', 'ADV'),\n",
       " ('from', 'ADP'),\n",
       " ('Dallas', 'NOUN'),\n",
       " ('to', 'PRT'),\n",
       " ('Atlanta', 'NOUN'),\n",
       " ('I', 'PRON'),\n",
       " ('would', 'VERB'),\n",
       " ('like', 'ADP'),\n",
       " ('to', 'PRT'),\n",
       " ('see', 'VERB'),\n",
       " ('flights', 'NOUN'),\n",
       " ('from', 'ADP'),\n",
       " ('Denver', 'NOUN'),\n",
       " ('to', 'PRT'),\n",
       " ('Philadelphia', 'NOUN'),\n",
       " ('.', '.'),\n",
       " ('Show', 'NOUN'),\n",
       " ('me', 'PRON'),\n",
       " ('the', 'DET'),\n",
       " ('price', 'NOUN'),\n",
       " ('of', 'ADP'),\n",
       " ('the', 'DET'),\n",
       " ('flights', 'NOUN'),\n",
       " ('leaving', 'VERB'),\n",
       " ('Atlanta', 'NOUN'),\n",
       " ('at', 'ADP'),\n",
       " ('about', 'ADP'),\n",
       " ('3', 'NUM'),\n",
       " ('in', 'ADP'),\n",
       " ('the', 'DET'),\n",
       " ('afternoon', 'NOUN'),\n",
       " ('and', 'CONJ'),\n",
       " ('arriving', 'ADV'),\n",
       " ('in', 'ADP'),\n",
       " ('San', 'NOUN'),\n",
       " ('Francisco', 'NOUN'),\n",
       " ('.', '.'),\n",
       " ('NASA', 'ADV'),\n",
       " ('invited', 'ADV'),\n",
       " ('social', 'ADJ'),\n",
       " ('media', 'NOUN'),\n",
       " ('users', 'NOUN'),\n",
       " ('to', 'PRT'),\n",
       " ('experience', 'NOUN'),\n",
       " ('the', 'DET'),\n",
       " ('launch', 'NOUN'),\n",
       " ('of', 'ADP'),\n",
       " ('ICESAT-2', 'ADV'),\n",
       " ('Satellite', 'ADV'),\n",
       " ('.', '.')]"
      ]
     },
     "execution_count": 80,
     "metadata": {},
     "output_type": "execute_result"
    }
   ],
   "source": [
    "test_tagged_seq"
   ]
  },
  {
   "cell_type": "code",
   "execution_count": null,
   "metadata": {},
   "outputs": [],
   "source": []
  },
  {
   "cell_type": "markdown",
   "metadata": {},
   "source": [
    "### Solve the problem of unknown words\n",
    "1. Checking accuracy of Unigram/Bigram/Trigram Models with Rule Based Combination  \n",
    "2. Modified Viterbi Algorithms with Better 2 Performing Models from prior"
   ]
  },
  {
   "cell_type": "code",
   "execution_count": 81,
   "metadata": {},
   "outputs": [],
   "source": [
    "# specify patterns for tagging example from the NLTK book\n",
    "patterns = [\n",
    "    (r'.*ing$', 'VBG'),              # gerund\n",
    "    (r'.*ed$', 'VBD'),               # past tense\n",
    "    (r'.*es$', 'VBZ'),               # 3rd singular present\n",
    "    (r'.*ould$', 'MD'),              # modals\n",
    "    (r'.*\\'s$', 'NN$'),              # possessive nouns\n",
    "    (r'.*s$', 'NNS'),                # plural nouns\n",
    "    (r'^-?[0-9]+(.[0-9]+)?$', 'CD'), # cardinal numbers\n",
    "    (r'.*', 'NN')                    # nouns\n",
    "]"
   ]
  },
  {
   "cell_type": "code",
   "execution_count": 82,
   "metadata": {},
   "outputs": [
    {
     "name": "stdout",
     "output_type": "stream",
     "text": [
      "Accuracy Unigram - 0.9047803367524676\n",
      "Accuracy Bigram - 0.9057480162570157\n",
      "Accuracy Trigram - 0.9065221598606541\n"
     ]
    }
   ],
   "source": [
    "rulebased = nltk.RegexpTagger(patterns)\n",
    "UnigramModel = nltk.UnigramTagger(train_set, backoff=rulebased)\n",
    "print(\"Accuracy Unigram - {}\".format(UnigramModel.evaluate(val_set)))\n",
    "\n",
    "BigramModel = nltk.BigramTagger(train_set, backoff=UnigramModel)\n",
    "print(\"Accuracy Bigram - {}\".format(BigramModel.evaluate(val_set)))\n",
    "\n",
    "TrigramModel = nltk.TrigramTagger(train_set, backoff=BigramModel)\n",
    "print(\"Accuracy Trigram - {}\".format(TrigramModel.evaluate(val_set)))"
   ]
  },
  {
   "cell_type": "code",
   "execution_count": null,
   "metadata": {},
   "outputs": [],
   "source": []
  },
  {
   "cell_type": "markdown",
   "metadata": {},
   "source": [
    "## Modified Viterbi"
   ]
  },
  {
   "cell_type": "code",
   "execution_count": 83,
   "metadata": {},
   "outputs": [],
   "source": [
    "# Modified Patterns to solve problem of Unknown Words\n",
    "modified_patterns = [\n",
    "    (r'.*ing$', 'VERB'),              # gerund\n",
    "    (r'.*ed$', 'VERB'),               # past tense\n",
    "    (r'.*es$', 'VERB'),               # 3rd singular present\n",
    "    (r'.*ould$', 'X'),                # modals\n",
    "    (r'.*\\'s$', 'NOUN'),              # possessive nouns\n",
    "    (r'.*s$', 'NOUN'),                # plural nouns\n",
    "    (r'^-?[0-9]+(.[0-9]+)?$', 'NUM'),  # cardinal numbers\n",
    "    (r'.*', 'NOUN'),                  # nouns\n",
    "]"
   ]
  },
  {
   "cell_type": "code",
   "execution_count": 84,
   "metadata": {},
   "outputs": [
    {
     "name": "stdout",
     "output_type": "stream",
     "text": [
      "Accuracy Unigram - 0.9487129862589511\n",
      "Accuracy Bigram - 0.9487129862589511\n",
      "Accuracy Trigram - 0.9487129862589511\n"
     ]
    }
   ],
   "source": [
    "rulebased2 = nltk.RegexpTagger(modified_patterns)\n",
    "UnigramModel2 = nltk.UnigramTagger(train_set, backoff=rulebased2)\n",
    "print(\"Accuracy Unigram - {}\".format(UnigramModel2.evaluate(val_set)))\n",
    "\n",
    "BigramModel2 = nltk.BigramTagger(train_set, backoff=UnigramModel2)\n",
    "print(\"Accuracy Bigram - {}\".format(BigramModel2.evaluate(val_set)))\n",
    "\n",
    "TrigramModel2 = nltk.TrigramTagger(train_set, backoff=BigramModel2)\n",
    "print(\"Accuracy Trigram - {}\".format(TrigramModel2.evaluate(val_set)))"
   ]
  },
  {
   "cell_type": "markdown",
   "metadata": {},
   "source": [
    "## Modified Viterbi 1"
   ]
  },
  {
   "cell_type": "code",
   "execution_count": 85,
   "metadata": {},
   "outputs": [],
   "source": [
    "# Modified Viterbi Heuristic with RuleBased Tagger\n",
    "def RuleBasedViterbi(words, train_bag=train_tagged_words):\n",
    "    state = []\n",
    "    T = list(set([pair[1] for pair in train_bag]))\n",
    "    \n",
    "    for key, word in enumerate(words):\n",
    "        if word not in tokens:\n",
    "            unknown_tag = rulebased2.tag_sents([[(word)]])\n",
    "            for i in unknown_tag:\n",
    "                for tup in i:\n",
    "                    state.append(tup[1])\n",
    "        else:\n",
    "            p = [] \n",
    "            for tag in T:\n",
    "                if key == 0:\n",
    "                    transition_p = tags_df.loc['.', tag]\n",
    "                else:\n",
    "                    transition_p = tags_df.loc[state[-1], tag]\n",
    "\n",
    "                emission_p = word_given_tag(words[key], tag)[0]/word_given_tag(words[key], tag)[1]\n",
    "                state_probability = emission_p * transition_p    \n",
    "                p.append(state_probability)\n",
    "\n",
    "            pmax = max(p)\n",
    "            state_max = T[p.index(pmax)] \n",
    "            state.append(state_max)\n",
    "    return list(zip(words, state))"
   ]
  },
  {
   "cell_type": "code",
   "execution_count": 86,
   "metadata": {
    "scrolled": true
   },
   "outputs": [
    {
     "name": "stdout",
     "output_type": "stream",
     "text": [
      "Time taken in seconds:  17.774556636810303\n"
     ]
    }
   ],
   "source": [
    "start = time.time()\n",
    "final_tagged_seq1 = RuleBasedViterbi(val_tagged_words)\n",
    "print(\"Time taken in seconds: \", time.time()-start)"
   ]
  },
  {
   "cell_type": "code",
   "execution_count": null,
   "metadata": {},
   "outputs": [],
   "source": []
  },
  {
   "cell_type": "markdown",
   "metadata": {},
   "source": [
    "## Modified Viterbi 2"
   ]
  },
  {
   "cell_type": "code",
   "execution_count": 87,
   "metadata": {},
   "outputs": [],
   "source": [
    "# Modified Viterbi Heuristic with Trigram Tagger\n",
    "def TrigramViterbi(words, train_bag=train_tagged_words):\n",
    "    state = []\n",
    "    T = list(set([pair[1] for pair in train_bag]))\n",
    "    \n",
    "    for key, word in enumerate(words):\n",
    "        if word not in tokens:\n",
    "            unknown_tag = TrigramModel2.tag_sents([[(word)]])\n",
    "            for i in unknown_tag:\n",
    "                for tup in i:\n",
    "                    state.append(tup[1])\n",
    "        else:\n",
    "            p = [] \n",
    "            for tag in T:\n",
    "                if key == 0:\n",
    "                    transition_p = tags_df.loc['.', tag]\n",
    "                else:\n",
    "                    transition_p = tags_df.loc[state[-1], tag]\n",
    "\n",
    "                emission_p = word_given_tag(words[key], tag)[0]/word_given_tag(words[key], tag)[1]\n",
    "                state_probability = emission_p * transition_p    \n",
    "                p.append(state_probability)\n",
    "\n",
    "            pmax = max(p)\n",
    "            state_max = T[p.index(pmax)] \n",
    "            state.append(state_max)\n",
    "    return list(zip(words, state))"
   ]
  },
  {
   "cell_type": "code",
   "execution_count": 88,
   "metadata": {
    "scrolled": true
   },
   "outputs": [
    {
     "name": "stdout",
     "output_type": "stream",
     "text": [
      "Time taken in seconds:  21.615761518478394\n"
     ]
    }
   ],
   "source": [
    "start = time.time()\n",
    "final_tagged_seq2 = TrigramViterbi(val_tagged_words)\n",
    "print(\"Time taken in seconds: \", time.time()-start)"
   ]
  },
  {
   "cell_type": "code",
   "execution_count": null,
   "metadata": {},
   "outputs": [],
   "source": []
  },
  {
   "cell_type": "markdown",
   "metadata": {},
   "source": [
    "#### Evaluating tagging accuracy"
   ]
  },
  {
   "cell_type": "code",
   "execution_count": 89,
   "metadata": {},
   "outputs": [
    {
     "data": {
      "text/plain": [
       "0.9632352941176471"
      ]
     },
     "execution_count": 89,
     "metadata": {},
     "output_type": "execute_result"
    }
   ],
   "source": [
    "check2 = [i for i, j in zip(final_tagged_seq1, val_run_base) if i==j]\n",
    "new_accuracy1 = len(check2)/len(final_tagged_seq1)\n",
    "new_accuracy1"
   ]
  },
  {
   "cell_type": "code",
   "execution_count": 90,
   "metadata": {},
   "outputs": [
    {
     "data": {
      "text/plain": [
       "0.9632352941176471"
      ]
     },
     "execution_count": 90,
     "metadata": {},
     "output_type": "execute_result"
    }
   ],
   "source": [
    "check3 = [i for i, j in zip(final_tagged_seq2, val_run_base) if i==j]\n",
    "new_accuracy2 = len(check3)/len(final_tagged_seq2)\n",
    "new_accuracy2"
   ]
  },
  {
   "cell_type": "code",
   "execution_count": null,
   "metadata": {},
   "outputs": [],
   "source": []
  },
  {
   "cell_type": "markdown",
   "metadata": {},
   "source": [
    "### Compare the tagging accuracies of the modifications with the vanilla Viterbi algorithm"
   ]
  },
  {
   "cell_type": "code",
   "execution_count": 91,
   "metadata": {},
   "outputs": [
    {
     "name": "stdout",
     "output_type": "stream",
     "text": [
      "11\n"
     ]
    },
    {
     "data": {
      "text/plain": [
       "[(('changes', 'NOUN'), ('changes', 'VERB')),\n",
       " (('pins', 'NOUN'), ('pins', 'VERB')),\n",
       " (('sticking', 'ADV'), ('sticking', 'VERB')),\n",
       " (('vow', 'ADV'), ('vow', 'NOUN')),\n",
       " (('avoiding', 'ADV'), ('avoiding', 'VERB')),\n",
       " (('cost-sharing', 'ADJ'), ('cost-sharing', 'NOUN')),\n",
       " (('ROGERS', 'ADV'), ('ROGERS', 'NOUN')),\n",
       " (('COMMUNICATIONS', 'ADV'), ('COMMUNICATIONS', 'NOUN')),\n",
       " (('148.9', 'ADV'), ('148.9', 'NUM')),\n",
       " (('153.3', 'ADV'), ('153.3', 'NUM')),\n",
       " (('perpetual', 'ADV'), ('perpetual', 'ADJ'))]"
      ]
     },
     "execution_count": 91,
     "metadata": {},
     "output_type": "execute_result"
    }
   ],
   "source": [
    "print(len(incorrect_tagged_words))\n",
    "incorrect_tagged_words"
   ]
  },
  {
   "cell_type": "code",
   "execution_count": 92,
   "metadata": {},
   "outputs": [
    {
     "name": "stdout",
     "output_type": "stream",
     "text": [
      "5\n"
     ]
    },
    {
     "data": {
      "text/plain": [
       "[(('changes', 'NOUN'), ('changes', 'VERB')),\n",
       " (('pins', 'NOUN'), ('pins', 'VERB')),\n",
       " (('staunchly', 'NOUN'), ('staunchly', 'ADV')),\n",
       " (('cost-sharing', 'ADJ'), ('cost-sharing', 'NOUN')),\n",
       " (('perpetual', 'NOUN'), ('perpetual', 'ADJ'))]"
      ]
     },
     "execution_count": 92,
     "metadata": {},
     "output_type": "execute_result"
    }
   ],
   "source": [
    "final_incorrect_tagged_words1 = [j for i, j in enumerate(zip(final_tagged_seq1, val_run_base)) if j[0] != j[1]]\n",
    "print(len(final_incorrect_tagged_words1))\n",
    "final_incorrect_tagged_words1"
   ]
  },
  {
   "cell_type": "code",
   "execution_count": 93,
   "metadata": {},
   "outputs": [
    {
     "name": "stdout",
     "output_type": "stream",
     "text": [
      "5\n"
     ]
    },
    {
     "data": {
      "text/plain": [
       "[(('changes', 'NOUN'), ('changes', 'VERB')),\n",
       " (('pins', 'NOUN'), ('pins', 'VERB')),\n",
       " (('staunchly', 'NOUN'), ('staunchly', 'ADV')),\n",
       " (('cost-sharing', 'ADJ'), ('cost-sharing', 'NOUN')),\n",
       " (('perpetual', 'NOUN'), ('perpetual', 'ADJ'))]"
      ]
     },
     "execution_count": 93,
     "metadata": {},
     "output_type": "execute_result"
    }
   ],
   "source": [
    "final_incorrect_tagged_words2 = [j for i, j in enumerate(zip(final_tagged_seq2, val_run_base)) if j[0] != j[1]]\n",
    "print(len(final_incorrect_tagged_words2))\n",
    "final_incorrect_tagged_words2"
   ]
  },
  {
   "cell_type": "code",
   "execution_count": null,
   "metadata": {},
   "outputs": [],
   "source": []
  },
  {
   "cell_type": "code",
   "execution_count": 94,
   "metadata": {},
   "outputs": [
    {
     "name": "stdout",
     "output_type": "stream",
     "text": [
      "11\n"
     ]
    },
    {
     "data": {
      "text/plain": [
       "[[('crystal', 'NOUN'), (('changes', 'NOUN'), ('changes', 'VERB'))],\n",
       " [('apparently', 'ADV'), (('pins', 'NOUN'), ('pins', 'VERB'))],\n",
       " [('*-1', 'X'), (('sticking', 'ADV'), ('sticking', 'VERB'))],\n",
       " [('its', 'PRON'), (('vow', 'ADV'), ('vow', 'NOUN'))],\n",
       " [('*', 'X'), (('avoiding', 'ADV'), ('avoiding', 'VERB'))],\n",
       " [('opposed', 'VERB'), (('cost-sharing', 'ADJ'), ('cost-sharing', 'NOUN'))],\n",
       " [('.', '.'), (('ROGERS', 'ADV'), ('ROGERS', 'NOUN'))],\n",
       " [('ROGERS', 'NOUN'), (('COMMUNICATIONS', 'ADV'), ('COMMUNICATIONS', 'NOUN'))],\n",
       " [('US$', '.'), (('148.9', 'ADV'), ('148.9', 'NUM'))],\n",
       " [('$', '.'), (('153.3', 'ADV'), ('153.3', 'NUM'))],\n",
       " [('of', 'ADP'), (('perpetual', 'ADV'), ('perpetual', 'ADJ'))]]"
      ]
     },
     "execution_count": 94,
     "metadata": {},
     "output_type": "execute_result"
    }
   ],
   "source": [
    "print(len(incorrect_tagged_cases))\n",
    "incorrect_tagged_cases"
   ]
  },
  {
   "cell_type": "code",
   "execution_count": 95,
   "metadata": {},
   "outputs": [
    {
     "name": "stdout",
     "output_type": "stream",
     "text": [
      "5\n"
     ]
    },
    {
     "data": {
      "text/plain": [
       "[[('crystal', 'NOUN'), (('changes', 'NOUN'), ('changes', 'VERB'))],\n",
       " [('apparently', 'ADV'), (('pins', 'NOUN'), ('pins', 'VERB'))],\n",
       " [('has', 'VERB'), (('staunchly', 'NOUN'), ('staunchly', 'ADV'))],\n",
       " [('opposed', 'VERB'), (('cost-sharing', 'ADJ'), ('cost-sharing', 'NOUN'))],\n",
       " [('of', 'ADP'), (('perpetual', 'NOUN'), ('perpetual', 'ADJ'))]]"
      ]
     },
     "execution_count": 95,
     "metadata": {},
     "output_type": "execute_result"
    }
   ],
   "source": [
    "final_incorrect_tagged_cases1 = [[val_run_base[i-1],j] for i, j in enumerate(zip(final_tagged_seq2, val_run_base)) if j[0]!=j[1]]\n",
    "print(len(final_incorrect_tagged_cases1))\n",
    "final_incorrect_tagged_cases1"
   ]
  },
  {
   "cell_type": "code",
   "execution_count": 96,
   "metadata": {},
   "outputs": [
    {
     "name": "stdout",
     "output_type": "stream",
     "text": [
      "5\n"
     ]
    },
    {
     "data": {
      "text/plain": [
       "[[('crystal', 'NOUN'), (('changes', 'NOUN'), ('changes', 'VERB'))],\n",
       " [('apparently', 'ADV'), (('pins', 'NOUN'), ('pins', 'VERB'))],\n",
       " [('has', 'VERB'), (('staunchly', 'NOUN'), ('staunchly', 'ADV'))],\n",
       " [('opposed', 'VERB'), (('cost-sharing', 'ADJ'), ('cost-sharing', 'NOUN'))],\n",
       " [('of', 'ADP'), (('perpetual', 'NOUN'), ('perpetual', 'ADJ'))]]"
      ]
     },
     "execution_count": 96,
     "metadata": {},
     "output_type": "execute_result"
    }
   ],
   "source": [
    "final_incorrect_tagged_cases2 = [[val_run_base[i-1],j] for i, j in enumerate(zip(final_tagged_seq2, val_run_base)) if j[0]!=j[1]]\n",
    "print(len(final_incorrect_tagged_cases2))\n",
    "final_incorrect_tagged_cases2"
   ]
  },
  {
   "cell_type": "code",
   "execution_count": null,
   "metadata": {},
   "outputs": [],
   "source": []
  },
  {
   "cell_type": "markdown",
   "metadata": {},
   "source": [
    "### List down cases which were incorrectly tagged by original POS tagger and got corrected by your modifications"
   ]
  },
  {
   "cell_type": "code",
   "execution_count": 97,
   "metadata": {},
   "outputs": [
    {
     "name": "stdout",
     "output_type": "stream",
     "text": [
      "Time taken in seconds:  21.301063776016235\n"
     ]
    }
   ],
   "source": [
    "start = time.time()\n",
    "final_test_tagged_seq = TrigramViterbi(test_token)\n",
    "print(\"Time taken in seconds: \", time.time()-start)"
   ]
  },
  {
   "cell_type": "code",
   "execution_count": 98,
   "metadata": {},
   "outputs": [
    {
     "data": {
      "text/plain": [
       "[('Android', 'NOUN'),\n",
       " ('is', 'VERB'),\n",
       " ('a', 'DET'),\n",
       " ('mobile', 'ADJ'),\n",
       " ('operating', 'NOUN'),\n",
       " ('system', 'NOUN'),\n",
       " ('developed', 'VERB'),\n",
       " ('by', 'ADP'),\n",
       " ('Google', 'NOUN'),\n",
       " ('.', '.'),\n",
       " ('Android', 'NOUN'),\n",
       " ('has', 'VERB'),\n",
       " ('been', 'VERB'),\n",
       " ('the', 'DET'),\n",
       " ('best-selling', 'ADJ'),\n",
       " ('OS', 'NOUN'),\n",
       " ('worldwide', 'NOUN'),\n",
       " ('on', 'ADP'),\n",
       " ('smartphones', 'VERB'),\n",
       " ('since', 'ADP'),\n",
       " ('2011', 'NUM'),\n",
       " ('and', 'CONJ'),\n",
       " ('on', 'ADP'),\n",
       " ('tablets', 'NOUN'),\n",
       " ('since', 'ADP'),\n",
       " ('2013', 'NUM'),\n",
       " ('.', '.'),\n",
       " ('Google', 'NOUN'),\n",
       " ('and', 'CONJ'),\n",
       " ('Twitter', 'NOUN'),\n",
       " ('made', 'VERB'),\n",
       " ('a', 'DET'),\n",
       " ('deal', 'NOUN'),\n",
       " ('in', 'ADP'),\n",
       " ('2015', 'NUM'),\n",
       " ('that', 'ADP'),\n",
       " ('gave', 'VERB'),\n",
       " ('Google', 'NOUN'),\n",
       " ('access', 'NOUN'),\n",
       " ('to', 'PRT'),\n",
       " ('Twitter', 'NOUN'),\n",
       " (\"'s\", 'PRT'),\n",
       " ('firehose', 'NOUN'),\n",
       " ('.', '.'),\n",
       " ('Twitter', 'NOUN'),\n",
       " ('is', 'VERB'),\n",
       " ('an', 'DET'),\n",
       " ('online', 'NOUN'),\n",
       " ('news', 'NOUN'),\n",
       " ('and', 'CONJ'),\n",
       " ('social', 'ADJ'),\n",
       " ('networking', 'NOUN'),\n",
       " ('service', 'NOUN'),\n",
       " ('on', 'ADP'),\n",
       " ('which', 'DET'),\n",
       " ('users', 'NOUN'),\n",
       " ('post', 'NOUN'),\n",
       " ('and', 'CONJ'),\n",
       " ('interact', 'NOUN'),\n",
       " ('with', 'ADP'),\n",
       " ('messages', 'VERB'),\n",
       " ('known', 'VERB'),\n",
       " ('as', 'ADP'),\n",
       " ('tweets', 'NOUN'),\n",
       " ('.', '.'),\n",
       " ('Before', 'ADP'),\n",
       " ('entering', 'VERB'),\n",
       " ('politics', 'NOUN'),\n",
       " (',', '.'),\n",
       " ('Donald', 'NOUN'),\n",
       " ('Trump', 'NOUN'),\n",
       " ('was', 'VERB'),\n",
       " ('a', 'DET'),\n",
       " ('domineering', 'VERB'),\n",
       " ('businessman', 'NOUN'),\n",
       " ('and', 'CONJ'),\n",
       " ('a', 'DET'),\n",
       " ('television', 'NOUN'),\n",
       " ('personality', 'NOUN'),\n",
       " ('.', '.'),\n",
       " ('The', 'DET'),\n",
       " ('2018', 'NUM'),\n",
       " ('FIFA', 'NOUN'),\n",
       " ('World', 'NOUN'),\n",
       " ('Cup', 'NOUN'),\n",
       " ('is', 'VERB'),\n",
       " ('the', 'DET'),\n",
       " ('21st', 'NOUN'),\n",
       " ('FIFA', 'NOUN'),\n",
       " ('World', 'NOUN'),\n",
       " ('Cup', 'NOUN'),\n",
       " (',', '.'),\n",
       " ('an', 'DET'),\n",
       " ('international', 'ADJ'),\n",
       " ('football', 'NOUN'),\n",
       " ('tournament', 'NOUN'),\n",
       " ('contested', 'VERB'),\n",
       " ('once', 'ADV'),\n",
       " ('every', 'DET'),\n",
       " ('four', 'NUM'),\n",
       " ('years', 'NOUN'),\n",
       " ('.', '.'),\n",
       " ('This', 'DET'),\n",
       " ('is', 'VERB'),\n",
       " ('the', 'DET'),\n",
       " ('first', 'ADJ'),\n",
       " ('World', 'NOUN'),\n",
       " ('Cup', 'NOUN'),\n",
       " ('to', 'PRT'),\n",
       " ('be', 'VERB'),\n",
       " ('held', 'VERB'),\n",
       " ('in', 'ADP'),\n",
       " ('Eastern', 'NOUN'),\n",
       " ('Europe', 'NOUN'),\n",
       " ('and', 'CONJ'),\n",
       " ('the', 'DET'),\n",
       " ('11th', 'ADJ'),\n",
       " ('time', 'NOUN'),\n",
       " ('that', 'ADP'),\n",
       " ('it', 'PRON'),\n",
       " ('has', 'VERB'),\n",
       " ('been', 'VERB'),\n",
       " ('held', 'VERB'),\n",
       " ('in', 'ADP'),\n",
       " ('Europe', 'NOUN'),\n",
       " ('.', '.'),\n",
       " ('Show', 'NOUN'),\n",
       " ('me', 'PRON'),\n",
       " ('the', 'DET'),\n",
       " ('cheapest', 'ADJ'),\n",
       " ('round', 'NOUN'),\n",
       " ('trips', 'NOUN'),\n",
       " ('from', 'ADP'),\n",
       " ('Dallas', 'NOUN'),\n",
       " ('to', 'PRT'),\n",
       " ('Atlanta', 'NOUN'),\n",
       " ('I', 'PRON'),\n",
       " ('would', 'VERB'),\n",
       " ('like', 'ADP'),\n",
       " ('to', 'PRT'),\n",
       " ('see', 'VERB'),\n",
       " ('flights', 'NOUN'),\n",
       " ('from', 'ADP'),\n",
       " ('Denver', 'NOUN'),\n",
       " ('to', 'PRT'),\n",
       " ('Philadelphia', 'NOUN'),\n",
       " ('.', '.'),\n",
       " ('Show', 'NOUN'),\n",
       " ('me', 'PRON'),\n",
       " ('the', 'DET'),\n",
       " ('price', 'NOUN'),\n",
       " ('of', 'ADP'),\n",
       " ('the', 'DET'),\n",
       " ('flights', 'NOUN'),\n",
       " ('leaving', 'VERB'),\n",
       " ('Atlanta', 'NOUN'),\n",
       " ('at', 'ADP'),\n",
       " ('about', 'ADP'),\n",
       " ('3', 'NUM'),\n",
       " ('in', 'ADP'),\n",
       " ('the', 'DET'),\n",
       " ('afternoon', 'NOUN'),\n",
       " ('and', 'CONJ'),\n",
       " ('arriving', 'VERB'),\n",
       " ('in', 'ADP'),\n",
       " ('San', 'NOUN'),\n",
       " ('Francisco', 'NOUN'),\n",
       " ('.', '.'),\n",
       " ('NASA', 'NOUN'),\n",
       " ('invited', 'VERB'),\n",
       " ('social', 'ADJ'),\n",
       " ('media', 'NOUN'),\n",
       " ('users', 'NOUN'),\n",
       " ('to', 'PRT'),\n",
       " ('experience', 'NOUN'),\n",
       " ('the', 'DET'),\n",
       " ('launch', 'NOUN'),\n",
       " ('of', 'ADP'),\n",
       " ('ICESAT-2', 'NOUN'),\n",
       " ('Satellite', 'NOUN'),\n",
       " ('.', '.')]"
      ]
     },
     "execution_count": 98,
     "metadata": {},
     "output_type": "execute_result"
    }
   ],
   "source": [
    "final_test_tagged_seq"
   ]
  },
  {
   "cell_type": "code",
   "execution_count": 99,
   "metadata": {},
   "outputs": [],
   "source": [
    "diff_tags = [{i:j} for i,j in zip(final_test_tagged_seq, test_tagged_seq) if i[1]!=j[1]]"
   ]
  },
  {
   "cell_type": "code",
   "execution_count": 100,
   "metadata": {},
   "outputs": [
    {
     "name": "stdout",
     "output_type": "stream",
     "text": [
      "             Total Tags Changed - 36\n"
     ]
    },
    {
     "data": {
      "text/plain": [
       "[{('Android', 'NOUN'): ('Android', 'ADV')},\n",
       " {('Google', 'NOUN'): ('Google', 'ADV')},\n",
       " {('Android', 'NOUN'): ('Android', 'ADV')},\n",
       " {('OS', 'NOUN'): ('OS', 'ADV')},\n",
       " {('worldwide', 'NOUN'): ('worldwide', 'ADV')},\n",
       " {('smartphones', 'VERB'): ('smartphones', 'ADV')},\n",
       " {('2011', 'NUM'): ('2011', 'ADV')},\n",
       " {('2013', 'NUM'): ('2013', 'ADV')},\n",
       " {('Google', 'NOUN'): ('Google', 'ADV')},\n",
       " {('Twitter', 'NOUN'): ('Twitter', 'ADV')},\n",
       " {('2015', 'NUM'): ('2015', 'ADV')},\n",
       " {('Google', 'NOUN'): ('Google', 'ADV')},\n",
       " {('Twitter', 'NOUN'): ('Twitter', 'ADV')},\n",
       " {('firehose', 'NOUN'): ('firehose', 'ADV')},\n",
       " {('Twitter', 'NOUN'): ('Twitter', 'ADV')},\n",
       " {('online', 'NOUN'): ('online', 'ADV')},\n",
       " {('interact', 'NOUN'): ('interact', 'ADV')},\n",
       " {('messages', 'VERB'): ('messages', 'ADV')},\n",
       " {('tweets', 'NOUN'): ('tweets', 'ADV')},\n",
       " {('domineering', 'VERB'): ('domineering', 'ADV')},\n",
       " {('personality', 'NOUN'): ('personality', 'ADV')},\n",
       " {('2018', 'NUM'): ('2018', 'ADV')},\n",
       " {('FIFA', 'NOUN'): ('FIFA', 'ADV')},\n",
       " {('Cup', 'NOUN'): ('Cup', 'ADV')},\n",
       " {('21st', 'NOUN'): ('21st', 'ADV')},\n",
       " {('FIFA', 'NOUN'): ('FIFA', 'ADV')},\n",
       " {('Cup', 'NOUN'): ('Cup', 'ADV')},\n",
       " {('tournament', 'NOUN'): ('tournament', 'ADV')},\n",
       " {('contested', 'VERB'): ('contested', 'ADV')},\n",
       " {('Cup', 'NOUN'): ('Cup', 'ADV')},\n",
       " {('trips', 'NOUN'): ('trips', 'ADV')},\n",
       " {('arriving', 'VERB'): ('arriving', 'ADV')},\n",
       " {('NASA', 'NOUN'): ('NASA', 'ADV')},\n",
       " {('invited', 'VERB'): ('invited', 'ADV')},\n",
       " {('ICESAT-2', 'NOUN'): ('ICESAT-2', 'ADV')},\n",
       " {('Satellite', 'NOUN'): ('Satellite', 'ADV')}]"
      ]
     },
     "execution_count": 100,
     "metadata": {},
     "output_type": "execute_result"
    }
   ],
   "source": [
    "print(\"             Total Tags Changed - {}\".format(len(diff_tags)))\n",
    "diff_tags"
   ]
  },
  {
   "cell_type": "code",
   "execution_count": null,
   "metadata": {},
   "outputs": [],
   "source": []
  },
  {
   "cell_type": "code",
   "execution_count": 101,
   "metadata": {},
   "outputs": [
    {
     "data": {
      "text/plain": [
       "[('Android', 'NOUN'),\n",
       " ('is', 'VERB'),\n",
       " ('a', 'DET'),\n",
       " ('mobile', 'ADJ'),\n",
       " ('operating', 'NOUN'),\n",
       " ('system', 'NOUN'),\n",
       " ('developed', 'VERB'),\n",
       " ('by', 'ADP'),\n",
       " ('Google', 'NOUN'),\n",
       " ('.', '.'),\n",
       " ('Android', 'NOUN'),\n",
       " ('has', 'VERB'),\n",
       " ('been', 'VERB'),\n",
       " ('the', 'DET'),\n",
       " ('best-selling', 'ADJ'),\n",
       " ('OS', 'NOUN'),\n",
       " ('worldwide', 'NOUN'),\n",
       " ('on', 'ADP'),\n",
       " ('smartphones', 'VERB'),\n",
       " ('since', 'ADP'),\n",
       " ('2011', 'NUM'),\n",
       " ('and', 'CONJ'),\n",
       " ('on', 'ADP'),\n",
       " ('tablets', 'NOUN'),\n",
       " ('since', 'ADP'),\n",
       " ('2013', 'NUM'),\n",
       " ('.', '.'),\n",
       " ('Google', 'NOUN'),\n",
       " ('and', 'CONJ'),\n",
       " ('Twitter', 'NOUN'),\n",
       " ('made', 'VERB'),\n",
       " ('a', 'DET'),\n",
       " ('deal', 'NOUN'),\n",
       " ('in', 'ADP'),\n",
       " ('2015', 'NUM'),\n",
       " ('that', 'ADP'),\n",
       " ('gave', 'VERB'),\n",
       " ('Google', 'NOUN'),\n",
       " ('access', 'NOUN'),\n",
       " ('to', 'PRT'),\n",
       " ('Twitter', 'NOUN'),\n",
       " (\"'s\", 'PRT'),\n",
       " ('firehose', 'NOUN'),\n",
       " ('.', '.'),\n",
       " ('Twitter', 'NOUN'),\n",
       " ('is', 'VERB'),\n",
       " ('an', 'DET'),\n",
       " ('online', 'NOUN'),\n",
       " ('news', 'NOUN'),\n",
       " ('and', 'CONJ'),\n",
       " ('social', 'ADJ'),\n",
       " ('networking', 'NOUN'),\n",
       " ('service', 'NOUN'),\n",
       " ('on', 'ADP'),\n",
       " ('which', 'DET'),\n",
       " ('users', 'NOUN'),\n",
       " ('post', 'NOUN'),\n",
       " ('and', 'CONJ'),\n",
       " ('interact', 'NOUN'),\n",
       " ('with', 'ADP'),\n",
       " ('messages', 'VERB'),\n",
       " ('known', 'VERB'),\n",
       " ('as', 'ADP'),\n",
       " ('tweets', 'NOUN'),\n",
       " ('.', '.'),\n",
       " ('Before', 'ADP'),\n",
       " ('entering', 'VERB'),\n",
       " ('politics', 'NOUN'),\n",
       " (',', '.'),\n",
       " ('Donald', 'NOUN'),\n",
       " ('Trump', 'NOUN'),\n",
       " ('was', 'VERB'),\n",
       " ('a', 'DET'),\n",
       " ('domineering', 'VERB'),\n",
       " ('businessman', 'NOUN'),\n",
       " ('and', 'CONJ'),\n",
       " ('a', 'DET'),\n",
       " ('television', 'NOUN'),\n",
       " ('personality', 'NOUN'),\n",
       " ('.', '.'),\n",
       " ('The', 'DET'),\n",
       " ('2018', 'NUM'),\n",
       " ('FIFA', 'NOUN'),\n",
       " ('World', 'NOUN'),\n",
       " ('Cup', 'NOUN'),\n",
       " ('is', 'VERB'),\n",
       " ('the', 'DET'),\n",
       " ('21st', 'NOUN'),\n",
       " ('FIFA', 'NOUN'),\n",
       " ('World', 'NOUN'),\n",
       " ('Cup', 'NOUN'),\n",
       " (',', '.'),\n",
       " ('an', 'DET'),\n",
       " ('international', 'ADJ'),\n",
       " ('football', 'NOUN'),\n",
       " ('tournament', 'NOUN'),\n",
       " ('contested', 'VERB'),\n",
       " ('once', 'ADV'),\n",
       " ('every', 'DET'),\n",
       " ('four', 'NUM'),\n",
       " ('years', 'NOUN'),\n",
       " ('.', '.'),\n",
       " ('This', 'DET'),\n",
       " ('is', 'VERB'),\n",
       " ('the', 'DET'),\n",
       " ('first', 'ADJ'),\n",
       " ('World', 'NOUN'),\n",
       " ('Cup', 'NOUN'),\n",
       " ('to', 'PRT'),\n",
       " ('be', 'VERB'),\n",
       " ('held', 'VERB'),\n",
       " ('in', 'ADP'),\n",
       " ('Eastern', 'NOUN'),\n",
       " ('Europe', 'NOUN'),\n",
       " ('and', 'CONJ'),\n",
       " ('the', 'DET'),\n",
       " ('11th', 'ADJ'),\n",
       " ('time', 'NOUN'),\n",
       " ('that', 'ADP'),\n",
       " ('it', 'PRON'),\n",
       " ('has', 'VERB'),\n",
       " ('been', 'VERB'),\n",
       " ('held', 'VERB'),\n",
       " ('in', 'ADP'),\n",
       " ('Europe', 'NOUN'),\n",
       " ('.', '.'),\n",
       " ('Show', 'NOUN'),\n",
       " ('me', 'PRON'),\n",
       " ('the', 'DET'),\n",
       " ('cheapest', 'ADJ'),\n",
       " ('round', 'NOUN'),\n",
       " ('trips', 'NOUN'),\n",
       " ('from', 'ADP'),\n",
       " ('Dallas', 'NOUN'),\n",
       " ('to', 'PRT'),\n",
       " ('Atlanta', 'NOUN'),\n",
       " ('I', 'PRON'),\n",
       " ('would', 'VERB'),\n",
       " ('like', 'ADP'),\n",
       " ('to', 'PRT'),\n",
       " ('see', 'VERB'),\n",
       " ('flights', 'NOUN'),\n",
       " ('from', 'ADP'),\n",
       " ('Denver', 'NOUN'),\n",
       " ('to', 'PRT'),\n",
       " ('Philadelphia', 'NOUN'),\n",
       " ('.', '.'),\n",
       " ('Show', 'NOUN'),\n",
       " ('me', 'PRON'),\n",
       " ('the', 'DET'),\n",
       " ('price', 'NOUN'),\n",
       " ('of', 'ADP'),\n",
       " ('the', 'DET'),\n",
       " ('flights', 'NOUN'),\n",
       " ('leaving', 'VERB'),\n",
       " ('Atlanta', 'NOUN'),\n",
       " ('at', 'ADP'),\n",
       " ('about', 'ADP'),\n",
       " ('3', 'NUM'),\n",
       " ('in', 'ADP'),\n",
       " ('the', 'DET'),\n",
       " ('afternoon', 'NOUN'),\n",
       " ('and', 'CONJ'),\n",
       " ('arriving', 'VERB'),\n",
       " ('in', 'ADP'),\n",
       " ('San', 'NOUN'),\n",
       " ('Francisco', 'NOUN'),\n",
       " ('.', '.'),\n",
       " ('NASA', 'NOUN'),\n",
       " ('invited', 'VERB'),\n",
       " ('social', 'ADJ'),\n",
       " ('media', 'NOUN'),\n",
       " ('users', 'NOUN'),\n",
       " ('to', 'PRT'),\n",
       " ('experience', 'NOUN'),\n",
       " ('the', 'DET'),\n",
       " ('launch', 'NOUN'),\n",
       " ('of', 'ADP'),\n",
       " ('ICESAT-2', 'NOUN'),\n",
       " ('Satellite', 'NOUN'),\n",
       " ('.', '.')]"
      ]
     },
     "execution_count": 101,
     "metadata": {},
     "output_type": "execute_result"
    }
   ],
   "source": [
    "final_test_tagged_seq"
   ]
  },
  {
   "cell_type": "code",
   "execution_count": 102,
   "metadata": {},
   "outputs": [
    {
     "data": {
      "text/plain": [
       "[('Android', 'ADV'),\n",
       " ('is', 'VERB'),\n",
       " ('a', 'DET'),\n",
       " ('mobile', 'ADJ'),\n",
       " ('operating', 'NOUN'),\n",
       " ('system', 'NOUN'),\n",
       " ('developed', 'VERB'),\n",
       " ('by', 'ADP'),\n",
       " ('Google', 'ADV'),\n",
       " ('.', '.'),\n",
       " ('Android', 'ADV'),\n",
       " ('has', 'VERB'),\n",
       " ('been', 'VERB'),\n",
       " ('the', 'DET'),\n",
       " ('best-selling', 'ADJ'),\n",
       " ('OS', 'ADV'),\n",
       " ('worldwide', 'ADV'),\n",
       " ('on', 'ADP'),\n",
       " ('smartphones', 'ADV'),\n",
       " ('since', 'ADP'),\n",
       " ('2011', 'ADV'),\n",
       " ('and', 'CONJ'),\n",
       " ('on', 'ADP'),\n",
       " ('tablets', 'NOUN'),\n",
       " ('since', 'ADP'),\n",
       " ('2013', 'ADV'),\n",
       " ('.', '.'),\n",
       " ('Google', 'ADV'),\n",
       " ('and', 'CONJ'),\n",
       " ('Twitter', 'ADV'),\n",
       " ('made', 'VERB'),\n",
       " ('a', 'DET'),\n",
       " ('deal', 'NOUN'),\n",
       " ('in', 'ADP'),\n",
       " ('2015', 'ADV'),\n",
       " ('that', 'ADP'),\n",
       " ('gave', 'VERB'),\n",
       " ('Google', 'ADV'),\n",
       " ('access', 'NOUN'),\n",
       " ('to', 'PRT'),\n",
       " ('Twitter', 'ADV'),\n",
       " (\"'s\", 'PRT'),\n",
       " ('firehose', 'ADV'),\n",
       " ('.', '.'),\n",
       " ('Twitter', 'ADV'),\n",
       " ('is', 'VERB'),\n",
       " ('an', 'DET'),\n",
       " ('online', 'ADV'),\n",
       " ('news', 'NOUN'),\n",
       " ('and', 'CONJ'),\n",
       " ('social', 'ADJ'),\n",
       " ('networking', 'NOUN'),\n",
       " ('service', 'NOUN'),\n",
       " ('on', 'ADP'),\n",
       " ('which', 'DET'),\n",
       " ('users', 'NOUN'),\n",
       " ('post', 'NOUN'),\n",
       " ('and', 'CONJ'),\n",
       " ('interact', 'ADV'),\n",
       " ('with', 'ADP'),\n",
       " ('messages', 'ADV'),\n",
       " ('known', 'VERB'),\n",
       " ('as', 'ADP'),\n",
       " ('tweets', 'ADV'),\n",
       " ('.', '.'),\n",
       " ('Before', 'ADP'),\n",
       " ('entering', 'VERB'),\n",
       " ('politics', 'NOUN'),\n",
       " (',', '.'),\n",
       " ('Donald', 'NOUN'),\n",
       " ('Trump', 'NOUN'),\n",
       " ('was', 'VERB'),\n",
       " ('a', 'DET'),\n",
       " ('domineering', 'ADV'),\n",
       " ('businessman', 'NOUN'),\n",
       " ('and', 'CONJ'),\n",
       " ('a', 'DET'),\n",
       " ('television', 'NOUN'),\n",
       " ('personality', 'ADV'),\n",
       " ('.', '.'),\n",
       " ('The', 'DET'),\n",
       " ('2018', 'ADV'),\n",
       " ('FIFA', 'ADV'),\n",
       " ('World', 'NOUN'),\n",
       " ('Cup', 'ADV'),\n",
       " ('is', 'VERB'),\n",
       " ('the', 'DET'),\n",
       " ('21st', 'ADV'),\n",
       " ('FIFA', 'ADV'),\n",
       " ('World', 'NOUN'),\n",
       " ('Cup', 'ADV'),\n",
       " (',', '.'),\n",
       " ('an', 'DET'),\n",
       " ('international', 'ADJ'),\n",
       " ('football', 'NOUN'),\n",
       " ('tournament', 'ADV'),\n",
       " ('contested', 'ADV'),\n",
       " ('once', 'ADV'),\n",
       " ('every', 'DET'),\n",
       " ('four', 'NUM'),\n",
       " ('years', 'NOUN'),\n",
       " ('.', '.'),\n",
       " ('This', 'DET'),\n",
       " ('is', 'VERB'),\n",
       " ('the', 'DET'),\n",
       " ('first', 'ADJ'),\n",
       " ('World', 'NOUN'),\n",
       " ('Cup', 'ADV'),\n",
       " ('to', 'PRT'),\n",
       " ('be', 'VERB'),\n",
       " ('held', 'VERB'),\n",
       " ('in', 'ADP'),\n",
       " ('Eastern', 'NOUN'),\n",
       " ('Europe', 'NOUN'),\n",
       " ('and', 'CONJ'),\n",
       " ('the', 'DET'),\n",
       " ('11th', 'ADJ'),\n",
       " ('time', 'NOUN'),\n",
       " ('that', 'ADP'),\n",
       " ('it', 'PRON'),\n",
       " ('has', 'VERB'),\n",
       " ('been', 'VERB'),\n",
       " ('held', 'VERB'),\n",
       " ('in', 'ADP'),\n",
       " ('Europe', 'NOUN'),\n",
       " ('.', '.'),\n",
       " ('Show', 'NOUN'),\n",
       " ('me', 'PRON'),\n",
       " ('the', 'DET'),\n",
       " ('cheapest', 'ADJ'),\n",
       " ('round', 'NOUN'),\n",
       " ('trips', 'ADV'),\n",
       " ('from', 'ADP'),\n",
       " ('Dallas', 'NOUN'),\n",
       " ('to', 'PRT'),\n",
       " ('Atlanta', 'NOUN'),\n",
       " ('I', 'PRON'),\n",
       " ('would', 'VERB'),\n",
       " ('like', 'ADP'),\n",
       " ('to', 'PRT'),\n",
       " ('see', 'VERB'),\n",
       " ('flights', 'NOUN'),\n",
       " ('from', 'ADP'),\n",
       " ('Denver', 'NOUN'),\n",
       " ('to', 'PRT'),\n",
       " ('Philadelphia', 'NOUN'),\n",
       " ('.', '.'),\n",
       " ('Show', 'NOUN'),\n",
       " ('me', 'PRON'),\n",
       " ('the', 'DET'),\n",
       " ('price', 'NOUN'),\n",
       " ('of', 'ADP'),\n",
       " ('the', 'DET'),\n",
       " ('flights', 'NOUN'),\n",
       " ('leaving', 'VERB'),\n",
       " ('Atlanta', 'NOUN'),\n",
       " ('at', 'ADP'),\n",
       " ('about', 'ADP'),\n",
       " ('3', 'NUM'),\n",
       " ('in', 'ADP'),\n",
       " ('the', 'DET'),\n",
       " ('afternoon', 'NOUN'),\n",
       " ('and', 'CONJ'),\n",
       " ('arriving', 'ADV'),\n",
       " ('in', 'ADP'),\n",
       " ('San', 'NOUN'),\n",
       " ('Francisco', 'NOUN'),\n",
       " ('.', '.'),\n",
       " ('NASA', 'ADV'),\n",
       " ('invited', 'ADV'),\n",
       " ('social', 'ADJ'),\n",
       " ('media', 'NOUN'),\n",
       " ('users', 'NOUN'),\n",
       " ('to', 'PRT'),\n",
       " ('experience', 'NOUN'),\n",
       " ('the', 'DET'),\n",
       " ('launch', 'NOUN'),\n",
       " ('of', 'ADP'),\n",
       " ('ICESAT-2', 'ADV'),\n",
       " ('Satellite', 'ADV'),\n",
       " ('.', '.')]"
      ]
     },
     "execution_count": 102,
     "metadata": {},
     "output_type": "execute_result"
    }
   ],
   "source": [
    "test_tagged_seq"
   ]
  },
  {
   "cell_type": "code",
   "execution_count": null,
   "metadata": {},
   "outputs": [],
   "source": []
  },
  {
   "cell_type": "code",
   "execution_count": null,
   "metadata": {},
   "outputs": [],
   "source": []
  }
 ],
 "metadata": {
  "kernelspec": {
   "display_name": "Python 3",
   "language": "python",
   "name": "python3"
  },
  "language_info": {
   "codemirror_mode": {
    "name": "ipython",
    "version": 3
   },
   "file_extension": ".py",
   "mimetype": "text/x-python",
   "name": "python",
   "nbconvert_exporter": "python",
   "pygments_lexer": "ipython3",
   "version": "3.7.3"
  }
 },
 "nbformat": 4,
 "nbformat_minor": 2
}
