{
 "cells": [
  {
   "cell_type": "markdown",
   "metadata": {},
   "source": [
    "# Gesture Recognition\n",
    "In this group project, you are going to build a 3D Conv model that will be able to predict the 5 gestures correctly. Please import the following libraries to get started."
   ]
  },
  {
   "cell_type": "code",
   "execution_count": 1,
   "metadata": {},
   "outputs": [],
   "source": [
    "import os\n",
    "import datetime\n",
    "import numpy as np\n",
    "from scipy.misc import imread, imresize"
   ]
  },
  {
   "cell_type": "markdown",
   "metadata": {},
   "source": [
    "We set the random seed so that the results don't vary drastically."
   ]
  },
  {
   "cell_type": "code",
   "execution_count": 2,
   "metadata": {
    "scrolled": true
   },
   "outputs": [
    {
     "name": "stderr",
     "output_type": "stream",
     "text": [
      "Using TensorFlow backend.\n"
     ]
    }
   ],
   "source": [
    "np.random.seed(30)\n",
    "import random as rn\n",
    "rn.seed(30)\n",
    "from keras import backend as K\n",
    "import tensorflow as tf\n",
    "tf.set_random_seed(30)"
   ]
  },
  {
   "cell_type": "markdown",
   "metadata": {},
   "source": [
    "In this block, you read the folder names for training and validation. You also set the `batch_size` here. Note that you set the batch size in such a way that you are able to use the GPU in full capacity. You keep increasing the batch size until the machine throws an error."
   ]
  },
  {
   "cell_type": "code",
   "execution_count": 3,
   "metadata": {},
   "outputs": [],
   "source": [
    "train_doc = np.random.permutation(open('train.csv').readlines())\n",
    "val_doc = np.random.permutation(open('val.csv').readlines())\n",
    "batch_size = 32"
   ]
  },
  {
   "cell_type": "markdown",
   "metadata": {},
   "source": [
    "## Generator\n",
    "This is one of the most important part of the code. The overall structure of the generator has been given. In the generator, you are going to preprocess the images as you have images of 2 different dimensions as well as create a batch of video frames. You have to experiment with `img_idx`, `y`,`z` and normalization such that you get high accuracy."
   ]
  },
  {
   "cell_type": "code",
   "execution_count": 20,
   "metadata": {},
   "outputs": [],
   "source": [
    "def generator(source_path, folder_list, batch_size):\n",
    "    print( 'Source path = ', source_path, '; batch size =', batch_size)\n",
    "    img_idx = list(range(5,30,1))\n",
    "    while True:\n",
    "        t = np.random.permutation(folder_list)\n",
    "        num_batches = int(len(folder_list)/batch_size)\n",
    "        for batch in range(num_batches): # we iterate over the number of batches\n",
    "            batch_data = np.zeros((batch_size, 25, 100, 100, 3)) # x is the number of images you use for each video, (y,z) is the final size of the input images and 3 is the number of channels RGB\n",
    "            batch_labels = np.zeros((batch_size, 5)) # batch_labels is the one hot representation of the output\n",
    "            for folder in range(batch_size): # iterate over the batch_size\n",
    "                imgs = os.listdir(source_path+'/'+ t[folder + (batch*batch_size)].split(';')[0]) # read all the images in the folder\n",
    "                for idx, item in enumerate(img_idx): #  Iterate iver the frames/images of a folder to read them in\n",
    "                    image = imread(source_path+'/'+ t[folder + (batch*batch_size)].strip().split(';')[0]+'/'+imgs[item]).astype(np.float32)\n",
    "                    \n",
    "                    # crop the images and resize them. Note that the images are of 2 different shape and the conv3D will throw error if the inputs in a batch have different shapes\n",
    "                    img = imresize(image, (100, 100))\n",
    "                    batch_data[folder, idx, :, :, 0] = (img[:,:,0]) # normalise and feed in the image\n",
    "                    batch_data[folder, idx, :, :, 1] = (img[:,:,1]) # normalise and feed in the image\n",
    "                    batch_data[folder, idx, :, :, 2] = (img[:,:,2]) # normalise and feed in the image\n",
    "                    \n",
    "                batch_labels[folder, int(t[folder + (batch*batch_size)].strip().split(';')[2])] = 1\n",
    "            yield batch_data, batch_labels # you yield the batch_data and the batch_labels, remember what does yield do\n",
    "\n",
    "        \n",
    "        # write the code for the remaining data points which are left after full batches\n",
    "        if (len(folder_list) != batch_size*num_batches):\n",
    "            print(\"Remaining data points\")\n",
    "            print(\"Batch: \", num_batches+1, \"Index:\", batch_size)\n",
    "            batch_size = len(folder_list) - (batch_size*num_batches)\n",
    "            batch_data = np.zeros((batch_size, 25, 120, 120, 3)) # x is the number of images you use for each video, (y,z) is the final size of the input images and 3 is the number of channels RGB\n",
    "            batch_labels = np.zeros((batch_size, 5)) # batch_labels is the one hot representation of the output\n",
    "            for folder in range(batch_size): # iterate over the batch_size\n",
    "                imgs = os.listdir(source_path+'/'+ t[folder + (batch*batch_size)].split(';')[0]) # read all the images in the folder\n",
    "                for idx,item in enumerate(img_idx): #  Iterate iver the frames/images of a folder to read them in\n",
    "                    image = imread(source_path+'/'+ t[folder + (batch*batch_size)].strip().split(';')[0]+'/'+imgs[item]).astype(np.float32)\n",
    "                    \n",
    "                    # crop the images and resize them. Note that the images are of 2 different shape and the conv3D will throw error if the inputs in a batch have different shapes\n",
    "                    img = imresize(image,(120,120))\n",
    "                    batch_data[folder,idx,:,:,0] = (img[:,:,0])\n",
    "                    batch_data[folder,idx,:,:,1] = (img[:,:,1])\n",
    "                    batch_data[folder,idx,:,:,2] = (img[:,:,2])\n",
    "                   \n",
    "                batch_labels[folder, int(t[folder + (batch*batch_size)].strip().split(';')[2])] = 1\n",
    "            yield batch_data, batch_labels"
   ]
  },
  {
   "cell_type": "markdown",
   "metadata": {},
   "source": [
    "Note here that a video is represented above in the generator as (number of images, height, width, number of channels). Take this into consideration while creating the model architecture."
   ]
  },
  {
   "cell_type": "code",
   "execution_count": 21,
   "metadata": {},
   "outputs": [
    {
     "name": "stdout",
     "output_type": "stream",
     "text": [
      "# training sequences = 663\n",
      "# validation sequences = 100\n",
      "# epochs = 30\n"
     ]
    }
   ],
   "source": [
    "curr_dt_time = datetime.datetime.now()\n",
    "train_path = 'train'\n",
    "val_path = 'val'\n",
    "\n",
    "num_train_sequences = len(train_doc)\n",
    "print('# training sequences =', num_train_sequences)\n",
    "num_val_sequences = len(val_doc)\n",
    "print('# validation sequences =', num_val_sequences)\n",
    "num_epochs = 30\n",
    "print ('# epochs =', num_epochs)"
   ]
  },
  {
   "cell_type": "markdown",
   "metadata": {},
   "source": [
    "## Model\n",
    "Here you make the model using different functionalities that Keras provides. Remember to use `Conv3D` and `MaxPooling3D` and not `Conv2D` and `Maxpooling2D` for a 3D convolution model. You would want to use `TimeDistributed` while building a Conv2D + RNN model. Also remember that the last layer is the softmax. Design the network in such a way that the model is able to give good accuracy on the least number of parameters so that it can fit in the memory of the webcam."
   ]
  },
  {
   "cell_type": "code",
   "execution_count": 34,
   "metadata": {},
   "outputs": [],
   "source": [
    "from keras.models import Sequential, Model\n",
    "from keras.layers import Dense, GRU, Flatten, TimeDistributed, Flatten, BatchNormalization, Activation, Dropout\n",
    "from keras.layers.convolutional import Conv3D, MaxPooling3D\n",
    "from keras.callbacks import ModelCheckpoint, ReduceLROnPlateau\n",
    "from keras import optimizers\n",
    "from keras.regularizers import l2\n",
    "\n",
    "#write your model here\n",
    "model = Sequential()\n",
    "model.add(Conv3D(8, kernel_size=(3,3,3), input_shape=(25, 100, 100, 3), padding='same'))\n",
    "model.add(BatchNormalization())\n",
    "model.add(Activation('relu'))\n",
    "model.add(MaxPooling3D(pool_size=(2,2,2)))\n",
    "model.add(Dropout(0.2))\n",
    "\n",
    "model.add(Conv3D(16, kernel_size=(3,3,3),padding='same'))\n",
    "model.add(BatchNormalization())\n",
    "model.add(Activation('relu'))\n",
    "model.add(MaxPooling3D(pool_size=(2,2,2)))\n",
    "model.add(Dropout(0.2))\n",
    "\n",
    "model.add(Conv3D(32, kernel_size=(3,3,3), padding='same'))\n",
    "model.add(BatchNormalization())\n",
    "model.add(Activation('relu'))\n",
    "model.add(MaxPooling3D(pool_size=(2,2,2)))\n",
    "model.add(Dropout(0.2))\n",
    "\n",
    "model.add(Conv3D(64, kernel_size=(3,3,3), padding='same'))\n",
    "model.add(BatchNormalization())\n",
    "model.add(Activation('relu'))\n",
    "model.add(MaxPooling3D(pool_size=(2,2,2)))\n",
    "model.add(Dropout(0.2))\n",
    "\n",
    "#Flatten Layers\n",
    "model.add(Flatten())\n",
    "model.add(Dense(1024, activation='relu'))\n",
    "model.add(Dropout(0.5))\n",
    "model.add(Dense(512, kernel_regularizer=l2(0.01), activation='relu'))\n",
    "model.add(Dropout(0.5))\n",
    "\n",
    "#softmax layer\n",
    "model.add(Dense(5, activation='softmax'))"
   ]
  },
  {
   "cell_type": "markdown",
   "metadata": {},
   "source": [
    "Now that you have written the model, the next step is to `compile` the model. When you print the `summary` of the model, you'll see the total number of parameters you have to train."
   ]
  },
  {
   "cell_type": "code",
   "execution_count": 35,
   "metadata": {
    "scrolled": true
   },
   "outputs": [
    {
     "name": "stdout",
     "output_type": "stream",
     "text": [
      "_________________________________________________________________\n",
      "Layer (type)                 Output Shape              Param #   \n",
      "=================================================================\n",
      "conv3d_17 (Conv3D)           (None, 25, 100, 100, 8)   656       \n",
      "_________________________________________________________________\n",
      "batch_normalization_17 (Batc (None, 25, 100, 100, 8)   32        \n",
      "_________________________________________________________________\n",
      "activation_17 (Activation)   (None, 25, 100, 100, 8)   0         \n",
      "_________________________________________________________________\n",
      "max_pooling3d_17 (MaxPooling (None, 12, 50, 50, 8)     0         \n",
      "_________________________________________________________________\n",
      "conv3d_18 (Conv3D)           (None, 12, 50, 50, 16)    3472      \n",
      "_________________________________________________________________\n",
      "batch_normalization_18 (Batc (None, 12, 50, 50, 16)    64        \n",
      "_________________________________________________________________\n",
      "activation_18 (Activation)   (None, 12, 50, 50, 16)    0         \n",
      "_________________________________________________________________\n",
      "max_pooling3d_18 (MaxPooling (None, 6, 25, 25, 16)     0         \n",
      "_________________________________________________________________\n",
      "conv3d_19 (Conv3D)           (None, 6, 25, 25, 32)     13856     \n",
      "_________________________________________________________________\n",
      "batch_normalization_19 (Batc (None, 6, 25, 25, 32)     128       \n",
      "_________________________________________________________________\n",
      "activation_19 (Activation)   (None, 6, 25, 25, 32)     0         \n",
      "_________________________________________________________________\n",
      "max_pooling3d_19 (MaxPooling (None, 3, 12, 12, 32)     0         \n",
      "_________________________________________________________________\n",
      "dropout_9 (Dropout)          (None, 3, 12, 12, 32)     0         \n",
      "_________________________________________________________________\n",
      "conv3d_20 (Conv3D)           (None, 3, 12, 12, 64)     55360     \n",
      "_________________________________________________________________\n",
      "batch_normalization_20 (Batc (None, 3, 12, 12, 64)     256       \n",
      "_________________________________________________________________\n",
      "activation_20 (Activation)   (None, 3, 12, 12, 64)     0         \n",
      "_________________________________________________________________\n",
      "max_pooling3d_20 (MaxPooling (None, 1, 6, 6, 64)       0         \n",
      "_________________________________________________________________\n",
      "dropout_10 (Dropout)         (None, 1, 6, 6, 64)       0         \n",
      "_________________________________________________________________\n",
      "flatten_5 (Flatten)          (None, 2304)              0         \n",
      "_________________________________________________________________\n",
      "dense_13 (Dense)             (None, 1024)              2360320   \n",
      "_________________________________________________________________\n",
      "dropout_11 (Dropout)         (None, 1024)              0         \n",
      "_________________________________________________________________\n",
      "dense_14 (Dense)             (None, 512)               524800    \n",
      "_________________________________________________________________\n",
      "dropout_12 (Dropout)         (None, 512)               0         \n",
      "_________________________________________________________________\n",
      "dense_15 (Dense)             (None, 5)                 2565      \n",
      "=================================================================\n",
      "Total params: 2,961,509\n",
      "Trainable params: 2,961,269\n",
      "Non-trainable params: 240\n",
      "_________________________________________________________________\n",
      "None\n"
     ]
    }
   ],
   "source": [
    "optimiser = optimizers.Adam(lr=0.001)\n",
    "model.compile(optimizer=optimiser, loss='categorical_crossentropy', metrics=['categorical_accuracy'])\n",
    "print (model.summary())"
   ]
  },
  {
   "cell_type": "markdown",
   "metadata": {},
   "source": [
    "Let us create the `train_generator` and the `val_generator` which will be used in `.fit_generator`."
   ]
  },
  {
   "cell_type": "code",
   "execution_count": 36,
   "metadata": {},
   "outputs": [],
   "source": [
    "train_generator = generator(train_path, train_doc, batch_size)\n",
    "val_generator = generator(val_path, val_doc, batch_size)"
   ]
  },
  {
   "cell_type": "code",
   "execution_count": 37,
   "metadata": {},
   "outputs": [],
   "source": [
    "model_name = 'model_init' + '_' + str(curr_dt_time).replace(' ','').replace(':','_') + '/'\n",
    "    \n",
    "if not os.path.exists(model_name):\n",
    "    os.mkdir(model_name)\n",
    "        \n",
    "filepath = model_name + 'model-{epoch:05d}-{loss:.5f}-{categorical_accuracy:.5f}-{val_loss:.5f}-{val_categorical_accuracy:.5f}.h5'\n",
    "checkpoint = ModelCheckpoint(filepath, monitor='val_loss', verbose=1, save_best_only=False, save_weights_only=False, mode='auto', period=1)\n",
    "\n",
    "LR = ReduceLROnPlateau(monitor='val_loss', factor=0.5, patience=2, cooldown=1, verbose=1)\n",
    "callbacks_list = [checkpoint, LR]"
   ]
  },
  {
   "cell_type": "markdown",
   "metadata": {},
   "source": [
    "The `steps_per_epoch` and `validation_steps` are used by `fit_generator` to decide the number of next() calls it need to make."
   ]
  },
  {
   "cell_type": "code",
   "execution_count": 38,
   "metadata": {},
   "outputs": [],
   "source": [
    "if (num_train_sequences%batch_size) == 0:\n",
    "    steps_per_epoch = int(num_train_sequences/batch_size)\n",
    "else:\n",
    "    steps_per_epoch = (num_train_sequences//batch_size) + 1\n",
    "\n",
    "if (num_val_sequences%batch_size) == 0:\n",
    "    validation_steps = int(num_val_sequences/batch_size)\n",
    "else:\n",
    "    validation_steps = (num_val_sequences//batch_size) + 1"
   ]
  },
  {
   "cell_type": "markdown",
   "metadata": {},
   "source": [
    "Let us now fit the model. This will start training the model and with the help of the checkpoints, you'll be able to save the model at the end of each epoch."
   ]
  },
  {
   "cell_type": "code",
   "execution_count": 39,
   "metadata": {
    "scrolled": true
   },
   "outputs": [
    {
     "name": "stdout",
     "output_type": "stream",
     "text": [
      "Source path =  val ; batch size = 32\n",
      "Source path =  train ; batch size = 32\n",
      "Epoch 1/30\n"
     ]
    },
    {
     "name": "stderr",
     "output_type": "stream",
     "text": [
      "/mnt/disks/user/anaconda3/lib/python3.6/site-packages/ipykernel_launcher.py:13: DeprecationWarning: `imread` is deprecated!\n",
      "`imread` is deprecated in SciPy 1.0.0, and will be removed in 1.2.0.\n",
      "Use ``imageio.imread`` instead.\n",
      "  del sys.path[0]\n",
      "/mnt/disks/user/anaconda3/lib/python3.6/site-packages/ipykernel_launcher.py:16: DeprecationWarning: `imresize` is deprecated!\n",
      "`imresize` is deprecated in SciPy 1.0.0, and will be removed in 1.2.0.\n",
      "Use ``skimage.transform.resize`` instead.\n",
      "  app.launch_new_instance()\n"
     ]
    },
    {
     "name": "stdout",
     "output_type": "stream",
     "text": [
      "21/21 [==============================] - 68s 3s/step - loss: 10.4912 - categorical_accuracy: 0.2649 - val_loss: 8.4499 - val_categorical_accuracy: 0.2188\n",
      "\n",
      "Epoch 00001: saving model to model_init_2021-01-0317_22_48.704996/model-00001-10.49124-0.26488-8.44994-0.21875.h5\n",
      "Epoch 2/30\n",
      "21/21 [==============================] - 57s 3s/step - loss: 6.0847 - categorical_accuracy: 0.3884 - val_loss: 6.2012 - val_categorical_accuracy: 0.2500\n",
      "\n",
      "Epoch 00002: saving model to model_init_2021-01-0317_22_48.704996/model-00002-6.08473-0.38839-6.20115-0.25000.h5\n",
      "Epoch 3/30\n",
      "21/21 [==============================] - 61s 3s/step - loss: 5.0322 - categorical_accuracy: 0.4256 - val_loss: 4.6554 - val_categorical_accuracy: 0.4141\n",
      "\n",
      "Epoch 00003: saving model to model_init_2021-01-0317_22_48.704996/model-00003-5.03216-0.42560-4.65542-0.41406.h5\n",
      "Epoch 4/30\n",
      "21/21 [==============================] - 59s 3s/step - loss: 4.4327 - categorical_accuracy: 0.4539 - val_loss: 4.1092 - val_categorical_accuracy: 0.5078\n",
      "\n",
      "Epoch 00004: saving model to model_init_2021-01-0317_22_48.704996/model-00004-4.43271-0.45387-4.10918-0.50781.h5\n",
      "Epoch 5/30\n",
      "21/21 [==============================] - 60s 3s/step - loss: 3.9403 - categorical_accuracy: 0.5060 - val_loss: 3.7529 - val_categorical_accuracy: 0.4609\n",
      "\n",
      "Epoch 00005: saving model to model_init_2021-01-0317_22_48.704996/model-00005-3.94032-0.50595-3.75295-0.46094.h5\n",
      "Epoch 6/30\n",
      "21/21 [==============================] - 59s 3s/step - loss: 3.5303 - categorical_accuracy: 0.5417 - val_loss: 3.3226 - val_categorical_accuracy: 0.6094\n",
      "\n",
      "Epoch 00006: saving model to model_init_2021-01-0317_22_48.704996/model-00006-3.53031-0.54167-3.32263-0.60938.h5\n",
      "Epoch 7/30\n",
      "21/21 [==============================] - 61s 3s/step - loss: 3.1627 - categorical_accuracy: 0.5833 - val_loss: 3.1119 - val_categorical_accuracy: 0.6172\n",
      "\n",
      "Epoch 00007: saving model to model_init_2021-01-0317_22_48.704996/model-00007-3.16268-0.58333-3.11189-0.61719.h5\n",
      "Epoch 8/30\n",
      "21/21 [==============================] - 60s 3s/step - loss: 2.8330 - categorical_accuracy: 0.6310 - val_loss: 2.8865 - val_categorical_accuracy: 0.5938\n",
      "\n",
      "Epoch 00008: saving model to model_init_2021-01-0317_22_48.704996/model-00008-2.83303-0.63095-2.88647-0.59375.h5\n",
      "Epoch 9/30\n",
      "21/21 [==============================] - 60s 3s/step - loss: 2.6381 - categorical_accuracy: 0.6622 - val_loss: 2.3930 - val_categorical_accuracy: 0.7422\n",
      "\n",
      "Epoch 00009: saving model to model_init_2021-01-0317_22_48.704996/model-00009-2.63813-0.66220-2.39301-0.74219.h5\n",
      "Epoch 10/30\n",
      "21/21 [==============================] - 59s 3s/step - loss: 2.2897 - categorical_accuracy: 0.7262 - val_loss: 2.2230 - val_categorical_accuracy: 0.7031\n",
      "\n",
      "Epoch 00010: saving model to model_init_2021-01-0317_22_48.704996/model-00010-2.28965-0.72619-2.22300-0.70312.h5\n",
      "Epoch 11/30\n",
      "21/21 [==============================] - 59s 3s/step - loss: 2.1474 - categorical_accuracy: 0.7336 - val_loss: 2.2930 - val_categorical_accuracy: 0.6953\n",
      "\n",
      "Epoch 00011: saving model to model_init_2021-01-0317_22_48.704996/model-00011-2.14736-0.73363-2.29303-0.69531.h5\n",
      "Epoch 12/30\n",
      "21/21 [==============================] - 59s 3s/step - loss: 1.9603 - categorical_accuracy: 0.7634 - val_loss: 1.9440 - val_categorical_accuracy: 0.7188\n",
      "\n",
      "Epoch 00012: saving model to model_init_2021-01-0317_22_48.704996/model-00012-1.96026-0.76339-1.94403-0.71875.h5\n",
      "Epoch 13/30\n",
      "21/21 [==============================] - 62s 3s/step - loss: 1.7990 - categorical_accuracy: 0.8065 - val_loss: 2.9312 - val_categorical_accuracy: 0.4609\n",
      "\n",
      "Epoch 00013: saving model to model_init_2021-01-0317_22_48.704996/model-00013-1.79905-0.80655-2.93124-0.46094.h5\n",
      "Epoch 14/30\n",
      "21/21 [==============================] - 60s 3s/step - loss: 1.6735 - categorical_accuracy: 0.8080 - val_loss: 1.9305 - val_categorical_accuracy: 0.6953\n",
      "\n",
      "Epoch 00014: saving model to model_init_2021-01-0317_22_48.704996/model-00014-1.67347-0.80804-1.93054-0.69531.h5\n",
      "Epoch 15/30\n",
      "21/21 [==============================] - 59s 3s/step - loss: 1.4853 - categorical_accuracy: 0.8512 - val_loss: 1.6756 - val_categorical_accuracy: 0.7578\n",
      "\n",
      "Epoch 00015: saving model to model_init_2021-01-0317_22_48.704996/model-00015-1.48534-0.85119-1.67555-0.75781.h5\n",
      "Epoch 16/30\n",
      "21/21 [==============================] - 58s 3s/step - loss: 1.3650 - categorical_accuracy: 0.8601 - val_loss: 1.7335 - val_categorical_accuracy: 0.6562\n",
      "\n",
      "Epoch 00016: saving model to model_init_2021-01-0317_22_48.704996/model-00016-1.36498-0.86012-1.73350-0.65625.h5\n",
      "Epoch 17/30\n",
      "21/21 [==============================] - 59s 3s/step - loss: 1.3438 - categorical_accuracy: 0.8363 - val_loss: 1.8288 - val_categorical_accuracy: 0.6094\n",
      "\n",
      "Epoch 00017: saving model to model_init_2021-01-0317_22_48.704996/model-00017-1.34378-0.83631-1.82880-0.60938.h5\n",
      "\n",
      "Epoch 00017: ReduceLROnPlateau reducing learning rate to 0.0005000000237487257.\n",
      "Epoch 18/30\n",
      "21/21 [==============================] - 59s 3s/step - loss: 1.1533 - categorical_accuracy: 0.8943 - val_loss: 1.5094 - val_categorical_accuracy: 0.7656\n",
      "\n",
      "Epoch 00018: saving model to model_init_2021-01-0317_22_48.704996/model-00018-1.15332-0.89435-1.50939-0.76562.h5\n",
      "Epoch 19/30\n",
      "21/21 [==============================] - 60s 3s/step - loss: 1.0640 - categorical_accuracy: 0.9107 - val_loss: 1.4401 - val_categorical_accuracy: 0.7344\n",
      "\n",
      "Epoch 00019: saving model to model_init_2021-01-0317_22_48.704996/model-00019-1.06403-0.91071-1.44006-0.73438.h5\n",
      "Epoch 20/30\n",
      "21/21 [==============================] - 58s 3s/step - loss: 0.9715 - categorical_accuracy: 0.9301 - val_loss: 1.2883 - val_categorical_accuracy: 0.7891\n",
      "\n",
      "Epoch 00020: saving model to model_init_2021-01-0317_22_48.704996/model-00020-0.97148-0.93006-1.28827-0.78906.h5\n",
      "Epoch 21/30\n",
      "21/21 [==============================] - 59s 3s/step - loss: 0.9526 - categorical_accuracy: 0.9330 - val_loss: 1.9323 - val_categorical_accuracy: 0.6094\n",
      "\n",
      "Epoch 00021: saving model to model_init_2021-01-0317_22_48.704996/model-00021-0.95263-0.93304-1.93234-0.60938.h5\n",
      "Epoch 22/30\n",
      "21/21 [==============================] - 59s 3s/step - loss: 0.9341 - categorical_accuracy: 0.9226 - val_loss: 1.4489 - val_categorical_accuracy: 0.7734\n",
      "\n",
      "Epoch 00022: saving model to model_init_2021-01-0317_22_48.704996/model-00022-0.93415-0.92262-1.44887-0.77344.h5\n",
      "\n",
      "Epoch 00022: ReduceLROnPlateau reducing learning rate to 0.0002500000118743628.\n",
      "Epoch 23/30\n",
      "21/21 [==============================] - 57s 3s/step - loss: 0.8572 - categorical_accuracy: 0.9449 - val_loss: 1.2005 - val_categorical_accuracy: 0.8125\n",
      "\n",
      "Epoch 00023: saving model to model_init_2021-01-0317_22_48.704996/model-00023-0.85723-0.94494-1.20050-0.81250.h5\n",
      "Epoch 24/30\n",
      "21/21 [==============================] - 59s 3s/step - loss: 0.8356 - categorical_accuracy: 0.9405 - val_loss: 1.3789 - val_categorical_accuracy: 0.7656\n",
      "\n",
      "Epoch 00024: saving model to model_init_2021-01-0317_22_48.704996/model-00024-0.83564-0.94048-1.37887-0.76562.h5\n",
      "Epoch 25/30\n",
      "21/21 [==============================] - 59s 3s/step - loss: 0.7842 - categorical_accuracy: 0.9643 - val_loss: 1.3822 - val_categorical_accuracy: 0.7656\n",
      "\n",
      "Epoch 00025: saving model to model_init_2021-01-0317_22_48.704996/model-00025-0.78422-0.96429-1.38216-0.76562.h5\n",
      "\n",
      "Epoch 00025: ReduceLROnPlateau reducing learning rate to 0.0001250000059371814.\n",
      "Epoch 26/30\n",
      "21/21 [==============================] - 58s 3s/step - loss: 0.7802 - categorical_accuracy: 0.9524 - val_loss: 1.4895 - val_categorical_accuracy: 0.7344\n",
      "\n",
      "Epoch 00026: saving model to model_init_2021-01-0317_22_48.704996/model-00026-0.78017-0.95238-1.48946-0.73438.h5\n",
      "Epoch 27/30\n",
      "21/21 [==============================] - 58s 3s/step - loss: 0.7792 - categorical_accuracy: 0.9583 - val_loss: 1.1728 - val_categorical_accuracy: 0.8125\n",
      "\n",
      "Epoch 00027: saving model to model_init_2021-01-0317_22_48.704996/model-00027-0.77924-0.95833-1.17277-0.81250.h5\n",
      "Epoch 28/30\n",
      "21/21 [==============================] - 58s 3s/step - loss: 0.7284 - categorical_accuracy: 0.9807 - val_loss: 1.2033 - val_categorical_accuracy: 0.8047\n",
      "\n",
      "Epoch 00028: saving model to model_init_2021-01-0317_22_48.704996/model-00028-0.72839-0.98065-1.20326-0.80469.h5\n",
      "Epoch 29/30\n",
      "21/21 [==============================] - 58s 3s/step - loss: 0.7294 - categorical_accuracy: 0.9688 - val_loss: 1.4223 - val_categorical_accuracy: 0.7891\n",
      "\n",
      "Epoch 00029: saving model to model_init_2021-01-0317_22_48.704996/model-00029-0.72938-0.96875-1.42226-0.78906.h5\n",
      "\n",
      "Epoch 00029: ReduceLROnPlateau reducing learning rate to 6.25000029685907e-05.\n",
      "Epoch 30/30\n",
      "21/21 [==============================] - 58s 3s/step - loss: 0.7178 - categorical_accuracy: 0.9732 - val_loss: 1.2063 - val_categorical_accuracy: 0.7969\n",
      "\n",
      "Epoch 00030: saving model to model_init_2021-01-0317_22_48.704996/model-00030-0.71782-0.97321-1.20631-0.79688.h5\n"
     ]
    },
    {
     "data": {
      "text/plain": [
       "<keras.callbacks.History at 0x7f3629dd8a58>"
      ]
     },
     "execution_count": 39,
     "metadata": {},
     "output_type": "execute_result"
    }
   ],
   "source": [
    "model.fit_generator(train_generator, steps_per_epoch=steps_per_epoch, epochs=num_epochs, verbose=1, \n",
    "                    callbacks=callbacks_list, validation_data=val_generator, \n",
    "                    validation_steps=validation_steps, class_weight=None, workers=1, initial_epoch=0)"
   ]
  },
  {
   "cell_type": "code",
   "execution_count": null,
   "metadata": {},
   "outputs": [],
   "source": []
  },
  {
   "cell_type": "code",
   "execution_count": null,
   "metadata": {},
   "outputs": [],
   "source": []
  }
 ],
 "metadata": {
  "kernelspec": {
   "display_name": "Python 3",
   "language": "python",
   "name": "python3"
  },
  "language_info": {
   "codemirror_mode": {
    "name": "ipython",
    "version": 3
   },
   "file_extension": ".py",
   "mimetype": "text/x-python",
   "name": "python",
   "nbconvert_exporter": "python",
   "pygments_lexer": "ipython3",
   "version": "3.7.9"
  }
 },
 "nbformat": 4,
 "nbformat_minor": 2
}
