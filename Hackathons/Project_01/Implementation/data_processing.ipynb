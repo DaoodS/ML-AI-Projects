{
 "cells": [
  {
   "cell_type": "code",
   "execution_count": 1,
   "metadata": {},
   "outputs": [],
   "source": [
    "import pandas as pd\n",
    "import numpy as np\n",
    "import pandas_profiling as pp\n",
    "\n",
    "import seaborn as sns\n",
    "import matplotlib.pyplot as plt"
   ]
  },
  {
   "cell_type": "code",
   "execution_count": 2,
   "metadata": {},
   "outputs": [],
   "source": [
    "pd.set_option('display.max_columns', None)"
   ]
  },
  {
   "cell_type": "code",
   "execution_count": 3,
   "metadata": {},
   "outputs": [],
   "source": [
    "train = pd.read_csv('../Details/dataset/train.csv')\n",
    "test  = pd.read_csv('../Details/dataset/test.csv')"
   ]
  },
  {
   "cell_type": "code",
   "execution_count": 4,
   "metadata": {},
   "outputs": [
    {
     "data": {
      "text/html": [
       "<div>\n",
       "<style scoped>\n",
       "    .dataframe tbody tr th:only-of-type {\n",
       "        vertical-align: middle;\n",
       "    }\n",
       "\n",
       "    .dataframe tbody tr th {\n",
       "        vertical-align: top;\n",
       "    }\n",
       "\n",
       "    .dataframe thead th {\n",
       "        text-align: right;\n",
       "    }\n",
       "</style>\n",
       "<table border=\"1\" class=\"dataframe\">\n",
       "  <thead>\n",
       "    <tr style=\"text-align: right;\">\n",
       "      <th></th>\n",
       "      <th>customer_id</th>\n",
       "      <th>Name</th>\n",
       "      <th>age</th>\n",
       "      <th>gender</th>\n",
       "      <th>security_no</th>\n",
       "      <th>region_category</th>\n",
       "      <th>membership_category</th>\n",
       "      <th>joining_date</th>\n",
       "      <th>joined_through_referral</th>\n",
       "      <th>referral_id</th>\n",
       "      <th>preferred_offer_types</th>\n",
       "      <th>medium_of_operation</th>\n",
       "      <th>internet_option</th>\n",
       "      <th>last_visit_time</th>\n",
       "      <th>days_since_last_login</th>\n",
       "      <th>avg_time_spent</th>\n",
       "      <th>avg_transaction_value</th>\n",
       "      <th>avg_frequency_login_days</th>\n",
       "      <th>points_in_wallet</th>\n",
       "      <th>used_special_discount</th>\n",
       "      <th>offer_application_preference</th>\n",
       "      <th>past_complaint</th>\n",
       "      <th>complaint_status</th>\n",
       "      <th>feedback</th>\n",
       "      <th>churn_risk_score</th>\n",
       "    </tr>\n",
       "  </thead>\n",
       "  <tbody>\n",
       "    <tr>\n",
       "      <th>0</th>\n",
       "      <td>fffe4300490044003600300030003800</td>\n",
       "      <td>Pattie Morrisey</td>\n",
       "      <td>18</td>\n",
       "      <td>F</td>\n",
       "      <td>XW0DQ7H</td>\n",
       "      <td>Village</td>\n",
       "      <td>Platinum Membership</td>\n",
       "      <td>2017-08-17</td>\n",
       "      <td>No</td>\n",
       "      <td>xxxxxxxx</td>\n",
       "      <td>Gift Vouchers/Coupons</td>\n",
       "      <td>?</td>\n",
       "      <td>Wi-Fi</td>\n",
       "      <td>16:08:02</td>\n",
       "      <td>17</td>\n",
       "      <td>300.63</td>\n",
       "      <td>53005.25</td>\n",
       "      <td>17.0</td>\n",
       "      <td>781.75</td>\n",
       "      <td>Yes</td>\n",
       "      <td>Yes</td>\n",
       "      <td>No</td>\n",
       "      <td>Not Applicable</td>\n",
       "      <td>Products always in Stock</td>\n",
       "      <td>2</td>\n",
       "    </tr>\n",
       "    <tr>\n",
       "      <th>1</th>\n",
       "      <td>fffe43004900440032003100300035003700</td>\n",
       "      <td>Traci Peery</td>\n",
       "      <td>32</td>\n",
       "      <td>F</td>\n",
       "      <td>5K0N3X1</td>\n",
       "      <td>City</td>\n",
       "      <td>Premium Membership</td>\n",
       "      <td>2017-08-28</td>\n",
       "      <td>?</td>\n",
       "      <td>CID21329</td>\n",
       "      <td>Gift Vouchers/Coupons</td>\n",
       "      <td>Desktop</td>\n",
       "      <td>Mobile_Data</td>\n",
       "      <td>12:38:13</td>\n",
       "      <td>16</td>\n",
       "      <td>306.34</td>\n",
       "      <td>12838.38</td>\n",
       "      <td>10.0</td>\n",
       "      <td>NaN</td>\n",
       "      <td>Yes</td>\n",
       "      <td>No</td>\n",
       "      <td>Yes</td>\n",
       "      <td>Solved</td>\n",
       "      <td>Quality Customer Care</td>\n",
       "      <td>1</td>\n",
       "    </tr>\n",
       "    <tr>\n",
       "      <th>2</th>\n",
       "      <td>fffe4300490044003100390032003600</td>\n",
       "      <td>Merideth Mcmeen</td>\n",
       "      <td>44</td>\n",
       "      <td>F</td>\n",
       "      <td>1F2TCL3</td>\n",
       "      <td>Town</td>\n",
       "      <td>No Membership</td>\n",
       "      <td>2016-11-11</td>\n",
       "      <td>Yes</td>\n",
       "      <td>CID12313</td>\n",
       "      <td>Gift Vouchers/Coupons</td>\n",
       "      <td>Desktop</td>\n",
       "      <td>Wi-Fi</td>\n",
       "      <td>22:53:21</td>\n",
       "      <td>14</td>\n",
       "      <td>516.16</td>\n",
       "      <td>21027.00</td>\n",
       "      <td>22.0</td>\n",
       "      <td>500.69</td>\n",
       "      <td>No</td>\n",
       "      <td>Yes</td>\n",
       "      <td>Yes</td>\n",
       "      <td>Solved in Follow-up</td>\n",
       "      <td>Poor Website</td>\n",
       "      <td>5</td>\n",
       "    </tr>\n",
       "    <tr>\n",
       "      <th>3</th>\n",
       "      <td>fffe43004900440036003000330031003600</td>\n",
       "      <td>Eufemia Cardwell</td>\n",
       "      <td>37</td>\n",
       "      <td>M</td>\n",
       "      <td>VJGJ33N</td>\n",
       "      <td>City</td>\n",
       "      <td>No Membership</td>\n",
       "      <td>2016-10-29</td>\n",
       "      <td>Yes</td>\n",
       "      <td>CID3793</td>\n",
       "      <td>Gift Vouchers/Coupons</td>\n",
       "      <td>Desktop</td>\n",
       "      <td>Mobile_Data</td>\n",
       "      <td>15:57:50</td>\n",
       "      <td>11</td>\n",
       "      <td>53.27</td>\n",
       "      <td>25239.56</td>\n",
       "      <td>6.0</td>\n",
       "      <td>567.66</td>\n",
       "      <td>No</td>\n",
       "      <td>Yes</td>\n",
       "      <td>Yes</td>\n",
       "      <td>Unsolved</td>\n",
       "      <td>Poor Website</td>\n",
       "      <td>5</td>\n",
       "    </tr>\n",
       "    <tr>\n",
       "      <th>4</th>\n",
       "      <td>fffe43004900440031003900350030003600</td>\n",
       "      <td>Meghan Kosak</td>\n",
       "      <td>31</td>\n",
       "      <td>F</td>\n",
       "      <td>SVZXCWB</td>\n",
       "      <td>City</td>\n",
       "      <td>No Membership</td>\n",
       "      <td>2017-09-12</td>\n",
       "      <td>No</td>\n",
       "      <td>xxxxxxxx</td>\n",
       "      <td>Credit/Debit Card Offers</td>\n",
       "      <td>Smartphone</td>\n",
       "      <td>Mobile_Data</td>\n",
       "      <td>15:46:44</td>\n",
       "      <td>20</td>\n",
       "      <td>113.13</td>\n",
       "      <td>24483.66</td>\n",
       "      <td>16.0</td>\n",
       "      <td>663.06</td>\n",
       "      <td>No</td>\n",
       "      <td>Yes</td>\n",
       "      <td>Yes</td>\n",
       "      <td>Solved</td>\n",
       "      <td>Poor Website</td>\n",
       "      <td>5</td>\n",
       "    </tr>\n",
       "  </tbody>\n",
       "</table>\n",
       "</div>"
      ],
      "text/plain": [
       "                            customer_id              Name  age gender  \\\n",
       "0      fffe4300490044003600300030003800   Pattie Morrisey   18      F   \n",
       "1  fffe43004900440032003100300035003700       Traci Peery   32      F   \n",
       "2      fffe4300490044003100390032003600   Merideth Mcmeen   44      F   \n",
       "3  fffe43004900440036003000330031003600  Eufemia Cardwell   37      M   \n",
       "4  fffe43004900440031003900350030003600      Meghan Kosak   31      F   \n",
       "\n",
       "  security_no region_category  membership_category joining_date  \\\n",
       "0     XW0DQ7H         Village  Platinum Membership   2017-08-17   \n",
       "1     5K0N3X1            City   Premium Membership   2017-08-28   \n",
       "2     1F2TCL3            Town        No Membership   2016-11-11   \n",
       "3     VJGJ33N            City        No Membership   2016-10-29   \n",
       "4     SVZXCWB            City        No Membership   2017-09-12   \n",
       "\n",
       "  joined_through_referral referral_id     preferred_offer_types  \\\n",
       "0                      No    xxxxxxxx     Gift Vouchers/Coupons   \n",
       "1                       ?    CID21329     Gift Vouchers/Coupons   \n",
       "2                     Yes    CID12313     Gift Vouchers/Coupons   \n",
       "3                     Yes     CID3793     Gift Vouchers/Coupons   \n",
       "4                      No    xxxxxxxx  Credit/Debit Card Offers   \n",
       "\n",
       "  medium_of_operation internet_option last_visit_time  days_since_last_login  \\\n",
       "0                   ?           Wi-Fi        16:08:02                     17   \n",
       "1             Desktop     Mobile_Data        12:38:13                     16   \n",
       "2             Desktop           Wi-Fi        22:53:21                     14   \n",
       "3             Desktop     Mobile_Data        15:57:50                     11   \n",
       "4          Smartphone     Mobile_Data        15:46:44                     20   \n",
       "\n",
       "   avg_time_spent  avg_transaction_value avg_frequency_login_days  \\\n",
       "0          300.63               53005.25                     17.0   \n",
       "1          306.34               12838.38                     10.0   \n",
       "2          516.16               21027.00                     22.0   \n",
       "3           53.27               25239.56                      6.0   \n",
       "4          113.13               24483.66                     16.0   \n",
       "\n",
       "   points_in_wallet used_special_discount offer_application_preference  \\\n",
       "0            781.75                   Yes                          Yes   \n",
       "1               NaN                   Yes                           No   \n",
       "2            500.69                    No                          Yes   \n",
       "3            567.66                    No                          Yes   \n",
       "4            663.06                    No                          Yes   \n",
       "\n",
       "  past_complaint     complaint_status                  feedback  \\\n",
       "0             No       Not Applicable  Products always in Stock   \n",
       "1            Yes               Solved     Quality Customer Care   \n",
       "2            Yes  Solved in Follow-up              Poor Website   \n",
       "3            Yes             Unsolved              Poor Website   \n",
       "4            Yes               Solved              Poor Website   \n",
       "\n",
       "   churn_risk_score  \n",
       "0                 2  \n",
       "1                 1  \n",
       "2                 5  \n",
       "3                 5  \n",
       "4                 5  "
      ]
     },
     "execution_count": 4,
     "metadata": {},
     "output_type": "execute_result"
    }
   ],
   "source": [
    "train.head()"
   ]
  },
  {
   "cell_type": "code",
   "execution_count": 5,
   "metadata": {
    "scrolled": true
   },
   "outputs": [
    {
     "name": "stdout",
     "output_type": "stream",
     "text": [
      "<class 'pandas.core.frame.DataFrame'>\n",
      "RangeIndex: 36992 entries, 0 to 36991\n",
      "Data columns (total 25 columns):\n",
      " #   Column                        Non-Null Count  Dtype  \n",
      "---  ------                        --------------  -----  \n",
      " 0   customer_id                   36992 non-null  object \n",
      " 1   Name                          36992 non-null  object \n",
      " 2   age                           36992 non-null  int64  \n",
      " 3   gender                        36992 non-null  object \n",
      " 4   security_no                   36992 non-null  object \n",
      " 5   region_category               31564 non-null  object \n",
      " 6   membership_category           36992 non-null  object \n",
      " 7   joining_date                  36992 non-null  object \n",
      " 8   joined_through_referral       36992 non-null  object \n",
      " 9   referral_id                   36992 non-null  object \n",
      " 10  preferred_offer_types         36704 non-null  object \n",
      " 11  medium_of_operation           36992 non-null  object \n",
      " 12  internet_option               36992 non-null  object \n",
      " 13  last_visit_time               36992 non-null  object \n",
      " 14  days_since_last_login         36992 non-null  int64  \n",
      " 15  avg_time_spent                36992 non-null  float64\n",
      " 16  avg_transaction_value         36992 non-null  float64\n",
      " 17  avg_frequency_login_days      36992 non-null  object \n",
      " 18  points_in_wallet              33549 non-null  float64\n",
      " 19  used_special_discount         36992 non-null  object \n",
      " 20  offer_application_preference  36992 non-null  object \n",
      " 21  past_complaint                36992 non-null  object \n",
      " 22  complaint_status              36992 non-null  object \n",
      " 23  feedback                      36992 non-null  object \n",
      " 24  churn_risk_score              36992 non-null  int64  \n",
      "dtypes: float64(3), int64(3), object(19)\n",
      "memory usage: 7.1+ MB\n"
     ]
    }
   ],
   "source": [
    "train.info()"
   ]
  },
  {
   "cell_type": "code",
   "execution_count": 6,
   "metadata": {},
   "outputs": [
    {
     "data": {
      "text/html": [
       "<div>\n",
       "<style scoped>\n",
       "    .dataframe tbody tr th:only-of-type {\n",
       "        vertical-align: middle;\n",
       "    }\n",
       "\n",
       "    .dataframe tbody tr th {\n",
       "        vertical-align: top;\n",
       "    }\n",
       "\n",
       "    .dataframe thead th {\n",
       "        text-align: right;\n",
       "    }\n",
       "</style>\n",
       "<table border=\"1\" class=\"dataframe\">\n",
       "  <thead>\n",
       "    <tr style=\"text-align: right;\">\n",
       "      <th></th>\n",
       "      <th>age</th>\n",
       "      <th>days_since_last_login</th>\n",
       "      <th>avg_time_spent</th>\n",
       "      <th>avg_transaction_value</th>\n",
       "      <th>points_in_wallet</th>\n",
       "      <th>churn_risk_score</th>\n",
       "    </tr>\n",
       "  </thead>\n",
       "  <tbody>\n",
       "    <tr>\n",
       "      <th>count</th>\n",
       "      <td>36992.000000</td>\n",
       "      <td>36992.000000</td>\n",
       "      <td>36992.000000</td>\n",
       "      <td>36992.000000</td>\n",
       "      <td>33549.000000</td>\n",
       "      <td>36992.000000</td>\n",
       "    </tr>\n",
       "    <tr>\n",
       "      <th>mean</th>\n",
       "      <td>37.118161</td>\n",
       "      <td>-41.915576</td>\n",
       "      <td>243.472334</td>\n",
       "      <td>29271.194003</td>\n",
       "      <td>686.882199</td>\n",
       "      <td>3.463397</td>\n",
       "    </tr>\n",
       "    <tr>\n",
       "      <th>std</th>\n",
       "      <td>15.867412</td>\n",
       "      <td>228.819900</td>\n",
       "      <td>398.289149</td>\n",
       "      <td>19444.806226</td>\n",
       "      <td>194.063624</td>\n",
       "      <td>1.409661</td>\n",
       "    </tr>\n",
       "    <tr>\n",
       "      <th>min</th>\n",
       "      <td>10.000000</td>\n",
       "      <td>-999.000000</td>\n",
       "      <td>-2814.109110</td>\n",
       "      <td>800.460000</td>\n",
       "      <td>-760.661236</td>\n",
       "      <td>-1.000000</td>\n",
       "    </tr>\n",
       "    <tr>\n",
       "      <th>25%</th>\n",
       "      <td>23.000000</td>\n",
       "      <td>8.000000</td>\n",
       "      <td>60.102500</td>\n",
       "      <td>14177.540000</td>\n",
       "      <td>616.150000</td>\n",
       "      <td>3.000000</td>\n",
       "    </tr>\n",
       "    <tr>\n",
       "      <th>50%</th>\n",
       "      <td>37.000000</td>\n",
       "      <td>12.000000</td>\n",
       "      <td>161.765000</td>\n",
       "      <td>27554.485000</td>\n",
       "      <td>697.620000</td>\n",
       "      <td>4.000000</td>\n",
       "    </tr>\n",
       "    <tr>\n",
       "      <th>75%</th>\n",
       "      <td>51.000000</td>\n",
       "      <td>16.000000</td>\n",
       "      <td>356.515000</td>\n",
       "      <td>40855.110000</td>\n",
       "      <td>763.950000</td>\n",
       "      <td>5.000000</td>\n",
       "    </tr>\n",
       "    <tr>\n",
       "      <th>max</th>\n",
       "      <td>64.000000</td>\n",
       "      <td>26.000000</td>\n",
       "      <td>3235.578521</td>\n",
       "      <td>99914.050000</td>\n",
       "      <td>2069.069761</td>\n",
       "      <td>5.000000</td>\n",
       "    </tr>\n",
       "  </tbody>\n",
       "</table>\n",
       "</div>"
      ],
      "text/plain": [
       "                age  days_since_last_login  avg_time_spent  \\\n",
       "count  36992.000000           36992.000000    36992.000000   \n",
       "mean      37.118161             -41.915576      243.472334   \n",
       "std       15.867412             228.819900      398.289149   \n",
       "min       10.000000            -999.000000    -2814.109110   \n",
       "25%       23.000000               8.000000       60.102500   \n",
       "50%       37.000000              12.000000      161.765000   \n",
       "75%       51.000000              16.000000      356.515000   \n",
       "max       64.000000              26.000000     3235.578521   \n",
       "\n",
       "       avg_transaction_value  points_in_wallet  churn_risk_score  \n",
       "count           36992.000000      33549.000000      36992.000000  \n",
       "mean            29271.194003        686.882199          3.463397  \n",
       "std             19444.806226        194.063624          1.409661  \n",
       "min               800.460000       -760.661236         -1.000000  \n",
       "25%             14177.540000        616.150000          3.000000  \n",
       "50%             27554.485000        697.620000          4.000000  \n",
       "75%             40855.110000        763.950000          5.000000  \n",
       "max             99914.050000       2069.069761          5.000000  "
      ]
     },
     "execution_count": 6,
     "metadata": {},
     "output_type": "execute_result"
    }
   ],
   "source": [
    "train.describe()"
   ]
  },
  {
   "cell_type": "code",
   "execution_count": 7,
   "metadata": {
    "scrolled": true
   },
   "outputs": [],
   "source": [
    "# pp.ProfileReport(train)"
   ]
  },
  {
   "cell_type": "code",
   "execution_count": 8,
   "metadata": {
    "scrolled": true
   },
   "outputs": [
    {
     "data": {
      "text/plain": [
       "customer_id                     0.000000\n",
       "Name                            0.000000\n",
       "age                             0.000000\n",
       "gender                          0.000000\n",
       "security_no                     0.000000\n",
       "region_category                 0.146734\n",
       "membership_category             0.000000\n",
       "joining_date                    0.000000\n",
       "joined_through_referral         0.000000\n",
       "referral_id                     0.000000\n",
       "preferred_offer_types           0.007785\n",
       "medium_of_operation             0.000000\n",
       "internet_option                 0.000000\n",
       "last_visit_time                 0.000000\n",
       "days_since_last_login           0.000000\n",
       "avg_time_spent                  0.000000\n",
       "avg_transaction_value           0.000000\n",
       "avg_frequency_login_days        0.000000\n",
       "points_in_wallet                0.093074\n",
       "used_special_discount           0.000000\n",
       "offer_application_preference    0.000000\n",
       "past_complaint                  0.000000\n",
       "complaint_status                0.000000\n",
       "feedback                        0.000000\n",
       "churn_risk_score                0.000000\n",
       "dtype: float64"
      ]
     },
     "execution_count": 8,
     "metadata": {},
     "output_type": "execute_result"
    }
   ],
   "source": [
    "train.isnull().sum()/train.shape[0]"
   ]
  },
  {
   "cell_type": "code",
   "execution_count": 9,
   "metadata": {
    "scrolled": true
   },
   "outputs": [
    {
     "name": "stdout",
     "output_type": "stream",
     "text": [
      "customer_id -- 36992\n",
      "Name -- 36992\n",
      "age -- 55\n",
      "gender -- 3\n",
      "security_no -- 36992\n",
      "region_category -- 3\n",
      "membership_category -- 6\n",
      "joining_date -- 1096\n",
      "joined_through_referral -- 3\n",
      "referral_id -- 11359\n",
      "preferred_offer_types -- 3\n",
      "medium_of_operation -- 4\n",
      "internet_option -- 3\n",
      "last_visit_time -- 30101\n",
      "days_since_last_login -- 27\n",
      "avg_time_spent -- 25961\n",
      "avg_transaction_value -- 36894\n",
      "avg_frequency_login_days -- 1654\n",
      "points_in_wallet -- 23699\n",
      "used_special_discount -- 2\n",
      "offer_application_preference -- 2\n",
      "past_complaint -- 2\n",
      "complaint_status -- 5\n",
      "feedback -- 9\n",
      "churn_risk_score -- 6\n"
     ]
    }
   ],
   "source": [
    "for i in train.columns:\n",
    "    print(\"{} -- {}\".format(i, train[i].nunique()))"
   ]
  },
  {
   "cell_type": "code",
   "execution_count": 10,
   "metadata": {
    "scrolled": true
   },
   "outputs": [
    {
     "data": {
      "text/plain": [
       "0"
      ]
     },
     "execution_count": 10,
     "metadata": {},
     "output_type": "execute_result"
    }
   ],
   "source": [
    "train['customer_id'].isin(train['referral_id']).sum()"
   ]
  },
  {
   "cell_type": "code",
   "execution_count": 11,
   "metadata": {},
   "outputs": [
    {
     "data": {
      "text/plain": [
       " 3    10424\n",
       " 4    10185\n",
       " 5     9827\n",
       " 2     2741\n",
       " 1     2652\n",
       "-1     1163\n",
       "Name: churn_risk_score, dtype: int64"
      ]
     },
     "execution_count": 11,
     "metadata": {},
     "output_type": "execute_result"
    }
   ],
   "source": [
    "train['churn_risk_score'].value_counts()"
   ]
  },
  {
   "cell_type": "code",
   "execution_count": 12,
   "metadata": {},
   "outputs": [
    {
     "data": {
      "text/plain": [
       "Town       14128\n",
       "City       12737\n",
       "Village     4699\n",
       "Name: region_category, dtype: int64"
      ]
     },
     "execution_count": 12,
     "metadata": {},
     "output_type": "execute_result"
    }
   ],
   "source": [
    "train['region_category'].value_counts()"
   ]
  },
  {
   "cell_type": "code",
   "execution_count": 13,
   "metadata": {},
   "outputs": [
    {
     "data": {
      "text/plain": [
       "Gift Vouchers/Coupons       12349\n",
       "Credit/Debit Card Offers    12274\n",
       "Without Offers              12081\n",
       "Name: preferred_offer_types, dtype: int64"
      ]
     },
     "execution_count": 13,
     "metadata": {},
     "output_type": "execute_result"
    }
   ],
   "source": [
    "train['preferred_offer_types'].value_counts()"
   ]
  },
  {
   "cell_type": "code",
   "execution_count": 14,
   "metadata": {
    "scrolled": false
   },
   "outputs": [
    {
     "name": "stderr",
     "output_type": "stream",
     "text": [
      "D:\\Programs\\Anaconda\\lib\\site-packages\\seaborn\\_decorators.py:43: FutureWarning: Pass the following variable as a keyword arg: x. From version 0.12, the only valid positional argument will be `data`, and passing other arguments without an explicit keyword will result in an error or misinterpretation.\n",
      "  FutureWarning\n"
     ]
    },
    {
     "data": {
      "text/plain": [
       "<AxesSubplot:xlabel='points_in_wallet'>"
      ]
     },
     "execution_count": 14,
     "metadata": {},
     "output_type": "execute_result"
    },
    {
     "data": {
      "image/png": "[encoded data removed]",
      "text/plain": [
       "<Figure size 432x288 with 1 Axes>"
      ]
     },
     "metadata": {
      "needs_background": "light"
     },
     "output_type": "display_data"
    }
   ],
   "source": [
    "sns.boxplot(train['points_in_wallet'])"
   ]
  },
  {
   "cell_type": "code",
   "execution_count": 15,
   "metadata": {},
   "outputs": [
    {
     "data": {
      "text/plain": [
       "Basic Membership       7724\n",
       "No Membership          7692\n",
       "Gold Membership        6795\n",
       "Silver Membership      5988\n",
       "Premium Membership     4455\n",
       "Platinum Membership    4338\n",
       "Name: membership_category, dtype: int64"
      ]
     },
     "execution_count": 15,
     "metadata": {},
     "output_type": "execute_result"
    }
   ],
   "source": [
    "train['membership_category'].value_counts()"
   ]
  },
  {
   "cell_type": "code",
   "execution_count": 16,
   "metadata": {},
   "outputs": [
    {
     "data": {
      "text/plain": [
       "Wi-Fi          12413\n",
       "Mobile_Data    12343\n",
       "Fiber_Optic    12236\n",
       "Name: internet_option, dtype: int64"
      ]
     },
     "execution_count": 16,
     "metadata": {},
     "output_type": "execute_result"
    }
   ],
   "source": [
    "train['internet_option'].value_counts()"
   ]
  },
  {
   "cell_type": "code",
   "execution_count": 17,
   "metadata": {},
   "outputs": [
    {
     "data": {
      "text/plain": [
       "No     15839\n",
       "Yes    15715\n",
       "?       5438\n",
       "Name: joined_through_referral, dtype: int64"
      ]
     },
     "execution_count": 17,
     "metadata": {},
     "output_type": "execute_result"
    }
   ],
   "source": [
    "train['joined_through_referral'].value_counts()"
   ]
  },
  {
   "cell_type": "code",
   "execution_count": 18,
   "metadata": {},
   "outputs": [
    {
     "data": {
      "text/plain": [
       "Desktop       13913\n",
       "Smartphone    13876\n",
       "?              5393\n",
       "Both           3810\n",
       "Name: medium_of_operation, dtype: int64"
      ]
     },
     "execution_count": 18,
     "metadata": {},
     "output_type": "execute_result"
    }
   ],
   "source": [
    "train['medium_of_operation'].value_counts()"
   ]
  },
  {
   "cell_type": "code",
   "execution_count": 19,
   "metadata": {},
   "outputs": [
    {
     "name": "stderr",
     "output_type": "stream",
     "text": [
      "D:\\Programs\\Anaconda\\lib\\site-packages\\seaborn\\_decorators.py:43: FutureWarning: Pass the following variable as a keyword arg: x. From version 0.12, the only valid positional argument will be `data`, and passing other arguments without an explicit keyword will result in an error or misinterpretation.\n",
      "  FutureWarning\n"
     ]
    },
    {
     "data": {
      "text/plain": [
       "<AxesSubplot:xlabel='avg_time_spent'>"
      ]
     },
     "execution_count": 19,
     "metadata": {},
     "output_type": "execute_result"
    },
    {
     "data": {
      "image/png": "[encoded data removed]",
      "text/plain": [
       "<Figure size 432x288 with 1 Axes>"
      ]
     },
     "metadata": {
      "needs_background": "light"
     },
     "output_type": "display_data"
    }
   ],
   "source": [
    "sns.boxplot(train['avg_time_spent'])"
   ]
  },
  {
   "cell_type": "code",
   "execution_count": 20,
   "metadata": {},
   "outputs": [
    {
     "name": "stderr",
     "output_type": "stream",
     "text": [
      "D:\\Programs\\Anaconda\\lib\\site-packages\\seaborn\\_decorators.py:43: FutureWarning: Pass the following variable as a keyword arg: x. From version 0.12, the only valid positional argument will be `data`, and passing other arguments without an explicit keyword will result in an error or misinterpretation.\n",
      "  FutureWarning\n"
     ]
    },
    {
     "data": {
      "text/plain": [
       "<AxesSubplot:xlabel='avg_transaction_value'>"
      ]
     },
     "execution_count": 20,
     "metadata": {},
     "output_type": "execute_result"
    },
    {
     "data": {
      "image/png": "[encoded data removed]",
      "text/plain": [
       "<Figure size 432x288 with 1 Axes>"
      ]
     },
     "metadata": {
      "needs_background": "light"
     },
     "output_type": "display_data"
    }
   ],
   "source": [
    "sns.boxplot(train['avg_transaction_value'])"
   ]
  },
  {
   "cell_type": "code",
   "execution_count": 21,
   "metadata": {},
   "outputs": [
    {
     "data": {
      "text/plain": [
       "Yes    20440\n",
       "No     16552\n",
       "Name: offer_application_preference, dtype: int64"
      ]
     },
     "execution_count": 21,
     "metadata": {},
     "output_type": "execute_result"
    }
   ],
   "source": [
    "train['offer_application_preference'].value_counts()"
   ]
  },
  {
   "cell_type": "code",
   "execution_count": 22,
   "metadata": {
    "scrolled": true
   },
   "outputs": [
    {
     "data": {
      "text/plain": [
       "Yes    20342\n",
       "No     16650\n",
       "Name: used_special_discount, dtype: int64"
      ]
     },
     "execution_count": 22,
     "metadata": {},
     "output_type": "execute_result"
    }
   ],
   "source": [
    "train['used_special_discount'].value_counts()"
   ]
  },
  {
   "cell_type": "code",
   "execution_count": 23,
   "metadata": {
    "scrolled": false
   },
   "outputs": [
    {
     "data": {
      "text/plain": [
       "region_category  membership_category\n",
       "City             Basic Membership       2694\n",
       "                 Gold Membership        2387\n",
       "                 No Membership          2672\n",
       "                 Platinum Membership    1440\n",
       "                 Premium Membership     1514\n",
       "                 Silver Membership      2030\n",
       "Town             Basic Membership       2942\n",
       "                 Gold Membership        2520\n",
       "                 No Membership          2941\n",
       "                 Platinum Membership    1693\n",
       "                 Premium Membership     1662\n",
       "                 Silver Membership      2370\n",
       "Village          Basic Membership        926\n",
       "                 Gold Membership         881\n",
       "                 No Membership           927\n",
       "                 Platinum Membership     585\n",
       "                 Premium Membership      627\n",
       "                 Silver Membership       753\n",
       "Name: customer_id, dtype: int64"
      ]
     },
     "execution_count": 23,
     "metadata": {},
     "output_type": "execute_result"
    }
   ],
   "source": [
    "train.groupby(['region_category', 'membership_category'])['customer_id'].count()"
   ]
  },
  {
   "cell_type": "code",
   "execution_count": 24,
   "metadata": {
    "scrolled": true
   },
   "outputs": [
    {
     "data": {
      "text/plain": [
       "region_category  membership_category  preferred_offer_types   \n",
       "City             Basic Membership     Credit/Debit Card Offers     871\n",
       "                                      Gift Vouchers/Coupons        856\n",
       "                                      Without Offers               945\n",
       "                 Gold Membership      Credit/Debit Card Offers     732\n",
       "                                      Gift Vouchers/Coupons        865\n",
       "                                      Without Offers               773\n",
       "                 No Membership        Credit/Debit Card Offers     879\n",
       "                                      Gift Vouchers/Coupons        857\n",
       "                                      Without Offers               918\n",
       "                 Platinum Membership  Credit/Debit Card Offers     492\n",
       "                                      Gift Vouchers/Coupons        501\n",
       "                                      Without Offers               434\n",
       "                 Premium Membership   Credit/Debit Card Offers     510\n",
       "                                      Gift Vouchers/Coupons        527\n",
       "                                      Without Offers               469\n",
       "                 Silver Membership    Credit/Debit Card Offers     682\n",
       "                                      Gift Vouchers/Coupons        660\n",
       "                                      Without Offers               664\n",
       "Town             Basic Membership     Credit/Debit Card Offers     995\n",
       "                                      Gift Vouchers/Coupons        948\n",
       "                                      Without Offers               981\n",
       "                 Gold Membership      Credit/Debit Card Offers     817\n",
       "                                      Gift Vouchers/Coupons        849\n",
       "                                      Without Offers               830\n",
       "                 No Membership        Credit/Debit Card Offers     988\n",
       "                                      Gift Vouchers/Coupons        918\n",
       "                                      Without Offers              1011\n",
       "                 Platinum Membership  Credit/Debit Card Offers     593\n",
       "                                      Gift Vouchers/Coupons        551\n",
       "                                      Without Offers               536\n",
       "                 Premium Membership   Credit/Debit Card Offers     560\n",
       "                                      Gift Vouchers/Coupons        592\n",
       "                                      Without Offers               499\n",
       "                 Silver Membership    Credit/Debit Card Offers     789\n",
       "                                      Gift Vouchers/Coupons        799\n",
       "                                      Without Offers               769\n",
       "Village          Basic Membership     Credit/Debit Card Offers     331\n",
       "                                      Gift Vouchers/Coupons        280\n",
       "                                      Without Offers               309\n",
       "                 Gold Membership      Credit/Debit Card Offers     273\n",
       "                                      Gift Vouchers/Coupons        308\n",
       "                                      Without Offers               296\n",
       "                 No Membership        Credit/Debit Card Offers     306\n",
       "                                      Gift Vouchers/Coupons        317\n",
       "                                      Without Offers               299\n",
       "                 Platinum Membership  Credit/Debit Card Offers     190\n",
       "                                      Gift Vouchers/Coupons        211\n",
       "                                      Without Offers               179\n",
       "                 Premium Membership   Credit/Debit Card Offers     204\n",
       "                                      Gift Vouchers/Coupons        231\n",
       "                                      Without Offers               187\n",
       "                 Silver Membership    Credit/Debit Card Offers     264\n",
       "                                      Gift Vouchers/Coupons        268\n",
       "                                      Without Offers               212\n",
       "Name: customer_id, dtype: int64"
      ]
     },
     "execution_count": 24,
     "metadata": {},
     "output_type": "execute_result"
    }
   ],
   "source": [
    "train.groupby(['region_category', 'membership_category', 'preferred_offer_types'])['customer_id'].count()"
   ]
  },
  {
   "cell_type": "code",
   "execution_count": 25,
   "metadata": {
    "scrolled": true
   },
   "outputs": [
    {
     "data": {
      "text/plain": [
       "region_category  preferred_offer_types   \n",
       "City             Credit/Debit Card Offers    4166\n",
       "                 Gift Vouchers/Coupons       4266\n",
       "                 Without Offers              4203\n",
       "Town             Credit/Debit Card Offers    4742\n",
       "                 Gift Vouchers/Coupons       4657\n",
       "                 Without Offers              4626\n",
       "Village          Credit/Debit Card Offers    1568\n",
       "                 Gift Vouchers/Coupons       1615\n",
       "                 Without Offers              1482\n",
       "Name: customer_id, dtype: int64"
      ]
     },
     "execution_count": 25,
     "metadata": {},
     "output_type": "execute_result"
    }
   ],
   "source": [
    "train.groupby(['region_category', 'preferred_offer_types'])['customer_id'].count()"
   ]
  },
  {
   "cell_type": "code",
   "execution_count": 26,
   "metadata": {},
   "outputs": [
    {
     "data": {
      "text/plain": [
       "region_category\n",
       "City       29113.498927\n",
       "Town       29105.414562\n",
       "Village    30473.511647\n",
       "Name: avg_transaction_value, dtype: float64"
      ]
     },
     "execution_count": 26,
     "metadata": {},
     "output_type": "execute_result"
    }
   ],
   "source": [
    "train.groupby(['region_category'])['avg_transaction_value'].mean()"
   ]
  },
  {
   "cell_type": "code",
   "execution_count": 27,
   "metadata": {},
   "outputs": [
    {
     "data": {
      "text/plain": [
       "region_category\n",
       "City       29113.498927\n",
       "Town       29105.414562\n",
       "Village    30473.511647\n",
       "Name: avg_transaction_value, dtype: float64"
      ]
     },
     "execution_count": 27,
     "metadata": {},
     "output_type": "execute_result"
    }
   ],
   "source": [
    "train.groupby(['region_category'])['avg_transaction_value'].mean()"
   ]
  },
  {
   "cell_type": "code",
   "execution_count": 28,
   "metadata": {},
   "outputs": [
    {
     "data": {
      "text/html": [
       "<div>\n",
       "<style scoped>\n",
       "    .dataframe tbody tr th:only-of-type {\n",
       "        vertical-align: middle;\n",
       "    }\n",
       "\n",
       "    .dataframe tbody tr th {\n",
       "        vertical-align: top;\n",
       "    }\n",
       "\n",
       "    .dataframe thead th {\n",
       "        text-align: right;\n",
       "    }\n",
       "</style>\n",
       "<table border=\"1\" class=\"dataframe\">\n",
       "  <thead>\n",
       "    <tr style=\"text-align: right;\">\n",
       "      <th>region_category</th>\n",
       "      <th>City</th>\n",
       "      <th>Town</th>\n",
       "      <th>Village</th>\n",
       "    </tr>\n",
       "    <tr>\n",
       "      <th>membership_category</th>\n",
       "      <th></th>\n",
       "      <th></th>\n",
       "      <th></th>\n",
       "    </tr>\n",
       "  </thead>\n",
       "  <tbody>\n",
       "    <tr>\n",
       "      <th>Basic Membership</th>\n",
       "      <td>25251.574484</td>\n",
       "      <td>25149.255707</td>\n",
       "      <td>25465.839546</td>\n",
       "    </tr>\n",
       "    <tr>\n",
       "      <th>Gold Membership</th>\n",
       "      <td>31029.502782</td>\n",
       "      <td>30343.957857</td>\n",
       "      <td>32654.907650</td>\n",
       "    </tr>\n",
       "    <tr>\n",
       "      <th>No Membership</th>\n",
       "      <td>25024.338664</td>\n",
       "      <td>25630.494539</td>\n",
       "      <td>25265.812557</td>\n",
       "    </tr>\n",
       "    <tr>\n",
       "      <th>Platinum Membership</th>\n",
       "      <td>35406.498444</td>\n",
       "      <td>35305.889138</td>\n",
       "      <td>36365.285487</td>\n",
       "    </tr>\n",
       "    <tr>\n",
       "      <th>Premium Membership</th>\n",
       "      <td>34807.318164</td>\n",
       "      <td>35340.720499</td>\n",
       "      <td>37757.849442</td>\n",
       "    </tr>\n",
       "    <tr>\n",
       "      <th>Silver Membership</th>\n",
       "      <td>28657.537271</td>\n",
       "      <td>28209.696464</td>\n",
       "      <td>29847.833094</td>\n",
       "    </tr>\n",
       "  </tbody>\n",
       "</table>\n",
       "</div>"
      ],
      "text/plain": [
       "region_category              City          Town       Village\n",
       "membership_category                                          \n",
       "Basic Membership     25251.574484  25149.255707  25465.839546\n",
       "Gold Membership      31029.502782  30343.957857  32654.907650\n",
       "No Membership        25024.338664  25630.494539  25265.812557\n",
       "Platinum Membership  35406.498444  35305.889138  36365.285487\n",
       "Premium Membership   34807.318164  35340.720499  37757.849442\n",
       "Silver Membership    28657.537271  28209.696464  29847.833094"
      ]
     },
     "execution_count": 28,
     "metadata": {},
     "output_type": "execute_result"
    }
   ],
   "source": [
    "train.pivot_table(values='avg_transaction_value', index='membership_category', columns='region_category', aggfunc='mean')"
   ]
  },
  {
   "cell_type": "code",
   "execution_count": 29,
   "metadata": {},
   "outputs": [
    {
     "data": {
      "text/html": [
       "<div>\n",
       "<style scoped>\n",
       "    .dataframe tbody tr th:only-of-type {\n",
       "        vertical-align: middle;\n",
       "    }\n",
       "\n",
       "    .dataframe tbody tr th {\n",
       "        vertical-align: top;\n",
       "    }\n",
       "\n",
       "    .dataframe thead th {\n",
       "        text-align: right;\n",
       "    }\n",
       "</style>\n",
       "<table border=\"1\" class=\"dataframe\">\n",
       "  <thead>\n",
       "    <tr style=\"text-align: right;\">\n",
       "      <th>region_category</th>\n",
       "      <th>City</th>\n",
       "      <th>Town</th>\n",
       "      <th>Village</th>\n",
       "    </tr>\n",
       "    <tr>\n",
       "      <th>membership_category</th>\n",
       "      <th></th>\n",
       "      <th></th>\n",
       "      <th></th>\n",
       "    </tr>\n",
       "  </thead>\n",
       "  <tbody>\n",
       "    <tr>\n",
       "      <th>Basic Membership</th>\n",
       "      <td>620.285410</td>\n",
       "      <td>619.385697</td>\n",
       "      <td>635.413994</td>\n",
       "    </tr>\n",
       "    <tr>\n",
       "      <th>Gold Membership</th>\n",
       "      <td>720.761582</td>\n",
       "      <td>728.639188</td>\n",
       "      <td>728.212672</td>\n",
       "    </tr>\n",
       "    <tr>\n",
       "      <th>No Membership</th>\n",
       "      <td>621.944524</td>\n",
       "      <td>622.093283</td>\n",
       "      <td>615.954795</td>\n",
       "    </tr>\n",
       "    <tr>\n",
       "      <th>Platinum Membership</th>\n",
       "      <td>757.564796</td>\n",
       "      <td>760.765722</td>\n",
       "      <td>761.545267</td>\n",
       "    </tr>\n",
       "    <tr>\n",
       "      <th>Premium Membership</th>\n",
       "      <td>754.223383</td>\n",
       "      <td>748.566193</td>\n",
       "      <td>767.716579</td>\n",
       "    </tr>\n",
       "    <tr>\n",
       "      <th>Silver Membership</th>\n",
       "      <td>714.130736</td>\n",
       "      <td>714.438923</td>\n",
       "      <td>711.886888</td>\n",
       "    </tr>\n",
       "  </tbody>\n",
       "</table>\n",
       "</div>"
      ],
      "text/plain": [
       "region_category            City        Town     Village\n",
       "membership_category                                    \n",
       "Basic Membership     620.285410  619.385697  635.413994\n",
       "Gold Membership      720.761582  728.639188  728.212672\n",
       "No Membership        621.944524  622.093283  615.954795\n",
       "Platinum Membership  757.564796  760.765722  761.545267\n",
       "Premium Membership   754.223383  748.566193  767.716579\n",
       "Silver Membership    714.130736  714.438923  711.886888"
      ]
     },
     "execution_count": 29,
     "metadata": {},
     "output_type": "execute_result"
    }
   ],
   "source": [
    "train.pivot_table(values='points_in_wallet', index='membership_category', columns='region_category', aggfunc='mean')"
   ]
  },
  {
   "cell_type": "code",
   "execution_count": 30,
   "metadata": {
    "scrolled": true
   },
   "outputs": [
    {
     "data": {
      "text/html": [
       "<div>\n",
       "<style scoped>\n",
       "    .dataframe tbody tr th:only-of-type {\n",
       "        vertical-align: middle;\n",
       "    }\n",
       "\n",
       "    .dataframe tbody tr th {\n",
       "        vertical-align: top;\n",
       "    }\n",
       "\n",
       "    .dataframe thead th {\n",
       "        text-align: right;\n",
       "    }\n",
       "</style>\n",
       "<table border=\"1\" class=\"dataframe\">\n",
       "  <thead>\n",
       "    <tr style=\"text-align: right;\">\n",
       "      <th>region_category</th>\n",
       "      <th>City</th>\n",
       "      <th>Town</th>\n",
       "      <th>Village</th>\n",
       "    </tr>\n",
       "    <tr>\n",
       "      <th>membership_category</th>\n",
       "      <th></th>\n",
       "      <th></th>\n",
       "      <th></th>\n",
       "    </tr>\n",
       "  </thead>\n",
       "  <tbody>\n",
       "    <tr>\n",
       "      <th>Basic Membership</th>\n",
       "      <td>229.022819</td>\n",
       "      <td>240.806194</td>\n",
       "      <td>237.630324</td>\n",
       "    </tr>\n",
       "    <tr>\n",
       "      <th>Gold Membership</th>\n",
       "      <td>251.880280</td>\n",
       "      <td>247.243086</td>\n",
       "      <td>250.711293</td>\n",
       "    </tr>\n",
       "    <tr>\n",
       "      <th>No Membership</th>\n",
       "      <td>235.439013</td>\n",
       "      <td>241.621600</td>\n",
       "      <td>257.365075</td>\n",
       "    </tr>\n",
       "    <tr>\n",
       "      <th>Platinum Membership</th>\n",
       "      <td>255.503157</td>\n",
       "      <td>253.358840</td>\n",
       "      <td>224.151693</td>\n",
       "    </tr>\n",
       "    <tr>\n",
       "      <th>Premium Membership</th>\n",
       "      <td>249.490617</td>\n",
       "      <td>249.976315</td>\n",
       "      <td>262.864951</td>\n",
       "    </tr>\n",
       "    <tr>\n",
       "      <th>Silver Membership</th>\n",
       "      <td>241.730296</td>\n",
       "      <td>240.642991</td>\n",
       "      <td>249.441455</td>\n",
       "    </tr>\n",
       "  </tbody>\n",
       "</table>\n",
       "</div>"
      ],
      "text/plain": [
       "region_category            City        Town     Village\n",
       "membership_category                                    \n",
       "Basic Membership     229.022819  240.806194  237.630324\n",
       "Gold Membership      251.880280  247.243086  250.711293\n",
       "No Membership        235.439013  241.621600  257.365075\n",
       "Platinum Membership  255.503157  253.358840  224.151693\n",
       "Premium Membership   249.490617  249.976315  262.864951\n",
       "Silver Membership    241.730296  240.642991  249.441455"
      ]
     },
     "execution_count": 30,
     "metadata": {},
     "output_type": "execute_result"
    }
   ],
   "source": [
    "train.pivot_table(values='avg_time_spent', index='membership_category', columns='region_category', aggfunc='mean')"
   ]
  },
  {
   "cell_type": "code",
   "execution_count": 31,
   "metadata": {},
   "outputs": [
    {
     "data": {
      "image/png": "[encoded data removed]",
      "text/plain": [
       "<Figure size 864x432 with 1 Axes>"
      ]
     },
     "metadata": {
      "needs_background": "light"
     },
     "output_type": "display_data"
    }
   ],
   "source": [
    "plt.figure(figsize=(12,6))\n",
    "sns.boxplot(x='membership_category', y='avg_transaction_value', hue='region_category', data=train)\n",
    "plt.show()"
   ]
  },
  {
   "cell_type": "code",
   "execution_count": 32,
   "metadata": {},
   "outputs": [
    {
     "data": {
      "image/png": "[encoded data removed]",
      "text/plain": [
       "<Figure size 864x432 with 1 Axes>"
      ]
     },
     "metadata": {
      "needs_background": "light"
     },
     "output_type": "display_data"
    }
   ],
   "source": [
    "plt.figure(figsize=(12,6))\n",
    "sns.boxplot(x='membership_category', y='points_in_wallet', hue='region_category', data=train)\n",
    "plt.show()"
   ]
  },
  {
   "cell_type": "code",
   "execution_count": 33,
   "metadata": {},
   "outputs": [
    {
     "data": {
      "image/png": "[encoded data removed]",
      "text/plain": [
       "<Figure size 864x432 with 1 Axes>"
      ]
     },
     "metadata": {
      "needs_background": "light"
     },
     "output_type": "display_data"
    }
   ],
   "source": [
    "plt.figure(figsize=(12,6))\n",
    "sns.boxplot(x='membership_category', y='avg_time_spent', hue='region_category', data=train)\n",
    "plt.show()"
   ]
  },
  {
   "cell_type": "code",
   "execution_count": 34,
   "metadata": {},
   "outputs": [
    {
     "data": {
      "image/png": "[encoded data removed]",
      "text/plain": [
       "<Figure size 864x360 with 1 Axes>"
      ]
     },
     "metadata": {
      "needs_background": "light"
     },
     "output_type": "display_data"
    }
   ],
   "source": [
    "plt.figure(figsize=(12,5))\n",
    "sns.barplot(x='membership_category', y='avg_time_spent', data=train, estimator=np.mean)\n",
    "plt.show()"
   ]
  },
  {
   "cell_type": "code",
   "execution_count": 35,
   "metadata": {},
   "outputs": [
    {
     "data": {
      "text/plain": [
       "membership_category\n",
       "Basic Membership       25235.326221\n",
       "Gold Membership        31058.701054\n",
       "No Membership          25363.630116\n",
       "Platinum Membership    35347.613898\n",
       "Premium Membership     35348.589235\n",
       "Silver Membership      28544.675716\n",
       "Name: avg_transaction_value, dtype: float64"
      ]
     },
     "execution_count": 35,
     "metadata": {},
     "output_type": "execute_result"
    }
   ],
   "source": [
    "train.groupby('membership_category')['avg_transaction_value'].mean()"
   ]
  },
  {
   "cell_type": "code",
   "execution_count": 36,
   "metadata": {
    "scrolled": true
   },
   "outputs": [
    {
     "data": {
      "text/plain": [
       "<AxesSubplot:>"
      ]
     },
     "execution_count": 36,
     "metadata": {},
     "output_type": "execute_result"
    },
    {
     "data": {
      "image/png": "[encoded data removed]",
      "text/plain": [
       "<Figure size 432x288 with 2 Axes>"
      ]
     },
     "metadata": {
      "needs_background": "light"
     },
     "output_type": "display_data"
    }
   ],
   "source": [
    "cor = train.corr()\n",
    "sns.heatmap(cor, annot=True)"
   ]
  },
  {
   "cell_type": "code",
   "execution_count": null,
   "metadata": {},
   "outputs": [],
   "source": []
  },
  {
   "cell_type": "code",
   "execution_count": 37,
   "metadata": {
    "scrolled": true
   },
   "outputs": [
    {
     "data": {
      "text/plain": [
       "(36704, 25)"
      ]
     },
     "execution_count": 37,
     "metadata": {},
     "output_type": "execute_result"
    }
   ],
   "source": [
    "df = train[~train.preferred_offer_types.isnull()]\n",
    "df.shape"
   ]
  },
  {
   "cell_type": "code",
   "execution_count": 38,
   "metadata": {
    "scrolled": true
   },
   "outputs": [
    {
     "data": {
      "text/plain": [
       "customer_id                     0.000000\n",
       "Name                            0.000000\n",
       "age                             0.000000\n",
       "gender                          0.000000\n",
       "security_no                     0.000000\n",
       "region_category                 0.146551\n",
       "membership_category             0.000000\n",
       "joining_date                    0.000000\n",
       "joined_through_referral         0.000000\n",
       "referral_id                     0.000000\n",
       "preferred_offer_types           0.000000\n",
       "medium_of_operation             0.000000\n",
       "internet_option                 0.000000\n",
       "last_visit_time                 0.000000\n",
       "days_since_last_login           0.000000\n",
       "avg_time_spent                  0.000000\n",
       "avg_transaction_value           0.000000\n",
       "avg_frequency_login_days        0.000000\n",
       "points_in_wallet                0.093069\n",
       "used_special_discount           0.000000\n",
       "offer_application_preference    0.000000\n",
       "past_complaint                  0.000000\n",
       "complaint_status                0.000000\n",
       "feedback                        0.000000\n",
       "churn_risk_score                0.000000\n",
       "dtype: float64"
      ]
     },
     "execution_count": 38,
     "metadata": {},
     "output_type": "execute_result"
    }
   ],
   "source": [
    "df.isnull().sum()/df.shape[0]"
   ]
  },
  {
   "cell_type": "code",
   "execution_count": 39,
   "metadata": {},
   "outputs": [
    {
     "data": {
      "text/plain": [
       "Not Applicable              18446\n",
       "Unsolved                     4615\n",
       "Solved                       4579\n",
       "Solved in Follow-up          4542\n",
       "No Information Available     4522\n",
       "Name: complaint_status, dtype: int64"
      ]
     },
     "execution_count": 39,
     "metadata": {},
     "output_type": "execute_result"
    }
   ],
   "source": [
    "df['complaint_status'].value_counts()"
   ]
  },
  {
   "cell_type": "code",
   "execution_count": 40,
   "metadata": {},
   "outputs": [
    {
     "data": {
      "text/plain": [
       "Desktop       13806\n",
       "Smartphone    13766\n",
       "?              5348\n",
       "Both           3784\n",
       "Name: medium_of_operation, dtype: int64"
      ]
     },
     "execution_count": 40,
     "metadata": {},
     "output_type": "execute_result"
    }
   ],
   "source": [
    "df['medium_of_operation'].value_counts()"
   ]
  },
  {
   "cell_type": "code",
   "execution_count": 41,
   "metadata": {},
   "outputs": [
    {
     "name": "stderr",
     "output_type": "stream",
     "text": [
      "D:\\Programs\\Anaconda\\lib\\site-packages\\pandas\\core\\series.py:4515: SettingWithCopyWarning: \n",
      "A value is trying to be set on a copy of a slice from a DataFrame\n",
      "\n",
      "See the caveats in the documentation: https://pandas.pydata.org/pandas-docs/stable/user_guide/indexing.html#returning-a-view-versus-a-copy\n",
      "  method=method,\n"
     ]
    }
   ],
   "source": [
    "df['medium_of_operation'].replace({'?': 'Unknown'}, inplace=True)"
   ]
  },
  {
   "cell_type": "code",
   "execution_count": 42,
   "metadata": {},
   "outputs": [
    {
     "data": {
      "text/plain": [
       "Poor Product Quality        6304\n",
       "No reason specified         6234\n",
       "Too many ads                6230\n",
       "Poor Website                6226\n",
       "Poor Customer Service       6195\n",
       "Reasonable Price            1408\n",
       "User Friendly Website       1382\n",
       "Products always in Stock    1371\n",
       "Quality Customer Care       1354\n",
       "Name: feedback, dtype: int64"
      ]
     },
     "execution_count": 42,
     "metadata": {},
     "output_type": "execute_result"
    }
   ],
   "source": [
    "df['feedback'].value_counts()"
   ]
  },
  {
   "cell_type": "code",
   "execution_count": null,
   "metadata": {},
   "outputs": [],
   "source": []
  },
  {
   "cell_type": "code",
   "execution_count": 43,
   "metadata": {},
   "outputs": [],
   "source": [
    "# pred_rc = df[['member']]"
   ]
  },
  {
   "cell_type": "code",
   "execution_count": null,
   "metadata": {},
   "outputs": [],
   "source": []
  },
  {
   "cell_type": "code",
   "execution_count": 44,
   "metadata": {},
   "outputs": [],
   "source": [
    "def dummy_encoding(col, df):\n",
    "    for i in col:\n",
    "        dummies = pd.get_dummies(df[i])\n",
    "#         print(i, dummies.columns)\n",
    "        col_list = [i+'_'+x for x in dummies.columns]\n",
    "        dummies.columns = col_list\n",
    "        df = pd.concat([df, dummies], axis=1)\n",
    "        df.drop([i], axis=1, inplace=True)\n",
    "#         print(df.shape)\n",
    "    return df"
   ]
  },
  {
   "cell_type": "code",
   "execution_count": 45,
   "metadata": {},
   "outputs": [],
   "source": [
    "enc_col = ['gender', 'region_category', 'membership_category', 'joined_through_referral', 'preferred_offer_types',\n",
    "        'medium_of_operation', 'internet_option', 'used_special_discount', 'offer_application_preference', 'past_complaint', \n",
    "        'complaint_status', 'feedback']"
   ]
  },
  {
   "cell_type": "code",
   "execution_count": 46,
   "metadata": {
    "scrolled": true
   },
   "outputs": [
    {
     "name": "stdout",
     "output_type": "stream",
     "text": [
      "gender Index(['F', 'M', 'Unknown'], dtype='object')\n",
      "(36704, 27)\n",
      "region_category Index(['City', 'Town', 'Village'], dtype='object')\n",
      "(36704, 29)\n",
      "membership_category Index(['Basic Membership', 'Gold Membership', 'No Membership',\n",
      "       'Platinum Membership', 'Premium Membership', 'Silver Membership'],\n",
      "      dtype='object')\n",
      "(36704, 34)\n",
      "joined_through_referral Index(['?', 'No', 'Yes'], dtype='object')\n",
      "(36704, 36)\n",
      "preferred_offer_types Index(['Credit/Debit Card Offers', 'Gift Vouchers/Coupons', 'Without Offers'], dtype='object')\n",
      "(36704, 38)\n",
      "medium_of_operation Index(['Both', 'Desktop', 'Smartphone', 'Unknown'], dtype='object')\n",
      "(36704, 41)\n",
      "internet_option Index(['Fiber_Optic', 'Mobile_Data', 'Wi-Fi'], dtype='object')\n",
      "(36704, 43)\n",
      "used_special_discount Index(['No', 'Yes'], dtype='object')\n",
      "(36704, 44)\n",
      "offer_application_preference Index(['No', 'Yes'], dtype='object')\n",
      "(36704, 45)\n",
      "past_complaint Index(['No', 'Yes'], dtype='object')\n",
      "(36704, 46)\n",
      "complaint_status Index(['No Information Available', 'Not Applicable', 'Solved',\n",
      "       'Solved in Follow-up', 'Unsolved'],\n",
      "      dtype='object')\n",
      "(36704, 50)\n",
      "feedback Index(['No reason specified', 'Poor Customer Service', 'Poor Product Quality',\n",
      "       'Poor Website', 'Products always in Stock', 'Quality Customer Care',\n",
      "       'Reasonable Price', 'Too many ads', 'User Friendly Website'],\n",
      "      dtype='object')\n",
      "(36704, 58)\n"
     ]
    },
    {
     "data": {
      "text/html": [
       "<div>\n",
       "<style scoped>\n",
       "    .dataframe tbody tr th:only-of-type {\n",
       "        vertical-align: middle;\n",
       "    }\n",
       "\n",
       "    .dataframe tbody tr th {\n",
       "        vertical-align: top;\n",
       "    }\n",
       "\n",
       "    .dataframe thead th {\n",
       "        text-align: right;\n",
       "    }\n",
       "</style>\n",
       "<table border=\"1\" class=\"dataframe\">\n",
       "  <thead>\n",
       "    <tr style=\"text-align: right;\">\n",
       "      <th></th>\n",
       "      <th>customer_id</th>\n",
       "      <th>Name</th>\n",
       "      <th>age</th>\n",
       "      <th>security_no</th>\n",
       "      <th>joining_date</th>\n",
       "      <th>referral_id</th>\n",
       "      <th>last_visit_time</th>\n",
       "      <th>days_since_last_login</th>\n",
       "      <th>avg_time_spent</th>\n",
       "      <th>avg_transaction_value</th>\n",
       "      <th>avg_frequency_login_days</th>\n",
       "      <th>points_in_wallet</th>\n",
       "      <th>churn_risk_score</th>\n",
       "      <th>gender_F</th>\n",
       "      <th>gender_M</th>\n",
       "      <th>gender_Unknown</th>\n",
       "      <th>region_category_City</th>\n",
       "      <th>region_category_Town</th>\n",
       "      <th>region_category_Village</th>\n",
       "      <th>membership_category_Basic Membership</th>\n",
       "      <th>membership_category_Gold Membership</th>\n",
       "      <th>membership_category_No Membership</th>\n",
       "      <th>membership_category_Platinum Membership</th>\n",
       "      <th>membership_category_Premium Membership</th>\n",
       "      <th>membership_category_Silver Membership</th>\n",
       "      <th>joined_through_referral_?</th>\n",
       "      <th>joined_through_referral_No</th>\n",
       "      <th>joined_through_referral_Yes</th>\n",
       "      <th>preferred_offer_types_Credit/Debit Card Offers</th>\n",
       "      <th>preferred_offer_types_Gift Vouchers/Coupons</th>\n",
       "      <th>preferred_offer_types_Without Offers</th>\n",
       "      <th>medium_of_operation_Both</th>\n",
       "      <th>medium_of_operation_Desktop</th>\n",
       "      <th>medium_of_operation_Smartphone</th>\n",
       "      <th>medium_of_operation_Unknown</th>\n",
       "      <th>internet_option_Fiber_Optic</th>\n",
       "      <th>internet_option_Mobile_Data</th>\n",
       "      <th>internet_option_Wi-Fi</th>\n",
       "      <th>used_special_discount_No</th>\n",
       "      <th>used_special_discount_Yes</th>\n",
       "      <th>offer_application_preference_No</th>\n",
       "      <th>offer_application_preference_Yes</th>\n",
       "      <th>past_complaint_No</th>\n",
       "      <th>past_complaint_Yes</th>\n",
       "      <th>complaint_status_No Information Available</th>\n",
       "      <th>complaint_status_Not Applicable</th>\n",
       "      <th>complaint_status_Solved</th>\n",
       "      <th>complaint_status_Solved in Follow-up</th>\n",
       "      <th>complaint_status_Unsolved</th>\n",
       "      <th>feedback_No reason specified</th>\n",
       "      <th>feedback_Poor Customer Service</th>\n",
       "      <th>feedback_Poor Product Quality</th>\n",
       "      <th>feedback_Poor Website</th>\n",
       "      <th>feedback_Products always in Stock</th>\n",
       "      <th>feedback_Quality Customer Care</th>\n",
       "      <th>feedback_Reasonable Price</th>\n",
       "      <th>feedback_Too many ads</th>\n",
       "      <th>feedback_User Friendly Website</th>\n",
       "    </tr>\n",
       "  </thead>\n",
       "  <tbody>\n",
       "    <tr>\n",
       "      <th>0</th>\n",
       "      <td>fffe4300490044003600300030003800</td>\n",
       "      <td>Pattie Morrisey</td>\n",
       "      <td>18</td>\n",
       "      <td>XW0DQ7H</td>\n",
       "      <td>2017-08-17</td>\n",
       "      <td>xxxxxxxx</td>\n",
       "      <td>16:08:02</td>\n",
       "      <td>17</td>\n",
       "      <td>300.63</td>\n",
       "      <td>53005.25</td>\n",
       "      <td>17.0</td>\n",
       "      <td>781.75</td>\n",
       "      <td>2</td>\n",
       "      <td>1</td>\n",
       "      <td>0</td>\n",
       "      <td>0</td>\n",
       "      <td>0</td>\n",
       "      <td>0</td>\n",
       "      <td>1</td>\n",
       "      <td>0</td>\n",
       "      <td>0</td>\n",
       "      <td>0</td>\n",
       "      <td>1</td>\n",
       "      <td>0</td>\n",
       "      <td>0</td>\n",
       "      <td>0</td>\n",
       "      <td>1</td>\n",
       "      <td>0</td>\n",
       "      <td>0</td>\n",
       "      <td>1</td>\n",
       "      <td>0</td>\n",
       "      <td>0</td>\n",
       "      <td>0</td>\n",
       "      <td>0</td>\n",
       "      <td>1</td>\n",
       "      <td>0</td>\n",
       "      <td>0</td>\n",
       "      <td>1</td>\n",
       "      <td>0</td>\n",
       "      <td>1</td>\n",
       "      <td>0</td>\n",
       "      <td>1</td>\n",
       "      <td>1</td>\n",
       "      <td>0</td>\n",
       "      <td>0</td>\n",
       "      <td>1</td>\n",
       "      <td>0</td>\n",
       "      <td>0</td>\n",
       "      <td>0</td>\n",
       "      <td>0</td>\n",
       "      <td>0</td>\n",
       "      <td>0</td>\n",
       "      <td>0</td>\n",
       "      <td>1</td>\n",
       "      <td>0</td>\n",
       "      <td>0</td>\n",
       "      <td>0</td>\n",
       "      <td>0</td>\n",
       "    </tr>\n",
       "    <tr>\n",
       "      <th>1</th>\n",
       "      <td>fffe43004900440032003100300035003700</td>\n",
       "      <td>Traci Peery</td>\n",
       "      <td>32</td>\n",
       "      <td>5K0N3X1</td>\n",
       "      <td>2017-08-28</td>\n",
       "      <td>CID21329</td>\n",
       "      <td>12:38:13</td>\n",
       "      <td>16</td>\n",
       "      <td>306.34</td>\n",
       "      <td>12838.38</td>\n",
       "      <td>10.0</td>\n",
       "      <td>NaN</td>\n",
       "      <td>1</td>\n",
       "      <td>1</td>\n",
       "      <td>0</td>\n",
       "      <td>0</td>\n",
       "      <td>1</td>\n",
       "      <td>0</td>\n",
       "      <td>0</td>\n",
       "      <td>0</td>\n",
       "      <td>0</td>\n",
       "      <td>0</td>\n",
       "      <td>0</td>\n",
       "      <td>1</td>\n",
       "      <td>0</td>\n",
       "      <td>1</td>\n",
       "      <td>0</td>\n",
       "      <td>0</td>\n",
       "      <td>0</td>\n",
       "      <td>1</td>\n",
       "      <td>0</td>\n",
       "      <td>0</td>\n",
       "      <td>1</td>\n",
       "      <td>0</td>\n",
       "      <td>0</td>\n",
       "      <td>0</td>\n",
       "      <td>1</td>\n",
       "      <td>0</td>\n",
       "      <td>0</td>\n",
       "      <td>1</td>\n",
       "      <td>1</td>\n",
       "      <td>0</td>\n",
       "      <td>0</td>\n",
       "      <td>1</td>\n",
       "      <td>0</td>\n",
       "      <td>0</td>\n",
       "      <td>1</td>\n",
       "      <td>0</td>\n",
       "      <td>0</td>\n",
       "      <td>0</td>\n",
       "      <td>0</td>\n",
       "      <td>0</td>\n",
       "      <td>0</td>\n",
       "      <td>0</td>\n",
       "      <td>1</td>\n",
       "      <td>0</td>\n",
       "      <td>0</td>\n",
       "      <td>0</td>\n",
       "    </tr>\n",
       "  </tbody>\n",
       "</table>\n",
       "</div>"
      ],
      "text/plain": [
       "                            customer_id             Name  age security_no  \\\n",
       "0      fffe4300490044003600300030003800  Pattie Morrisey   18     XW0DQ7H   \n",
       "1  fffe43004900440032003100300035003700      Traci Peery   32     5K0N3X1   \n",
       "\n",
       "  joining_date referral_id last_visit_time  days_since_last_login  \\\n",
       "0   2017-08-17    xxxxxxxx        16:08:02                     17   \n",
       "1   2017-08-28    CID21329        12:38:13                     16   \n",
       "\n",
       "   avg_time_spent  avg_transaction_value avg_frequency_login_days  \\\n",
       "0          300.63               53005.25                     17.0   \n",
       "1          306.34               12838.38                     10.0   \n",
       "\n",
       "   points_in_wallet  churn_risk_score  gender_F  gender_M  gender_Unknown  \\\n",
       "0            781.75                 2         1         0               0   \n",
       "1               NaN                 1         1         0               0   \n",
       "\n",
       "   region_category_City  region_category_Town  region_category_Village  \\\n",
       "0                     0                     0                        1   \n",
       "1                     1                     0                        0   \n",
       "\n",
       "   membership_category_Basic Membership  membership_category_Gold Membership  \\\n",
       "0                                     0                                    0   \n",
       "1                                     0                                    0   \n",
       "\n",
       "   membership_category_No Membership  membership_category_Platinum Membership  \\\n",
       "0                                  0                                        1   \n",
       "1                                  0                                        0   \n",
       "\n",
       "   membership_category_Premium Membership  \\\n",
       "0                                       0   \n",
       "1                                       1   \n",
       "\n",
       "   membership_category_Silver Membership  joined_through_referral_?  \\\n",
       "0                                      0                          0   \n",
       "1                                      0                          1   \n",
       "\n",
       "   joined_through_referral_No  joined_through_referral_Yes  \\\n",
       "0                           1                            0   \n",
       "1                           0                            0   \n",
       "\n",
       "   preferred_offer_types_Credit/Debit Card Offers  \\\n",
       "0                                               0   \n",
       "1                                               0   \n",
       "\n",
       "   preferred_offer_types_Gift Vouchers/Coupons  \\\n",
       "0                                            1   \n",
       "1                                            1   \n",
       "\n",
       "   preferred_offer_types_Without Offers  medium_of_operation_Both  \\\n",
       "0                                     0                         0   \n",
       "1                                     0                         0   \n",
       "\n",
       "   medium_of_operation_Desktop  medium_of_operation_Smartphone  \\\n",
       "0                            0                               0   \n",
       "1                            1                               0   \n",
       "\n",
       "   medium_of_operation_Unknown  internet_option_Fiber_Optic  \\\n",
       "0                            1                            0   \n",
       "1                            0                            0   \n",
       "\n",
       "   internet_option_Mobile_Data  internet_option_Wi-Fi  \\\n",
       "0                            0                      1   \n",
       "1                            1                      0   \n",
       "\n",
       "   used_special_discount_No  used_special_discount_Yes  \\\n",
       "0                         0                          1   \n",
       "1                         0                          1   \n",
       "\n",
       "   offer_application_preference_No  offer_application_preference_Yes  \\\n",
       "0                                0                                 1   \n",
       "1                                1                                 0   \n",
       "\n",
       "   past_complaint_No  past_complaint_Yes  \\\n",
       "0                  1                   0   \n",
       "1                  0                   1   \n",
       "\n",
       "   complaint_status_No Information Available  complaint_status_Not Applicable  \\\n",
       "0                                          0                                1   \n",
       "1                                          0                                0   \n",
       "\n",
       "   complaint_status_Solved  complaint_status_Solved in Follow-up  \\\n",
       "0                        0                                     0   \n",
       "1                        1                                     0   \n",
       "\n",
       "   complaint_status_Unsolved  feedback_No reason specified  \\\n",
       "0                          0                             0   \n",
       "1                          0                             0   \n",
       "\n",
       "   feedback_Poor Customer Service  feedback_Poor Product Quality  \\\n",
       "0                               0                              0   \n",
       "1                               0                              0   \n",
       "\n",
       "   feedback_Poor Website  feedback_Products always in Stock  \\\n",
       "0                      0                                  1   \n",
       "1                      0                                  0   \n",
       "\n",
       "   feedback_Quality Customer Care  feedback_Reasonable Price  \\\n",
       "0                               0                          0   \n",
       "1                               1                          0   \n",
       "\n",
       "   feedback_Too many ads  feedback_User Friendly Website  \n",
       "0                      0                               0  \n",
       "1                      0                               0  "
      ]
     },
     "execution_count": 46,
     "metadata": {},
     "output_type": "execute_result"
    }
   ],
   "source": [
    "df = dummy_encoding(enc_col, df)\n",
    "df.head(2)"
   ]
  },
  {
   "cell_type": "code",
   "execution_count": 47,
   "metadata": {},
   "outputs": [],
   "source": [
    "df['referral_status'] = df['referral_id'].apply(lambda x: 0 if x=='xxxxxxxx' else 1)"
   ]
  },
  {
   "cell_type": "code",
   "execution_count": 48,
   "metadata": {},
   "outputs": [
    {
     "data": {
      "text/plain": [
       "1    18982\n",
       "0    17722\n",
       "Name: referral_status, dtype: int64"
      ]
     },
     "execution_count": 48,
     "metadata": {},
     "output_type": "execute_result"
    }
   ],
   "source": [
    "df['referral_status'].value_counts()"
   ]
  },
  {
   "cell_type": "code",
   "execution_count": 49,
   "metadata": {},
   "outputs": [
    {
     "data": {
      "text/plain": [
       "dtype('float64')"
      ]
     },
     "execution_count": 49,
     "metadata": {},
     "output_type": "execute_result"
    }
   ],
   "source": [
    "df['avg_frequency_login_days'] = df['avg_frequency_login_days'].apply(lambda x: 0 if x=='Error' else x)\n",
    "df['avg_frequency_login_days'] = df['avg_frequency_login_days'].astype('float')\n",
    "df['avg_frequency_login_days'].dtype"
   ]
  },
  {
   "cell_type": "code",
   "execution_count": 52,
   "metadata": {},
   "outputs": [
    {
     "data": {
      "text/plain": [
       "count    33288.000000\n",
       "mean       686.919871\n",
       "std        193.947572\n",
       "min       -760.661236\n",
       "25%        616.075000\n",
       "50%        697.665000\n",
       "75%        763.955000\n",
       "max       2069.069761\n",
       "Name: points_in_wallet, dtype: float64"
      ]
     },
     "execution_count": 52,
     "metadata": {},
     "output_type": "execute_result"
    }
   ],
   "source": [
    "df['points_in_wallet'].describe()"
   ]
  },
  {
   "cell_type": "code",
   "execution_count": null,
   "metadata": {},
   "outputs": [],
   "source": []
  },
  {
   "cell_type": "markdown",
   "metadata": {},
   "source": [
    "## Processing Test Data"
   ]
  },
  {
   "cell_type": "code",
   "execution_count": null,
   "metadata": {},
   "outputs": [],
   "source": [
    "test_df = dummy_encoding(enc_col, test)"
   ]
  },
  {
   "cell_type": "code",
   "execution_count": 140,
   "metadata": {
    "scrolled": true
   },
   "outputs": [
    {
     "data": {
      "text/plain": [
       "dtype('float64')"
      ]
     },
     "execution_count": 140,
     "metadata": {},
     "output_type": "execute_result"
    }
   ],
   "source": [
    "test_df['referral_status'] = test_df['referral_id'].apply(lambda x: 0 if x=='xxxxxxxx' else 1)\n",
    "test_df['avg_frequency_login_days'] = test_df['avg_frequency_login_days'].apply(lambda x: 0 if x=='Error' else x)\n",
    "test_df['avg_frequency_login_days'] = test_df['avg_frequency_login_days'].astype('float')\n",
    "test_df['avg_frequency_login_days'].dtype"
   ]
  },
  {
   "cell_type": "code",
   "execution_count": 142,
   "metadata": {},
   "outputs": [
    {
     "data": {
      "text/html": [
       "<div>\n",
       "<style scoped>\n",
       "    .dataframe tbody tr th:only-of-type {\n",
       "        vertical-align: middle;\n",
       "    }\n",
       "\n",
       "    .dataframe tbody tr th {\n",
       "        vertical-align: top;\n",
       "    }\n",
       "\n",
       "    .dataframe thead th {\n",
       "        text-align: right;\n",
       "    }\n",
       "</style>\n",
       "<table border=\"1\" class=\"dataframe\">\n",
       "  <thead>\n",
       "    <tr style=\"text-align: right;\">\n",
       "      <th></th>\n",
       "      <th>age</th>\n",
       "      <th>days_since_last_login</th>\n",
       "      <th>avg_time_spent</th>\n",
       "      <th>avg_transaction_value</th>\n",
       "      <th>avg_frequency_login_days</th>\n",
       "      <th>points_in_wallet</th>\n",
       "      <th>gender_F</th>\n",
       "      <th>gender_M</th>\n",
       "      <th>gender_Unknown</th>\n",
       "      <th>region_category_City</th>\n",
       "      <th>region_category_Town</th>\n",
       "      <th>region_category_Village</th>\n",
       "      <th>membership_category_Basic Membership</th>\n",
       "      <th>membership_category_Gold Membership</th>\n",
       "      <th>membership_category_No Membership</th>\n",
       "      <th>membership_category_Platinum Membership</th>\n",
       "      <th>membership_category_Premium Membership</th>\n",
       "      <th>membership_category_Silver Membership</th>\n",
       "      <th>joined_through_referral_?</th>\n",
       "      <th>joined_through_referral_No</th>\n",
       "      <th>joined_through_referral_Yes</th>\n",
       "      <th>preferred_offer_types_Credit/Debit Card Offers</th>\n",
       "      <th>preferred_offer_types_Gift Vouchers/Coupons</th>\n",
       "      <th>preferred_offer_types_Without Offers</th>\n",
       "      <th>medium_of_operation_?</th>\n",
       "      <th>medium_of_operation_Both</th>\n",
       "      <th>medium_of_operation_Desktop</th>\n",
       "      <th>medium_of_operation_Smartphone</th>\n",
       "      <th>internet_option_Fiber_Optic</th>\n",
       "      <th>internet_option_Mobile_Data</th>\n",
       "      <th>internet_option_Wi-Fi</th>\n",
       "      <th>used_special_discount_No</th>\n",
       "      <th>used_special_discount_Yes</th>\n",
       "      <th>offer_application_preference_No</th>\n",
       "      <th>offer_application_preference_Yes</th>\n",
       "      <th>past_complaint_No</th>\n",
       "      <th>past_complaint_Yes</th>\n",
       "      <th>complaint_status_No Information Available</th>\n",
       "      <th>complaint_status_Not Applicable</th>\n",
       "      <th>complaint_status_Solved</th>\n",
       "      <th>complaint_status_Solved in Follow-up</th>\n",
       "      <th>complaint_status_Unsolved</th>\n",
       "      <th>feedback_No reason specified</th>\n",
       "      <th>feedback_Poor Customer Service</th>\n",
       "      <th>feedback_Poor Product Quality</th>\n",
       "      <th>feedback_Poor Website</th>\n",
       "      <th>feedback_Products always in Stock</th>\n",
       "      <th>feedback_Quality Customer Care</th>\n",
       "      <th>feedback_Reasonable Price</th>\n",
       "      <th>feedback_Too many ads</th>\n",
       "      <th>feedback_User Friendly Website</th>\n",
       "      <th>referral_status</th>\n",
       "    </tr>\n",
       "  </thead>\n",
       "  <tbody>\n",
       "    <tr>\n",
       "      <th>0</th>\n",
       "      <td>50</td>\n",
       "      <td>12</td>\n",
       "      <td>386.26</td>\n",
       "      <td>40721.44</td>\n",
       "      <td>7.0</td>\n",
       "      <td>733.830000</td>\n",
       "      <td>1</td>\n",
       "      <td>0</td>\n",
       "      <td>0</td>\n",
       "      <td>0</td>\n",
       "      <td>0</td>\n",
       "      <td>1</td>\n",
       "      <td>0</td>\n",
       "      <td>0</td>\n",
       "      <td>0</td>\n",
       "      <td>0</td>\n",
       "      <td>1</td>\n",
       "      <td>0</td>\n",
       "      <td>0</td>\n",
       "      <td>1</td>\n",
       "      <td>0</td>\n",
       "      <td>0</td>\n",
       "      <td>0</td>\n",
       "      <td>1</td>\n",
       "      <td>0</td>\n",
       "      <td>0</td>\n",
       "      <td>0</td>\n",
       "      <td>1</td>\n",
       "      <td>0</td>\n",
       "      <td>0</td>\n",
       "      <td>1</td>\n",
       "      <td>0</td>\n",
       "      <td>1</td>\n",
       "      <td>1</td>\n",
       "      <td>0</td>\n",
       "      <td>1</td>\n",
       "      <td>0</td>\n",
       "      <td>0</td>\n",
       "      <td>1</td>\n",
       "      <td>0</td>\n",
       "      <td>0</td>\n",
       "      <td>0</td>\n",
       "      <td>0</td>\n",
       "      <td>0</td>\n",
       "      <td>1</td>\n",
       "      <td>0</td>\n",
       "      <td>0</td>\n",
       "      <td>0</td>\n",
       "      <td>0</td>\n",
       "      <td>0</td>\n",
       "      <td>0</td>\n",
       "      <td>0</td>\n",
       "    </tr>\n",
       "    <tr>\n",
       "      <th>1</th>\n",
       "      <td>41</td>\n",
       "      <td>11</td>\n",
       "      <td>37.80</td>\n",
       "      <td>9644.40</td>\n",
       "      <td>9.0</td>\n",
       "      <td>726.000000</td>\n",
       "      <td>0</td>\n",
       "      <td>1</td>\n",
       "      <td>0</td>\n",
       "      <td>0</td>\n",
       "      <td>0</td>\n",
       "      <td>1</td>\n",
       "      <td>0</td>\n",
       "      <td>1</td>\n",
       "      <td>0</td>\n",
       "      <td>0</td>\n",
       "      <td>0</td>\n",
       "      <td>0</td>\n",
       "      <td>0</td>\n",
       "      <td>1</td>\n",
       "      <td>0</td>\n",
       "      <td>0</td>\n",
       "      <td>0</td>\n",
       "      <td>1</td>\n",
       "      <td>0</td>\n",
       "      <td>0</td>\n",
       "      <td>1</td>\n",
       "      <td>0</td>\n",
       "      <td>1</td>\n",
       "      <td>0</td>\n",
       "      <td>0</td>\n",
       "      <td>0</td>\n",
       "      <td>1</td>\n",
       "      <td>1</td>\n",
       "      <td>0</td>\n",
       "      <td>1</td>\n",
       "      <td>0</td>\n",
       "      <td>0</td>\n",
       "      <td>1</td>\n",
       "      <td>0</td>\n",
       "      <td>0</td>\n",
       "      <td>0</td>\n",
       "      <td>0</td>\n",
       "      <td>0</td>\n",
       "      <td>0</td>\n",
       "      <td>1</td>\n",
       "      <td>0</td>\n",
       "      <td>0</td>\n",
       "      <td>0</td>\n",
       "      <td>0</td>\n",
       "      <td>0</td>\n",
       "      <td>0</td>\n",
       "    </tr>\n",
       "    <tr>\n",
       "      <th>2</th>\n",
       "      <td>31</td>\n",
       "      <td>18</td>\n",
       "      <td>215.36</td>\n",
       "      <td>3693.25</td>\n",
       "      <td>21.0</td>\n",
       "      <td>713.780000</td>\n",
       "      <td>1</td>\n",
       "      <td>0</td>\n",
       "      <td>0</td>\n",
       "      <td>0</td>\n",
       "      <td>1</td>\n",
       "      <td>0</td>\n",
       "      <td>0</td>\n",
       "      <td>0</td>\n",
       "      <td>0</td>\n",
       "      <td>0</td>\n",
       "      <td>0</td>\n",
       "      <td>1</td>\n",
       "      <td>0</td>\n",
       "      <td>1</td>\n",
       "      <td>0</td>\n",
       "      <td>0</td>\n",
       "      <td>1</td>\n",
       "      <td>0</td>\n",
       "      <td>0</td>\n",
       "      <td>1</td>\n",
       "      <td>0</td>\n",
       "      <td>0</td>\n",
       "      <td>0</td>\n",
       "      <td>1</td>\n",
       "      <td>0</td>\n",
       "      <td>0</td>\n",
       "      <td>1</td>\n",
       "      <td>1</td>\n",
       "      <td>0</td>\n",
       "      <td>0</td>\n",
       "      <td>1</td>\n",
       "      <td>0</td>\n",
       "      <td>0</td>\n",
       "      <td>0</td>\n",
       "      <td>1</td>\n",
       "      <td>0</td>\n",
       "      <td>1</td>\n",
       "      <td>0</td>\n",
       "      <td>0</td>\n",
       "      <td>0</td>\n",
       "      <td>0</td>\n",
       "      <td>0</td>\n",
       "      <td>0</td>\n",
       "      <td>0</td>\n",
       "      <td>0</td>\n",
       "      <td>0</td>\n",
       "    </tr>\n",
       "    <tr>\n",
       "      <th>3</th>\n",
       "      <td>64</td>\n",
       "      <td>-999</td>\n",
       "      <td>44.57</td>\n",
       "      <td>36809.56</td>\n",
       "      <td>11.0</td>\n",
       "      <td>744.970000</td>\n",
       "      <td>0</td>\n",
       "      <td>1</td>\n",
       "      <td>0</td>\n",
       "      <td>0</td>\n",
       "      <td>1</td>\n",
       "      <td>0</td>\n",
       "      <td>0</td>\n",
       "      <td>0</td>\n",
       "      <td>0</td>\n",
       "      <td>0</td>\n",
       "      <td>0</td>\n",
       "      <td>1</td>\n",
       "      <td>0</td>\n",
       "      <td>0</td>\n",
       "      <td>1</td>\n",
       "      <td>1</td>\n",
       "      <td>0</td>\n",
       "      <td>0</td>\n",
       "      <td>1</td>\n",
       "      <td>0</td>\n",
       "      <td>0</td>\n",
       "      <td>0</td>\n",
       "      <td>1</td>\n",
       "      <td>0</td>\n",
       "      <td>0</td>\n",
       "      <td>0</td>\n",
       "      <td>1</td>\n",
       "      <td>1</td>\n",
       "      <td>0</td>\n",
       "      <td>0</td>\n",
       "      <td>1</td>\n",
       "      <td>1</td>\n",
       "      <td>0</td>\n",
       "      <td>0</td>\n",
       "      <td>0</td>\n",
       "      <td>0</td>\n",
       "      <td>0</td>\n",
       "      <td>0</td>\n",
       "      <td>0</td>\n",
       "      <td>0</td>\n",
       "      <td>0</td>\n",
       "      <td>0</td>\n",
       "      <td>0</td>\n",
       "      <td>1</td>\n",
       "      <td>0</td>\n",
       "      <td>1</td>\n",
       "    </tr>\n",
       "    <tr>\n",
       "      <th>4</th>\n",
       "      <td>16</td>\n",
       "      <td>6</td>\n",
       "      <td>349.88</td>\n",
       "      <td>40675.86</td>\n",
       "      <td>8.0</td>\n",
       "      <td>299.048351</td>\n",
       "      <td>1</td>\n",
       "      <td>0</td>\n",
       "      <td>0</td>\n",
       "      <td>0</td>\n",
       "      <td>1</td>\n",
       "      <td>0</td>\n",
       "      <td>0</td>\n",
       "      <td>0</td>\n",
       "      <td>1</td>\n",
       "      <td>0</td>\n",
       "      <td>0</td>\n",
       "      <td>0</td>\n",
       "      <td>0</td>\n",
       "      <td>0</td>\n",
       "      <td>1</td>\n",
       "      <td>0</td>\n",
       "      <td>0</td>\n",
       "      <td>1</td>\n",
       "      <td>0</td>\n",
       "      <td>0</td>\n",
       "      <td>0</td>\n",
       "      <td>1</td>\n",
       "      <td>0</td>\n",
       "      <td>1</td>\n",
       "      <td>0</td>\n",
       "      <td>1</td>\n",
       "      <td>0</td>\n",
       "      <td>0</td>\n",
       "      <td>1</td>\n",
       "      <td>0</td>\n",
       "      <td>1</td>\n",
       "      <td>0</td>\n",
       "      <td>0</td>\n",
       "      <td>0</td>\n",
       "      <td>1</td>\n",
       "      <td>0</td>\n",
       "      <td>0</td>\n",
       "      <td>0</td>\n",
       "      <td>0</td>\n",
       "      <td>1</td>\n",
       "      <td>0</td>\n",
       "      <td>0</td>\n",
       "      <td>0</td>\n",
       "      <td>0</td>\n",
       "      <td>0</td>\n",
       "      <td>1</td>\n",
       "    </tr>\n",
       "  </tbody>\n",
       "</table>\n",
       "</div>"
      ],
      "text/plain": [
       "   age  days_since_last_login  avg_time_spent  avg_transaction_value  \\\n",
       "0   50                     12          386.26               40721.44   \n",
       "1   41                     11           37.80                9644.40   \n",
       "2   31                     18          215.36                3693.25   \n",
       "3   64                   -999           44.57               36809.56   \n",
       "4   16                      6          349.88               40675.86   \n",
       "\n",
       "   avg_frequency_login_days  points_in_wallet  gender_F  gender_M  \\\n",
       "0                       7.0        733.830000         1         0   \n",
       "1                       9.0        726.000000         0         1   \n",
       "2                      21.0        713.780000         1         0   \n",
       "3                      11.0        744.970000         0         1   \n",
       "4                       8.0        299.048351         1         0   \n",
       "\n",
       "   gender_Unknown  region_category_City  region_category_Town  \\\n",
       "0               0                     0                     0   \n",
       "1               0                     0                     0   \n",
       "2               0                     0                     1   \n",
       "3               0                     0                     1   \n",
       "4               0                     0                     1   \n",
       "\n",
       "   region_category_Village  membership_category_Basic Membership  \\\n",
       "0                        1                                     0   \n",
       "1                        1                                     0   \n",
       "2                        0                                     0   \n",
       "3                        0                                     0   \n",
       "4                        0                                     0   \n",
       "\n",
       "   membership_category_Gold Membership  membership_category_No Membership  \\\n",
       "0                                    0                                  0   \n",
       "1                                    1                                  0   \n",
       "2                                    0                                  0   \n",
       "3                                    0                                  0   \n",
       "4                                    0                                  1   \n",
       "\n",
       "   membership_category_Platinum Membership  \\\n",
       "0                                        0   \n",
       "1                                        0   \n",
       "2                                        0   \n",
       "3                                        0   \n",
       "4                                        0   \n",
       "\n",
       "   membership_category_Premium Membership  \\\n",
       "0                                       1   \n",
       "1                                       0   \n",
       "2                                       0   \n",
       "3                                       0   \n",
       "4                                       0   \n",
       "\n",
       "   membership_category_Silver Membership  joined_through_referral_?  \\\n",
       "0                                      0                          0   \n",
       "1                                      0                          0   \n",
       "2                                      1                          0   \n",
       "3                                      1                          0   \n",
       "4                                      0                          0   \n",
       "\n",
       "   joined_through_referral_No  joined_through_referral_Yes  \\\n",
       "0                           1                            0   \n",
       "1                           1                            0   \n",
       "2                           1                            0   \n",
       "3                           0                            1   \n",
       "4                           0                            1   \n",
       "\n",
       "   preferred_offer_types_Credit/Debit Card Offers  \\\n",
       "0                                               0   \n",
       "1                                               0   \n",
       "2                                               0   \n",
       "3                                               1   \n",
       "4                                               0   \n",
       "\n",
       "   preferred_offer_types_Gift Vouchers/Coupons  \\\n",
       "0                                            0   \n",
       "1                                            0   \n",
       "2                                            1   \n",
       "3                                            0   \n",
       "4                                            0   \n",
       "\n",
       "   preferred_offer_types_Without Offers  medium_of_operation_?  \\\n",
       "0                                     1                      0   \n",
       "1                                     1                      0   \n",
       "2                                     0                      0   \n",
       "3                                     0                      1   \n",
       "4                                     1                      0   \n",
       "\n",
       "   medium_of_operation_Both  medium_of_operation_Desktop  \\\n",
       "0                         0                            0   \n",
       "1                         0                            1   \n",
       "2                         1                            0   \n",
       "3                         0                            0   \n",
       "4                         0                            0   \n",
       "\n",
       "   medium_of_operation_Smartphone  internet_option_Fiber_Optic  \\\n",
       "0                               1                            0   \n",
       "1                               0                            1   \n",
       "2                               0                            0   \n",
       "3                               0                            1   \n",
       "4                               1                            0   \n",
       "\n",
       "   internet_option_Mobile_Data  internet_option_Wi-Fi  \\\n",
       "0                            0                      1   \n",
       "1                            0                      0   \n",
       "2                            1                      0   \n",
       "3                            0                      0   \n",
       "4                            1                      0   \n",
       "\n",
       "   used_special_discount_No  used_special_discount_Yes  \\\n",
       "0                         0                          1   \n",
       "1                         0                          1   \n",
       "2                         0                          1   \n",
       "3                         0                          1   \n",
       "4                         1                          0   \n",
       "\n",
       "   offer_application_preference_No  offer_application_preference_Yes  \\\n",
       "0                                1                                 0   \n",
       "1                                1                                 0   \n",
       "2                                1                                 0   \n",
       "3                                1                                 0   \n",
       "4                                0                                 1   \n",
       "\n",
       "   past_complaint_No  past_complaint_Yes  \\\n",
       "0                  1                   0   \n",
       "1                  1                   0   \n",
       "2                  0                   1   \n",
       "3                  0                   1   \n",
       "4                  0                   1   \n",
       "\n",
       "   complaint_status_No Information Available  complaint_status_Not Applicable  \\\n",
       "0                                          0                                1   \n",
       "1                                          0                                1   \n",
       "2                                          0                                0   \n",
       "3                                          1                                0   \n",
       "4                                          0                                0   \n",
       "\n",
       "   complaint_status_Solved  complaint_status_Solved in Follow-up  \\\n",
       "0                        0                                     0   \n",
       "1                        0                                     0   \n",
       "2                        0                                     1   \n",
       "3                        0                                     0   \n",
       "4                        0                                     1   \n",
       "\n",
       "   complaint_status_Unsolved  feedback_No reason specified  \\\n",
       "0                          0                             0   \n",
       "1                          0                             0   \n",
       "2                          0                             1   \n",
       "3                          0                             0   \n",
       "4                          0                             0   \n",
       "\n",
       "   feedback_Poor Customer Service  feedback_Poor Product Quality  \\\n",
       "0                               0                              1   \n",
       "1                               0                              0   \n",
       "2                               0                              0   \n",
       "3                               0                              0   \n",
       "4                               0                              0   \n",
       "\n",
       "   feedback_Poor Website  feedback_Products always in Stock  \\\n",
       "0                      0                                  0   \n",
       "1                      1                                  0   \n",
       "2                      0                                  0   \n",
       "3                      0                                  0   \n",
       "4                      1                                  0   \n",
       "\n",
       "   feedback_Quality Customer Care  feedback_Reasonable Price  \\\n",
       "0                               0                          0   \n",
       "1                               0                          0   \n",
       "2                               0                          0   \n",
       "3                               0                          0   \n",
       "4                               0                          0   \n",
       "\n",
       "   feedback_Too many ads  feedback_User Friendly Website  referral_status  \n",
       "0                      0                               0                0  \n",
       "1                      0                               0                0  \n",
       "2                      0                               0                0  \n",
       "3                      1                               0                1  \n",
       "4                      0                               0                1  "
      ]
     },
     "execution_count": 142,
     "metadata": {},
     "output_type": "execute_result"
    }
   ],
   "source": [
    "test_df = test_df.drop(['customer_id', 'Name', 'security_no', 'joining_date', 'referral_id', 'last_visit_time'], axis=1)\n",
    "test_df.head()"
   ]
  },
  {
   "cell_type": "code",
   "execution_count": 143,
   "metadata": {},
   "outputs": [
    {
     "data": {
      "text/plain": [
       "((19919, 52), (21279, 52))"
      ]
     },
     "execution_count": 143,
     "metadata": {},
     "output_type": "execute_result"
    }
   ],
   "source": [
    "test_df.shape, x_train.shape"
   ]
  },
  {
   "cell_type": "code",
   "execution_count": 148,
   "metadata": {},
   "outputs": [],
   "source": []
  },
  {
   "cell_type": "code",
   "execution_count": null,
   "metadata": {},
   "outputs": [],
   "source": []
  }
 ],
 "metadata": {
  "kernelspec": {
   "display_name": "Python 3",
   "language": "python",
   "name": "python3"
  },
  "language_info": {
   "codemirror_mode": {
    "name": "ipython",
    "version": 3
   },
   "file_extension": ".py",
   "mimetype": "text/x-python",
   "name": "python",
   "nbconvert_exporter": "python",
   "pygments_lexer": "ipython3",
   "version": "3.7.9"
  }
 },
 "nbformat": 4,
 "nbformat_minor": 4
}
